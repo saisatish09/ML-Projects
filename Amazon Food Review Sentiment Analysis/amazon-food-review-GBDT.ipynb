{
 "cells": [
  {
   "cell_type": "markdown",
   "metadata": {
    "_uuid": "3fd11623c98b32347b5eb9ee72975a1caed1a831"
   },
   "source": [
    "##### **Assignment 09 - Applying Random Forest Algorithm on Amazon Food Review Dataset**"
   ]
  },
  {
   "cell_type": "markdown",
   "metadata": {
    "_uuid": "ec75a9e3a17399e3a031be3a9c30be476ed20452"
   },
   "source": [
    "## **Overall Summary**"
   ]
  },
  {
   "cell_type": "markdown",
   "metadata": {
    "_uuid": "201e730053d3391d1020e2c12ff56dd27f716a5f"
   },
   "source": [
    "\n",
    "Below are few steps that I have followed while doing this assignments. \n",
    "* **Data Preprocessing -** Used the code given by AAIC in the python notebook for initial data pre-processing (Creating Clean review).\n",
    "* **Feature Engineering -** Tried to replicate some of the work I have learnt in a Data Science workshop by DJ(Dipankar). Along with Character Count I have tried to implement some of the feature engineering techniques he showed in NLP. The workshop is very interesting where he has showed the one of the library called **TextBlob** to calculate the positive polarity and negative polarity which is mainly used for **Sentiment Analysis**. All the credits goes to DJ (Dipankar) for his amazing contributions in Medium, Github and great books in Text Analytics. Also I will be using some of the techniques he used in his workshops or Text Books in the future Assignments\n",
    "* **Stackoverflow-** Because of non-computer science background, I have depended on this amazing coding community for some of the coding issues I faced. I have attached the Links where the logic has been taken for building / improving the models. All the credits goes to the amazing programmers who constantly answers all the questions posed on it. To mention I have tairlored these according to my requirement."
   ]
  },
  {
   "cell_type": "code",
   "execution_count": 1,
   "metadata": {
    "_uuid": "462a5a97ebfbc2337d6a65754c388ed2cc862ed2"
   },
   "outputs": [
    {
     "name": "stderr",
     "output_type": "stream",
     "text": [
      "/opt/conda/lib/python3.6/site-packages/smart_open/ssh.py:34: UserWarning: paramiko missing, opening SSH/SCP/SFTP paths will be disabled.  `pip install paramiko` to suppress\n",
      "  warnings.warn('paramiko missing, opening SSH/SCP/SFTP paths will be disabled.  `pip install paramiko` to suppress')\n"
     ]
    }
   ],
   "source": [
    "## Calling all the required Libraries\n",
    "%matplotlib inline\n",
    "import warnings\n",
    "warnings.filterwarnings(\"ignore\")\n",
    "\n",
    "import sqlite3\n",
    "import pandas as pd\n",
    "import numpy as np\n",
    "import scipy\n",
    "import nltk\n",
    "import textblob\n",
    "import string\n",
    "import matplotlib.pyplot as plt\n",
    "import seaborn as sns\n",
    "from sklearn.feature_extraction.text import TfidfTransformer\n",
    "from sklearn.feature_extraction.text import TfidfVectorizer\n",
    "\n",
    "from sklearn.feature_extraction.text import CountVectorizer\n",
    "from sklearn.metrics import confusion_matrix\n",
    "from sklearn import metrics\n",
    "from sklearn.metrics import roc_curve, auc\n",
    "from nltk.stem.porter import PorterStemmer\n",
    "\n",
    "import re\n",
    "# Tutorial about Python regular expressions: https://pymotw.com/2/re/\n",
    "import string\n",
    "from nltk.corpus import stopwords\n",
    "from nltk.stem import PorterStemmer\n",
    "from nltk.stem.wordnet import WordNetLemmatizer\n",
    "\n",
    "from gensim.models import Word2Vec\n",
    "from gensim.models import KeyedVectors\n",
    "import pickle\n",
    "\n",
    "from tqdm import tqdm\n",
    "import os\n",
    "\n",
    "from sklearn.model_selection import cross_val_score"
   ]
  },
  {
   "cell_type": "code",
   "execution_count": 2,
   "metadata": {
    "_uuid": "fa1c2d0285a3fdf3fe476134a80d0b6559b3c854"
   },
   "outputs": [
    {
     "name": "stdout",
     "output_type": "stream",
     "text": [
      "Number of data points in our data (525814, 10)\n"
     ]
    },
    {
     "data": {
      "text/html": [
       "<div>\n",
       "<style scoped>\n",
       "    .dataframe tbody tr th:only-of-type {\n",
       "        vertical-align: middle;\n",
       "    }\n",
       "\n",
       "    .dataframe tbody tr th {\n",
       "        vertical-align: top;\n",
       "    }\n",
       "\n",
       "    .dataframe thead th {\n",
       "        text-align: right;\n",
       "    }\n",
       "</style>\n",
       "<table border=\"1\" class=\"dataframe\">\n",
       "  <thead>\n",
       "    <tr style=\"text-align: right;\">\n",
       "      <th></th>\n",
       "      <th>Id</th>\n",
       "      <th>ProductId</th>\n",
       "      <th>UserId</th>\n",
       "      <th>ProfileName</th>\n",
       "      <th>HelpfulnessNumerator</th>\n",
       "      <th>HelpfulnessDenominator</th>\n",
       "      <th>Score</th>\n",
       "      <th>Time</th>\n",
       "      <th>Summary</th>\n",
       "      <th>Text</th>\n",
       "    </tr>\n",
       "  </thead>\n",
       "  <tbody>\n",
       "    <tr>\n",
       "      <th>0</th>\n",
       "      <td>1</td>\n",
       "      <td>B001E4KFG0</td>\n",
       "      <td>A3SGXH7AUHU8GW</td>\n",
       "      <td>delmartian</td>\n",
       "      <td>1</td>\n",
       "      <td>1</td>\n",
       "      <td>1</td>\n",
       "      <td>1303862400</td>\n",
       "      <td>Good Quality Dog Food</td>\n",
       "      <td>I have bought several of the Vitality canned d...</td>\n",
       "    </tr>\n",
       "    <tr>\n",
       "      <th>1</th>\n",
       "      <td>2</td>\n",
       "      <td>B00813GRG4</td>\n",
       "      <td>A1D87F6ZCVE5NK</td>\n",
       "      <td>dll pa</td>\n",
       "      <td>0</td>\n",
       "      <td>0</td>\n",
       "      <td>0</td>\n",
       "      <td>1346976000</td>\n",
       "      <td>Not as Advertised</td>\n",
       "      <td>Product arrived labeled as Jumbo Salted Peanut...</td>\n",
       "    </tr>\n",
       "    <tr>\n",
       "      <th>2</th>\n",
       "      <td>3</td>\n",
       "      <td>B000LQOCH0</td>\n",
       "      <td>ABXLMWJIXXAIN</td>\n",
       "      <td>Natalia Corres \"Natalia Corres\"</td>\n",
       "      <td>1</td>\n",
       "      <td>1</td>\n",
       "      <td>1</td>\n",
       "      <td>1219017600</td>\n",
       "      <td>\"Delight\" says it all</td>\n",
       "      <td>This is a confection that has been around a fe...</td>\n",
       "    </tr>\n",
       "  </tbody>\n",
       "</table>\n",
       "</div>"
      ],
      "text/plain": [
       "   Id                        ...                                                                       Text\n",
       "0   1                        ...                          I have bought several of the Vitality canned d...\n",
       "1   2                        ...                          Product arrived labeled as Jumbo Salted Peanut...\n",
       "2   3                        ...                          This is a confection that has been around a fe...\n",
       "\n",
       "[3 rows x 10 columns]"
      ]
     },
     "execution_count": 2,
     "metadata": {},
     "output_type": "execute_result"
    }
   ],
   "source": [
    "# Python code is run in the Kaggle Kernals. We are using the below kernal to import data directly in Kaggle\n",
    "filtered_data = pd.read_csv(\"../input/Reviews.csv\")\n",
    "filtered_data.shape\n",
    "\n",
    "#We will exclude the 3 rating and include only 1 and 2 as negative rating and 4 & 5 as positive rating\n",
    "filtered_data = filtered_data[filtered_data['Score'] != 3]\n",
    "filtered_data.shape\n",
    "\n",
    "# We will building the binary classification Model. So we will convert the Multi-Class into Binary Class Output\n",
    "# So reviews > 3 Score is 1(positive review), and reviews < 3 Score is 0(negative rating).\n",
    "# So score acts as the Binary Classification output\n",
    "def partition(x):\n",
    "    if x < 3:\n",
    "        return 0\n",
    "    return 1\n",
    "\n",
    "#changing reviews with score less than 3 to be positive and vice-versa\n",
    "actualScore = filtered_data['Score']\n",
    "positiveNegative = actualScore.map(partition) \n",
    "filtered_data['Score'] = positiveNegative\n",
    "print(\"Number of data points in our data\", filtered_data.shape)\n",
    "filtered_data.head(3)"
   ]
  },
  {
   "cell_type": "markdown",
   "metadata": {
    "_uuid": "08b014800e4beca7e3b3b8e0619ccda4b3f2db18"
   },
   "source": [
    "#  [2] Exploratory Data Analysis"
   ]
  },
  {
   "cell_type": "markdown",
   "metadata": {
    "_uuid": "31b7d37e2db923eac787bf1d2bdc58c74a3a617a"
   },
   "source": [
    "## [2.1] Data Cleaning: Deduplication\n",
    "\n",
    "It is observed (as shown in the table below) that the reviews data had many duplicate entries. Hence it was necessary to remove duplicates in order to get unbiased results for the analysis of the data.  Following is an example:"
   ]
  },
  {
   "cell_type": "code",
   "execution_count": 3,
   "metadata": {
    "_uuid": "e3baf1cba0c72fbea6f76e8334fa535961308334"
   },
   "outputs": [],
   "source": [
    "#Sorting data according to ProductId in ascending order\n",
    "sorted_data=filtered_data.sort_values('ProductId', axis=0, ascending=True, inplace=False, kind='quicksort', na_position='last')"
   ]
  },
  {
   "cell_type": "code",
   "execution_count": 4,
   "metadata": {
    "_uuid": "b491e62222c73f8d297665cbc678eb1cb4901dd5"
   },
   "outputs": [
    {
     "data": {
      "text/plain": [
       "(364173, 10)"
      ]
     },
     "execution_count": 4,
     "metadata": {},
     "output_type": "execute_result"
    }
   ],
   "source": [
    "#Deduplication of entries\n",
    "final=sorted_data.drop_duplicates(subset={\"UserId\",\"ProfileName\",\"Time\",\"Text\"}, keep='first', inplace=False)\n",
    "final.shape"
   ]
  },
  {
   "cell_type": "code",
   "execution_count": 5,
   "metadata": {
    "_uuid": "4cd8c38a2ef76516d0c8dd7eb878545d9ef59618"
   },
   "outputs": [
    {
     "data": {
      "text/plain": [
       "69.25890143662969"
      ]
     },
     "execution_count": 5,
     "metadata": {},
     "output_type": "execute_result"
    }
   ],
   "source": [
    "#Checking to see how much % of data still remains\n",
    "(final['Id'].size*1.0)/(filtered_data['Id'].size*1.0)*100"
   ]
  },
  {
   "cell_type": "code",
   "execution_count": 6,
   "metadata": {
    "_uuid": "8285d4bc7181a40865f290bd7de202fbad6631a9"
   },
   "outputs": [],
   "source": [
    "final=final[final.HelpfulnessNumerator<=final.HelpfulnessDenominator]"
   ]
  },
  {
   "cell_type": "code",
   "execution_count": 7,
   "metadata": {
    "_uuid": "7eb945ba1590b1af7a905cc17390807c762b7b93"
   },
   "outputs": [
    {
     "name": "stdout",
     "output_type": "stream",
     "text": [
      "(364171, 10)\n"
     ]
    },
    {
     "data": {
      "text/plain": [
       "1    307061\n",
       "0     57110\n",
       "Name: Score, dtype: int64"
      ]
     },
     "execution_count": 7,
     "metadata": {},
     "output_type": "execute_result"
    }
   ],
   "source": [
    "#Before starting the next phase of preprocessing lets see the number of entries left\n",
    "print(final.shape)\n",
    "\n",
    "#How many positive and negative reviews are present in our dataset?\n",
    "final['Score'].value_counts()"
   ]
  },
  {
   "cell_type": "markdown",
   "metadata": {
    "_uuid": "6e6775eeaab1687a5eeaa6d9b163649fdf260999"
   },
   "source": [
    "#  [3] Preprocessing"
   ]
  },
  {
   "cell_type": "code",
   "execution_count": 8,
   "metadata": {
    "_uuid": "36eedbcd020e1e063fafade5a9dc7e7e349e750e"
   },
   "outputs": [],
   "source": [
    "# https://stackoverflow.com/a/47091490/4084039\n",
    "from bs4 import BeautifulSoup\n",
    "import re\n",
    "\n",
    "def decontracted(phrase):\n",
    "    # specific\n",
    "    phrase = re.sub(r\"won't\", \"will not\", phrase)\n",
    "    phrase = re.sub(r\"can\\'t\", \"can not\", phrase)\n",
    "\n",
    "    # general\n",
    "    phrase = re.sub(r\"n\\'t\", \" not\", phrase)\n",
    "    phrase = re.sub(r\"\\'re\", \" are\", phrase)\n",
    "    phrase = re.sub(r\"\\'s\", \" is\", phrase)\n",
    "    phrase = re.sub(r\"\\'d\", \" would\", phrase)\n",
    "    phrase = re.sub(r\"\\'ll\", \" will\", phrase)\n",
    "    phrase = re.sub(r\"\\'t\", \" not\", phrase)\n",
    "    phrase = re.sub(r\"\\'ve\", \" have\", phrase)\n",
    "    phrase = re.sub(r\"\\'m\", \" am\", phrase)\n",
    "    return phrase"
   ]
  },
  {
   "cell_type": "code",
   "execution_count": 9,
   "metadata": {
    "_uuid": "9e0614b40edca0e076f61295d7497989d62c3ea4"
   },
   "outputs": [],
   "source": [
    "# https://gist.github.com/sebleier/554280\n",
    "# we are removing the words from the stop words list: 'no', 'nor', 'not'\n",
    "# <br /><br /> ==> after the above steps, we are getting \"br br\"\n",
    "# we are including them into stop words list\n",
    "# instead of <br /> if we have <br/> these tags would have revmoved in the 1st step\n",
    "\n",
    "stopwords= set(['br', 'the', 'i', 'me', 'my', 'myself', 'we', 'our', 'ours', 'ourselves', 'you', \"you're\", \"you've\",\\\n",
    "            \"you'll\", \"you'd\", 'your', 'yours', 'yourself', 'yourselves', 'he', 'him', 'his', 'himself', \\\n",
    "            'she', \"she's\", 'her', 'hers', 'herself', 'it', \"it's\", 'its', 'itself', 'they', 'them', 'their',\\\n",
    "            'theirs', 'themselves', 'what', 'which', 'who', 'whom', 'this', 'that', \"that'll\", 'these', 'those', \\\n",
    "            'am', 'is', 'are', 'was', 'were', 'be', 'been', 'being', 'have', 'has', 'had', 'having', 'do', 'does', \\\n",
    "            'did', 'doing', 'a', 'an', 'the', 'and', 'but', 'if', 'or', 'because', 'as', 'until', 'while', 'of', \\\n",
    "            'at', 'by', 'for', 'with', 'about', 'against', 'between', 'into', 'through', 'during', 'before', 'after',\\\n",
    "            'above', 'below', 'to', 'from', 'up', 'down', 'in', 'out', 'on', 'off', 'over', 'under', 'again', 'further',\\\n",
    "            'then', 'once', 'here', 'there', 'when', 'where', 'why', 'how', 'all', 'any', 'both', 'each', 'few', 'more',\\\n",
    "            'most', 'other', 'some', 'such', 'only', 'own', 'same', 'so', 'than', 'too', 'very', \\\n",
    "            's', 't', 'can', 'will', 'just', 'don', \"don't\", 'should', \"should've\", 'now', 'd', 'll', 'm', 'o', 're', \\\n",
    "            've', 'y', 'ain', 'aren', \"aren't\", 'couldn', \"couldn't\", 'didn', \"didn't\", 'doesn', \"doesn't\", 'hadn',\\\n",
    "            \"hadn't\", 'hasn', \"hasn't\", 'haven', \"haven't\", 'isn', \"isn't\", 'ma', 'mightn', \"mightn't\", 'mustn',\\\n",
    "            \"mustn't\", 'needn', \"needn't\", 'shan', \"shan't\", 'shouldn', \"shouldn't\", 'wasn', \"wasn't\", 'weren', \"weren't\", \\\n",
    "            'won', \"won't\", 'wouldn', \"wouldn't\"])"
   ]
  },
  {
   "cell_type": "code",
   "execution_count": 10,
   "metadata": {
    "_uuid": "ffe36c3935300136225ebc462c644964ebb0fbad"
   },
   "outputs": [
    {
     "name": "stderr",
     "output_type": "stream",
     "text": [
      "100%|██████████| 364171/364171 [02:18<00:00, 2622.87it/s]\n"
     ]
    }
   ],
   "source": [
    "# Combining all the above stundents \n",
    "from tqdm import tqdm\n",
    "preprocessed_reviews = []\n",
    "# tqdm is for printing the status bar\n",
    "for sentance in tqdm(final['Text'].values):\n",
    "    sentance = re.sub(r\"http\\S+\", \"\", sentance)\n",
    "    sentance = BeautifulSoup(sentance, 'lxml').get_text()\n",
    "    sentance = decontracted(sentance)\n",
    "    sentance = re.sub(\"\\S*\\d\\S*\", \"\", sentance).strip()\n",
    "    sentance = re.sub('[^A-Za-z]+', ' ', sentance)\n",
    "    # https://gist.github.com/sebleier/554280\n",
    "    sentance = ' '.join(e.lower() for e in sentance.split() if e.lower() not in stopwords)\n",
    "    preprocessed_reviews.append(sentance.strip())\n",
    "final['CleanedText']=preprocessed_reviews #adding a column of CleanedText which displays the data after pre-processing of the review \n"
   ]
  },
  {
   "cell_type": "markdown",
   "metadata": {
    "_uuid": "1aae12483274e3156d9206ddeac136ad0aa8bfba"
   },
   "source": [
    "<h2><font color='red'>[3.2] Preprocessing Review Summary</font></h2>"
   ]
  },
  {
   "cell_type": "code",
   "execution_count": 11,
   "metadata": {
    "_uuid": "a34c08c14a2e704260733185dad518586131c50b"
   },
   "outputs": [
    {
     "data": {
      "text/plain": [
       "1    21204\n",
       "0     3796\n",
       "Name: Score, dtype: int64"
      ]
     },
     "execution_count": 11,
     "metadata": {},
     "output_type": "execute_result"
    }
   ],
   "source": [
    "#Sorting the data based on Time and taking the first 100K data\n",
    "final.sort_values(by = ['Time'])\n",
    "final_data = final.head(25000)\n",
    "final_data['Score'].value_counts()"
   ]
  },
  {
   "cell_type": "code",
   "execution_count": 12,
   "metadata": {},
   "outputs": [],
   "source": [
    "# Separate positive and negative classes for preparing a Balanced Dataset\n",
    "from sklearn.utils import resample\n",
    "pos_review = final_data[final_data.Score==1]\n",
    "neg_review = final_data[final_data.Score==0]"
   ]
  },
  {
   "cell_type": "code",
   "execution_count": 13,
   "metadata": {},
   "outputs": [
    {
     "data": {
      "text/plain": [
       "(21204, 11)"
      ]
     },
     "execution_count": 13,
     "metadata": {},
     "output_type": "execute_result"
    }
   ],
   "source": [
    "neg_review_upsample = resample(neg_review,replace=True,n_samples=21204,random_state=123)\n",
    "neg_review_upsample.shape"
   ]
  },
  {
   "cell_type": "code",
   "execution_count": 14,
   "metadata": {},
   "outputs": [],
   "source": [
    "final_balanced_data = pd.concat([pos_review, neg_review_upsample])"
   ]
  },
  {
   "cell_type": "code",
   "execution_count": 15,
   "metadata": {
    "_uuid": "92412c4904c48e849c522dd5c5751f164263e6f5"
   },
   "outputs": [
    {
     "data": {
      "text/plain": [
       "(42408, 11)"
      ]
     },
     "execution_count": 15,
     "metadata": {},
     "output_type": "execute_result"
    }
   ],
   "source": [
    "final_balanced_data.shape"
   ]
  },
  {
   "cell_type": "markdown",
   "metadata": {
    "_uuid": "be6e010f97fb8f29cbdea578d9ffc9d5a27cdd2c"
   },
   "source": [
    "# **Featurization**"
   ]
  },
  {
   "cell_type": "markdown",
   "metadata": {
    "_uuid": "fc57cb5a02fecb610fc35be6d766d8344f2fc864"
   },
   "source": [
    "## **Experiment 1 ---> Count based Features**"
   ]
  },
  {
   "cell_type": "markdown",
   "metadata": {
    "_uuid": "eb2507e6af5074cf9b5a8b9d4be8e06544479089"
   },
   "source": [
    "We will Start working on the Featurization using some of the techniques I learnt in a conference from **ANALYTICS VIDHYA by DJ (Dipankar)** . The below code snippets are the ideas of DJ in the training he presented.\n",
    "\n",
    "A number of basic text based features can also be created which sometimes are helpful for improving text classification models. Some examples are:\n",
    "\n",
    "* **Word Count:** total number of words in the documents.\n",
    "* **Character Count:** total number of characters in the documents.\n",
    "* **Average Word Density:** average length of the words used in the documents.\n",
    "* **Puncutation Count:** total number of punctuation marks in the documents.\n",
    "* **Upper Case Count:** total number of upper count words in the documents.\n",
    "* **Title Word Count:** total number of proper case (title) words in the documents\n",
    "\n",
    "**Source:** https://www.analyticsvidhya.com/blog/2018/04/a-comprehensive-guide-to-understand-and-implement-text-classification-in-python/\n",
    "\n",
    "The below codes for **COUNT Features** are tailored based on the requiremnts"
   ]
  },
  {
   "cell_type": "code",
   "execution_count": 16,
   "metadata": {
    "_uuid": "91b3f9adcfebf88749b54f154f8139c5422cef19"
   },
   "outputs": [],
   "source": [
    "final_balanced_data['char_count'] = final_balanced_data['Text'].apply(len)\n",
    "final_balanced_data['word_count'] = final_balanced_data['Text'].apply(lambda x: len(x.split()))\n",
    "final_balanced_data['char_density']=final_balanced_data['char_count']/(final_balanced_data['word_count']+1)\n",
    "final_balanced_data['upper_case_word_count'] = final_balanced_data['Text'].apply(lambda x: len([word for word in x.split() if word.isupper()]))"
   ]
  },
  {
   "cell_type": "code",
   "execution_count": 17,
   "metadata": {
    "_uuid": "3038b67090cf9dcc161f925b3b5ecaa3f06dfa84"
   },
   "outputs": [
    {
     "data": {
      "text/html": [
       "<div>\n",
       "<style scoped>\n",
       "    .dataframe tbody tr th:only-of-type {\n",
       "        vertical-align: middle;\n",
       "    }\n",
       "\n",
       "    .dataframe tbody tr th {\n",
       "        vertical-align: top;\n",
       "    }\n",
       "\n",
       "    .dataframe thead th {\n",
       "        text-align: right;\n",
       "    }\n",
       "</style>\n",
       "<table border=\"1\" class=\"dataframe\">\n",
       "  <thead>\n",
       "    <tr style=\"text-align: right;\">\n",
       "      <th></th>\n",
       "      <th>Id</th>\n",
       "      <th>ProductId</th>\n",
       "      <th>UserId</th>\n",
       "      <th>ProfileName</th>\n",
       "      <th>HelpfulnessNumerator</th>\n",
       "      <th>HelpfulnessDenominator</th>\n",
       "      <th>Score</th>\n",
       "      <th>Time</th>\n",
       "      <th>Summary</th>\n",
       "      <th>Text</th>\n",
       "      <th>CleanedText</th>\n",
       "      <th>char_count</th>\n",
       "      <th>word_count</th>\n",
       "      <th>char_density</th>\n",
       "      <th>upper_case_word_count</th>\n",
       "    </tr>\n",
       "  </thead>\n",
       "  <tbody>\n",
       "    <tr>\n",
       "      <th>150523</th>\n",
       "      <td>150524</td>\n",
       "      <td>0006641040</td>\n",
       "      <td>ACITT7DI6IDDL</td>\n",
       "      <td>shari zychinski</td>\n",
       "      <td>0</td>\n",
       "      <td>0</td>\n",
       "      <td>1</td>\n",
       "      <td>939340800</td>\n",
       "      <td>EVERY book is educational</td>\n",
       "      <td>this witty little book makes my son laugh at l...</td>\n",
       "      <td>witty little book makes son laugh loud recite ...</td>\n",
       "      <td>375</td>\n",
       "      <td>74</td>\n",
       "      <td>5.000000</td>\n",
       "      <td>1</td>\n",
       "    </tr>\n",
       "    <tr>\n",
       "      <th>150505</th>\n",
       "      <td>150506</td>\n",
       "      <td>0006641040</td>\n",
       "      <td>A2IW4PEEKO2R0U</td>\n",
       "      <td>Tracy</td>\n",
       "      <td>1</td>\n",
       "      <td>1</td>\n",
       "      <td>1</td>\n",
       "      <td>1194739200</td>\n",
       "      <td>Love the book, miss the hard cover version</td>\n",
       "      <td>I grew up reading these Sendak books, and watc...</td>\n",
       "      <td>grew reading sendak books watching really rosi...</td>\n",
       "      <td>260</td>\n",
       "      <td>48</td>\n",
       "      <td>5.306122</td>\n",
       "      <td>2</td>\n",
       "    </tr>\n",
       "    <tr>\n",
       "      <th>150506</th>\n",
       "      <td>150507</td>\n",
       "      <td>0006641040</td>\n",
       "      <td>A1S4A3IQ2MU7V4</td>\n",
       "      <td>sally sue \"sally sue\"</td>\n",
       "      <td>1</td>\n",
       "      <td>1</td>\n",
       "      <td>1</td>\n",
       "      <td>1191456000</td>\n",
       "      <td>chicken soup with rice months</td>\n",
       "      <td>This is a fun way for children to learn their ...</td>\n",
       "      <td>fun way children learn months year learn poems...</td>\n",
       "      <td>182</td>\n",
       "      <td>35</td>\n",
       "      <td>5.055556</td>\n",
       "      <td>1</td>\n",
       "    </tr>\n",
       "  </tbody>\n",
       "</table>\n",
       "</div>"
      ],
      "text/plain": [
       "            Id          ...          upper_case_word_count\n",
       "150523  150524          ...                              1\n",
       "150505  150506          ...                              2\n",
       "150506  150507          ...                              1\n",
       "\n",
       "[3 rows x 15 columns]"
      ]
     },
     "execution_count": 17,
     "metadata": {},
     "output_type": "execute_result"
    }
   ],
   "source": [
    "final_balanced_data.head(3)"
   ]
  },
  {
   "cell_type": "markdown",
   "metadata": {
    "_uuid": "577cb97f9c401da7a5ad1dd2b26062b41a095bb2"
   },
   "source": [
    "## **Experiment - 2 --> Features from Sentiment Analysis**"
   ]
  },
  {
   "cell_type": "markdown",
   "metadata": {
    "_uuid": "36961bcaaf6e3b9134b2c29b76dae2d231c3bfe8"
   },
   "source": [
    "TextBlob is an excellent open-source library for performing NLP tasks with ease, including sentiment analysis. It also an a sentiment lexicon (in the form of an XML file) which it leverages to give both polarity and subjectivity scores.\n",
    "\n",
    "* The polarity score is a float within the range [-1.0, 1.0].\n",
    "* The subjectivity is a float within the range [0.0, 1.0] where 0.0 is very objective and 1.0 is very subjective.\n",
    "* Perhaps this could be used for getting some new features? Let's look at some basic examples.\n",
    "\n",
    "Source: https://towardsdatascience.com/a-practitioners-guide-to-natural-language-processing-part-i-processing-understanding-text-9f4abfd13e72\n",
    "\n",
    "The below codes for **COUNT Features** are tailored based on the requiremnts"
   ]
  },
  {
   "cell_type": "code",
   "execution_count": 18,
   "metadata": {
    "_uuid": "1bb89ac0b6c2b405ae7efc6982cb2ff7ef0eae3b"
   },
   "outputs": [],
   "source": [
    "review_senti_objective = final_balanced_data['Text'].apply(lambda row: textblob.TextBlob(row).sentiment)\n",
    "final_balanced_data['polarity'] = [obj.polarity for obj in review_senti_objective.values]\n",
    "final_balanced_data['subjectivity'] = [obj.polarity for obj in review_senti_objective.values]"
   ]
  },
  {
   "cell_type": "code",
   "execution_count": 19,
   "metadata": {
    "_uuid": "920cc0593cfa51ab630fe72aa19a2951495633f8"
   },
   "outputs": [
    {
     "data": {
      "text/html": [
       "<div>\n",
       "<style scoped>\n",
       "    .dataframe tbody tr th:only-of-type {\n",
       "        vertical-align: middle;\n",
       "    }\n",
       "\n",
       "    .dataframe tbody tr th {\n",
       "        vertical-align: top;\n",
       "    }\n",
       "\n",
       "    .dataframe thead th {\n",
       "        text-align: right;\n",
       "    }\n",
       "</style>\n",
       "<table border=\"1\" class=\"dataframe\">\n",
       "  <thead>\n",
       "    <tr style=\"text-align: right;\">\n",
       "      <th></th>\n",
       "      <th>Id</th>\n",
       "      <th>ProductId</th>\n",
       "      <th>UserId</th>\n",
       "      <th>ProfileName</th>\n",
       "      <th>HelpfulnessNumerator</th>\n",
       "      <th>HelpfulnessDenominator</th>\n",
       "      <th>Score</th>\n",
       "      <th>Time</th>\n",
       "      <th>Summary</th>\n",
       "      <th>Text</th>\n",
       "      <th>CleanedText</th>\n",
       "      <th>char_count</th>\n",
       "      <th>word_count</th>\n",
       "      <th>char_density</th>\n",
       "      <th>upper_case_word_count</th>\n",
       "      <th>polarity</th>\n",
       "      <th>subjectivity</th>\n",
       "    </tr>\n",
       "  </thead>\n",
       "  <tbody>\n",
       "    <tr>\n",
       "      <th>150523</th>\n",
       "      <td>150524</td>\n",
       "      <td>0006641040</td>\n",
       "      <td>ACITT7DI6IDDL</td>\n",
       "      <td>shari zychinski</td>\n",
       "      <td>0</td>\n",
       "      <td>0</td>\n",
       "      <td>1</td>\n",
       "      <td>939340800</td>\n",
       "      <td>EVERY book is educational</td>\n",
       "      <td>this witty little book makes my son laugh at l...</td>\n",
       "      <td>witty little book makes son laugh loud recite ...</td>\n",
       "      <td>375</td>\n",
       "      <td>74</td>\n",
       "      <td>5.000000</td>\n",
       "      <td>1</td>\n",
       "      <td>0.251726</td>\n",
       "      <td>0.251726</td>\n",
       "    </tr>\n",
       "    <tr>\n",
       "      <th>150505</th>\n",
       "      <td>150506</td>\n",
       "      <td>0006641040</td>\n",
       "      <td>A2IW4PEEKO2R0U</td>\n",
       "      <td>Tracy</td>\n",
       "      <td>1</td>\n",
       "      <td>1</td>\n",
       "      <td>1</td>\n",
       "      <td>1194739200</td>\n",
       "      <td>Love the book, miss the hard cover version</td>\n",
       "      <td>I grew up reading these Sendak books, and watc...</td>\n",
       "      <td>grew reading sendak books watching really rosi...</td>\n",
       "      <td>260</td>\n",
       "      <td>48</td>\n",
       "      <td>5.306122</td>\n",
       "      <td>2</td>\n",
       "      <td>0.201667</td>\n",
       "      <td>0.201667</td>\n",
       "    </tr>\n",
       "    <tr>\n",
       "      <th>150506</th>\n",
       "      <td>150507</td>\n",
       "      <td>0006641040</td>\n",
       "      <td>A1S4A3IQ2MU7V4</td>\n",
       "      <td>sally sue \"sally sue\"</td>\n",
       "      <td>1</td>\n",
       "      <td>1</td>\n",
       "      <td>1</td>\n",
       "      <td>1191456000</td>\n",
       "      <td>chicken soup with rice months</td>\n",
       "      <td>This is a fun way for children to learn their ...</td>\n",
       "      <td>fun way children learn months year learn poems...</td>\n",
       "      <td>182</td>\n",
       "      <td>35</td>\n",
       "      <td>5.055556</td>\n",
       "      <td>1</td>\n",
       "      <td>0.375000</td>\n",
       "      <td>0.375000</td>\n",
       "    </tr>\n",
       "  </tbody>\n",
       "</table>\n",
       "</div>"
      ],
      "text/plain": [
       "            Id   ProductId     ...       polarity subjectivity\n",
       "150523  150524  0006641040     ...       0.251726     0.251726\n",
       "150505  150506  0006641040     ...       0.201667     0.201667\n",
       "150506  150507  0006641040     ...       0.375000     0.375000\n",
       "\n",
       "[3 rows x 17 columns]"
      ]
     },
     "execution_count": 19,
     "metadata": {},
     "output_type": "execute_result"
    }
   ],
   "source": [
    "final_balanced_data.head(3)"
   ]
  },
  {
   "cell_type": "markdown",
   "metadata": {
    "_uuid": "e53dca0b00dde79218ac1f072237e75b0cf2353f"
   },
   "source": [
    "### Split the Reviews into before applying the Featurization Techniques"
   ]
  },
  {
   "cell_type": "code",
   "execution_count": 20,
   "metadata": {
    "_uuid": "980a1b96e8b90f447f41d605c55ae4f4555f5568"
   },
   "outputs": [],
   "source": [
    "## Let's split the reviews into Train Data and Test Data before using Featurization Techniques\n",
    "from sklearn.model_selection import train_test_split\n",
    "x_train, x_test = train_test_split(final_balanced_data, test_size = 0.30, random_state = 0)"
   ]
  },
  {
   "cell_type": "code",
   "execution_count": 21,
   "metadata": {
    "_uuid": "b688bfda9fdfab2b7ca23b4ad4bab9cf03857933"
   },
   "outputs": [
    {
     "data": {
      "text/plain": [
       "(29685, 17)"
      ]
     },
     "execution_count": 21,
     "metadata": {},
     "output_type": "execute_result"
    }
   ],
   "source": [
    "x_train.shape"
   ]
  },
  {
   "cell_type": "code",
   "execution_count": 22,
   "metadata": {
    "_uuid": "36ab664225a73754aeb3dfcfbe6ddac5aa2d94bf"
   },
   "outputs": [],
   "source": [
    "#Lets convert the Sparse Matrix into the Dense matrix and merge back to the Original Data.\n",
    "y_train = x_train['Score']\n",
    "y_test = x_test['Score']"
   ]
  },
  {
   "cell_type": "code",
   "execution_count": 23,
   "metadata": {
    "_uuid": "be6f43dc12e08389ef9ddf0eafc4cfece7480dae"
   },
   "outputs": [
    {
     "name": "stdout",
     "output_type": "stream",
     "text": [
      "The Shape Y_train and Y_Test is --  (29685,) (12723,)\n"
     ]
    }
   ],
   "source": [
    "print(\"The Shape Y_train and Y_Test is -- \",y_train.shape,y_test.shape)"
   ]
  },
  {
   "cell_type": "markdown",
   "metadata": {
    "_uuid": "5fc08ee5c2317a5bc2a8d42a362002f1127b41a4"
   },
   "source": [
    "# [4] Featurization"
   ]
  },
  {
   "cell_type": "markdown",
   "metadata": {
    "_uuid": "28d091343020019e47a4d169fd0b05e84e48fb4a"
   },
   "source": [
    "## [4.1] BAG OF WORDS"
   ]
  },
  {
   "cell_type": "code",
   "execution_count": 24,
   "metadata": {
    "_uuid": "1a98f092619ffc85aaf9038a8fb33fc6a58fd913",
    "scrolled": true
   },
   "outputs": [],
   "source": [
    "#BoW\n",
    "#Let's build the BoW seperately for both Train and Test Data \n",
    "Bow_Vect = CountVectorizer(max_features = 3000)\n",
    "Bow_Vector_Train = Bow_Vect.fit_transform(x_train['CleanedText'].values)\n",
    "Bow_Vector_Test  = Bow_Vect.transform(x_test['CleanedText'].values)"
   ]
  },
  {
   "cell_type": "code",
   "execution_count": 25,
   "metadata": {
    "_uuid": "74d4341e28b320d52405c51f3b3fc03336704c71"
   },
   "outputs": [
    {
     "name": "stdout",
     "output_type": "stream",
     "text": [
      "Shape of Decision Tree Train & Test Review Data Vectorizer (29685, 3000)  &  (12723, 3000)\n",
      "***************************************************************************************************\n",
      "Type of  Decision Tree Train & Test Data <class 'scipy.sparse.csr.csr_matrix'>  &  <class 'scipy.sparse.csr.csr_matrix'>\n"
     ]
    }
   ],
   "source": [
    "#Let's check the dimenstion of the BOW vectorizer we build both on Train Data and Test Data\n",
    "print(\"Shape of Decision Tree Train & Test Review Data Vectorizer\",Bow_Vector_Train.get_shape(), \" & \",Bow_Vector_Test.get_shape())\n",
    "print(\"***************************************************************************************************\")\n",
    "# Get the Type of the data \n",
    "print(\"Type of  Decision Tree Train & Test Data\",type(Bow_Vector_Train),\" & \", type(Bow_Vector_Test))"
   ]
  },
  {
   "cell_type": "markdown",
   "metadata": {
    "_uuid": "d49eccf749221ce12bd4ffd0767a15cc412ad8f0"
   },
   "source": [
    "**Code Reference - **Used the below reference to understand how to add the extra Pandas column to a Sparse Matrix that is the Features like Word count, Word Density etc., to the existing Sparse matrices we created from the Bag of words and Tfidf.\n",
    "\n",
    "https://stackoverflow.com/questions/41927781/adding-pandas-columns-to-a-sparse-matrix"
   ]
  },
  {
   "cell_type": "code",
   "execution_count": 26,
   "metadata": {
    "_uuid": "f81797436c139afd8d2ff916f6ad265b11cb9538",
    "scrolled": true
   },
   "outputs": [
    {
     "name": "stdout",
     "output_type": "stream",
     "text": [
      "Before and after Feature Engineering the Features Dimension is - (29685, 3005) & (29685, 3000)\n"
     ]
    }
   ],
   "source": [
    "#https://stackoverflow.com/questions/41927781/adding-pandas-columns-to-a-sparse-matrix\n",
    "from scipy.sparse import hstack\n",
    "Bow_train_withFE = hstack((Bow_Vector_Train,np.array(x_train['word_count'])[:,None]))\n",
    "Bow_train_withFE = hstack((Bow_train_withFE,np.array(x_train['char_count'])[:,None]))\n",
    "Bow_train_withFE = hstack((Bow_train_withFE,np.array(x_train['char_density'])[:,None]))\n",
    "Bow_train_withFE = hstack((Bow_train_withFE,np.array(x_train['polarity'])[:,None]))\n",
    "Bow_train_withFE = hstack((Bow_train_withFE,np.array(x_train['subjectivity'])[:,None]))\n",
    "print(\"Before and after Feature Engineering the Features Dimension is -\",Bow_train_withFE.get_shape(),\"&\",Bow_Vector_Train.get_shape())"
   ]
  },
  {
   "cell_type": "code",
   "execution_count": 27,
   "metadata": {
    "_uuid": "70cd89bb79bff7b406bf1bf52e9e092d8c2a2334"
   },
   "outputs": [
    {
     "name": "stdout",
     "output_type": "stream",
     "text": [
      "Before and after Feature Engineering the Features Dimension is - (12723, 3005) & (12723, 3000)\n"
     ]
    }
   ],
   "source": [
    "#https://stackoverflow.com/questions/41927781/adding-pandas-columns-to-a-sparse-matrix\n",
    "Bow_test_withFE = hstack((Bow_Vector_Test,np.array(x_test['word_count'])[:,None]))\n",
    "Bow_test_withFE = hstack((Bow_test_withFE,np.array(x_test['char_count'])[:,None]))\n",
    "Bow_test_withFE = hstack((Bow_test_withFE,np.array(x_test['char_density'])[:,None]))\n",
    "Bow_test_withFE = hstack((Bow_test_withFE,np.array(x_test['polarity'])[:,None]))\n",
    "Bow_test_withFE = hstack((Bow_test_withFE,np.array(x_test['subjectivity'])[:,None]))\n",
    "print(\"Before and after Feature Engineering the Features Dimension is -\",Bow_test_withFE.get_shape(),\"&\",Bow_Vector_Test.get_shape())"
   ]
  },
  {
   "cell_type": "markdown",
   "metadata": {
    "_uuid": "263ecc017cd1b3332d3c709e9e7b977facbeac90"
   },
   "source": [
    "So after adding the New Features using few Feature engineering techniques, below is the dimension of Train & Test datasets before and after the Feature Engineering."
   ]
  },
  {
   "cell_type": "code",
   "execution_count": 28,
   "metadata": {
    "_uuid": "789fafc7c46e78d833ad664113c999daf439ca8b"
   },
   "outputs": [
    {
     "name": "stdout",
     "output_type": "stream",
     "text": [
      "Shape of the Sparse Data before the Feature Engineering - (29685, 3000) & (12723, 3000)\n",
      "=========================================================================================\n",
      "Shape of the Sparse Data after  the Feature Engineering - (29685, 3005) & (12723, 3005)\n"
     ]
    }
   ],
   "source": [
    "print(\"Shape of the Sparse Data before the Feature Engineering -\",Bow_Vector_Train.get_shape(),\"&\",Bow_Vector_Test.get_shape())\n",
    "print(\"=========================================================================================\")\n",
    "print(\"Shape of the Sparse Data after  the Feature Engineering -\",Bow_train_withFE.get_shape(),\"&\",Bow_test_withFE.get_shape())"
   ]
  },
  {
   "cell_type": "markdown",
   "metadata": {
    "_uuid": "0119fb9e37384c84f55fbc7fad7bd590641a8137"
   },
   "source": [
    "## [4.2] TF-IDF"
   ]
  },
  {
   "cell_type": "code",
   "execution_count": 29,
   "metadata": {
    "_uuid": "62e04bcb49af66c4c782a08c3fde13801b870474",
    "scrolled": true
   },
   "outputs": [
    {
     "name": "stdout",
     "output_type": "stream",
     "text": [
      "================================================================================\n",
      "The Shape of TFIDF Count Vectorizer is -->  (29685, 3000)  and  (12723, 3000)\n",
      "================================================================================\n"
     ]
    }
   ],
   "source": [
    "tf_idf_vect = TfidfVectorizer(max_features = 3000)\n",
    "\n",
    "tfidf_train = tf_idf_vect.fit_transform(x_train['CleanedText'].values)\n",
    "tfidf_test = tf_idf_vect.transform(x_test['CleanedText'].values)\n",
    "\n",
    "print('='*80)\n",
    "print(\"The Shape of TFIDF Count Vectorizer is --> \",tfidf_train.get_shape(), \" and \", tfidf_test.get_shape())\n",
    "print('='*80)"
   ]
  },
  {
   "cell_type": "code",
   "execution_count": 30,
   "metadata": {},
   "outputs": [
    {
     "name": "stdout",
     "output_type": "stream",
     "text": [
      "Before and after Feature Engineering the Features Dimension is - (29685, 3005) & (29685, 3000)\n"
     ]
    }
   ],
   "source": [
    "\n",
    "tfidf_train_with_FE = hstack((tfidf_train,np.array(x_train['word_count'])[:,None]))\n",
    "tfidf_train_with_FE = hstack((tfidf_train_with_FE,np.array(x_train['char_count'])[:,None]))\n",
    "tfidf_train_with_FE = hstack((tfidf_train_with_FE,np.array(x_train['char_density'])[:,None]))\n",
    "tfidf_train_with_FE = hstack((tfidf_train_with_FE,np.array(x_train['polarity'])[:,None]))\n",
    "tfidf_train_with_FE = hstack((tfidf_train_with_FE,np.array(x_train['subjectivity'])[:,None]))\n",
    "print(\"Before and after Feature Engineering the Features Dimension is -\",tfidf_train_with_FE.get_shape(),\"&\",tfidf_train.get_shape())"
   ]
  },
  {
   "cell_type": "code",
   "execution_count": 31,
   "metadata": {},
   "outputs": [
    {
     "name": "stdout",
     "output_type": "stream",
     "text": [
      "Before and after Feature Engineering the Features Dimension is - (12723, 3005) & (12723, 3000)\n"
     ]
    }
   ],
   "source": [
    "#https://stackoverflow.com/questions/41927781/adding-pandas-columns-to-a-sparse-matrix\n",
    "tfidf_test_with_FE = hstack((tfidf_test,np.array(x_test['word_count'])[:,None]))\n",
    "tfidf_test_with_FE = hstack((tfidf_test_with_FE,np.array(x_test['char_count'])[:,None]))\n",
    "tfidf_test_with_FE = hstack((tfidf_test_with_FE,np.array(x_test['char_density'])[:,None]))\n",
    "tfidf_test_with_FE = hstack((tfidf_test_with_FE,np.array(x_test['polarity'])[:,None]))\n",
    "tfidf_test_with_FE = hstack((tfidf_test_with_FE,np.array(x_test['subjectivity'])[:,None]))\n",
    "print(\"Before and after Feature Engineering the Features Dimension is -\",tfidf_test_with_FE.get_shape(),\"&\",tfidf_test.get_shape())"
   ]
  },
  {
   "cell_type": "markdown",
   "metadata": {},
   "source": [
    "## [4.3] Word2Vec"
   ]
  },
  {
   "cell_type": "code",
   "execution_count": 32,
   "metadata": {},
   "outputs": [
    {
     "name": "stdout",
     "output_type": "stream",
     "text": [
      "29685  &  12723\n"
     ]
    }
   ],
   "source": [
    "# Train your own Word2Vec model using your own Train text corpus\n",
    "i=0\n",
    "train_corpus=[]\n",
    "for sentance in x_train['CleanedText'].values:\n",
    "    train_corpus.append(sentance.split())\n",
    "\n",
    "# Train your own Word2Vec model using your own Test text corpus\n",
    "i=0\n",
    "test_corpus=[]\n",
    "for sentance in x_test['CleanedText'].values:\n",
    "    test_corpus.append(sentance.split())\n",
    "\n",
    "print(len(train_corpus),\" & \",len(test_corpus))"
   ]
  },
  {
   "cell_type": "code",
   "execution_count": 33,
   "metadata": {},
   "outputs": [],
   "source": [
    "# min_count = 5 considers only words that occured atleast 5 times\n",
    "w2v_model=Word2Vec(train_corpus,min_count=5,size=300, workers=4)\n",
    "w2v_model=Word2Vec(test_corpus, min_count=5,size=300, workers=4)"
   ]
  },
  {
   "cell_type": "code",
   "execution_count": 34,
   "metadata": {},
   "outputs": [
    {
     "name": "stdout",
     "output_type": "stream",
     "text": [
      "Number of words that occured minimum 5 times are -->  8006\n",
      "===========================================================\n",
      "Sample words are --- \n",
      "                     \n",
      "['espresso', 'beans', 'roasted', 'different', 'ways', 'lavazza', 'illy', 'represent', 'best', 'two', 'roasting', 'italian', 'roasts', 'longer', 'time', 'lower', 'temperature', 'result', 'higher', 'darker', 'according', 'people', 'robust', 'properly', 'ground', 'brewed', 'bit', 'stronger', 'tasting', 'also', 'little', 'bitter', 'pure', 'black', 'color', 'done', 'hint', 'licorice', 'aftertaste', 'personally', 'though', 'prefer', 'approach', 'giving', 'coffee', 'four', 'rather', 'five', 'stars', 'even', 'certainly', 'recognize', 'high', 'quality', 'opinion', 'widely', 'available', 'dark', 'opposed', 'medium', 'like', 'terrible', 'product', 'days', 'not', 'get', 'thing', 'stay', 'cocked', 'watched', 'videos', 'read', 'excellent', 'reviews', 'etc', 'still', 'releases', 'safety', 'latch', 'never', 'got', 'close', 'putting', 'bought', 'pay', 'shipping', 'back', 'box', 'take', 'remainder', 'money', 'might', 'well', 'throw', 'away', 'save', 'go', 'feel', 'lucky', 'web']\n"
     ]
    }
   ],
   "source": [
    "w2v_words = list(w2v_model.wv.vocab)\n",
    "print(\"Number of words that occured minimum 5 times are --> \",len(w2v_words))\n",
    "print(\"===========================================================\")\n",
    "print(\"Sample words are --- \")\n",
    "print(\"                     \")\n",
    "print(w2v_words[0:100])"
   ]
  },
  {
   "cell_type": "markdown",
   "metadata": {},
   "source": [
    "## [4.4] Avg.Word2Vec"
   ]
  },
  {
   "cell_type": "code",
   "execution_count": 35,
   "metadata": {},
   "outputs": [
    {
     "name": "stderr",
     "output_type": "stream",
     "text": [
      "100%|██████████| 29685/29685 [00:05<00:00, 5616.37it/s]"
     ]
    },
    {
     "name": "stdout",
     "output_type": "stream",
     "text": [
      "29685\n",
      "300\n"
     ]
    },
    {
     "name": "stderr",
     "output_type": "stream",
     "text": [
      "\n"
     ]
    }
   ],
   "source": [
    "# average Word2Vec\n",
    "# compute average word2vec for each review.\n",
    "sent_vectors = []; # the avg-w2v for each sentence/review is stored in this list\n",
    "for sent in tqdm(train_corpus): # for each review/sentence\n",
    "    sent_vec = np.zeros(300) # as word vectors are of zero length 50, you might need to change this to 300 if you use google's w2v\n",
    "    cnt_words =0; # num of words with a valid vector in the sentence/review\n",
    "    for word in sent:# for each word in a review/sentence\n",
    "        try:\n",
    "            vec = w2v_model.wv[word]\n",
    "            sent_vec += vec\n",
    "            cnt_words += 1\n",
    "        except:\n",
    "            pass\n",
    "    if cnt_words != 0:\n",
    "        sent_vec /= cnt_words\n",
    "    sent_vectors.append(sent_vec)\n",
    "print(len(sent_vectors))\n",
    "print(len(sent_vectors[0]))"
   ]
  },
  {
   "cell_type": "code",
   "execution_count": 36,
   "metadata": {},
   "outputs": [
    {
     "name": "stderr",
     "output_type": "stream",
     "text": [
      "100%|██████████| 12723/12723 [00:02<00:00, 5746.19it/s]"
     ]
    },
    {
     "name": "stdout",
     "output_type": "stream",
     "text": [
      "12723\n",
      "300\n"
     ]
    },
    {
     "name": "stderr",
     "output_type": "stream",
     "text": [
      "\n"
     ]
    }
   ],
   "source": [
    "sent_vectors_test = []; # the avg-w2v for each sentence/review is stored in this list\n",
    "for sent in tqdm(test_corpus): # for each review/sentence\n",
    "    sent_vec = np.zeros(300) # as word vectors are of zero length 50, you might need to change this to 300 if you use google's w2v\n",
    "    cnt_words =0; # num of words with a valid vector in the sentence/review\n",
    "    for word in sent: # for each word in a review/sentence\n",
    "        try:\n",
    "            vec = w2v_model.wv[word]\n",
    "            sent_vec += vec\n",
    "            cnt_words += 1\n",
    "        except:\n",
    "            pass\n",
    "    if cnt_words != 0:\n",
    "        sent_vec /= cnt_words\n",
    "    sent_vectors_test.append(sent_vec)\n",
    "print(len(sent_vectors_test))\n",
    "print(len(sent_vectors_test[0]))"
   ]
  },
  {
   "cell_type": "code",
   "execution_count": 37,
   "metadata": {},
   "outputs": [
    {
     "name": "stdout",
     "output_type": "stream",
     "text": [
      "[ 1.34301729e-01 -2.06032786e-01 -2.15032694e-01  6.94420128e-02\n",
      " -1.90614000e-01  1.75170973e-02 -4.24926607e-02 -1.61665817e-01\n",
      " -1.96202533e-01 -5.77193177e-03  1.79304545e-01  2.04268374e-01\n",
      " -1.96369660e-02 -1.33992855e-01 -2.65473760e-02  1.26715293e-01\n",
      " -1.12903428e-01  1.61462366e-01  5.03703955e-01  1.90096888e-03\n",
      "  2.18914465e-01  1.34967754e-01  9.73813843e-02 -2.07619650e-01\n",
      "  1.00747409e-01  3.00579425e-01 -9.02205775e-02  1.26151321e-01\n",
      " -4.41095474e-02 -8.52466420e-02  2.13134441e-01  2.05431215e-01\n",
      "  2.01177872e-01  8.64813432e-02  2.18564183e-01 -1.20202884e-01\n",
      "  1.64586700e-01 -1.64854772e-01 -1.80197213e-01 -1.05625976e-01\n",
      " -3.98556271e-02 -3.55149175e-02  1.21977449e-01 -6.53550787e-02\n",
      "  6.90124348e-02 -1.86932151e-01 -1.27909981e-01  6.00261749e-02\n",
      " -4.51565165e-01 -8.88346073e-02 -4.99463956e-02  1.60240527e-01\n",
      "  2.06906592e-02 -1.29975668e-01 -1.55097504e-01 -1.07552244e-02\n",
      "  1.44668693e-01  1.23814232e-02 -5.58961619e-02  6.77995939e-02\n",
      " -6.72290590e-02  1.07697169e-01  2.86608864e-01 -3.93089880e-01\n",
      " -1.38117088e-01 -6.58553976e-04  1.64722115e-01 -6.02904915e-01\n",
      " -2.57732066e-01 -1.19283541e-01 -1.34428947e-01  3.38348177e-02\n",
      " -1.96562999e-01  7.31507020e-02 -2.19726371e-01 -4.73321923e-02\n",
      " -1.02163387e-01 -2.75278926e-01  9.41937819e-02 -2.43451069e-01\n",
      "  8.57384074e-02 -9.98236274e-02  4.11919478e-01 -1.60604932e-01\n",
      "  1.62146511e-01 -7.66276039e-02 -8.40692069e-02  4.04727708e-01\n",
      "  5.50440362e-02 -1.00566505e-01 -5.64684657e-02 -6.95396698e-02\n",
      " -2.28138147e-02  1.66920349e-01  1.72100999e-01 -3.77825527e-01\n",
      "  5.13706057e-02 -1.42873842e-01  1.35943840e-01 -8.07502464e-02\n",
      " -4.55732194e-01 -2.19490931e-01  1.40307310e-01  1.84547579e-02\n",
      " -1.15067108e-01 -3.93217945e-02 -6.40916040e-02 -2.31364695e-02\n",
      " -8.79495307e-02  2.25765617e-01 -2.64050697e-01 -5.79036249e-02\n",
      " -1.37988103e-01 -4.19653012e-02  9.14946678e-02 -1.05860910e-01\n",
      "  2.79192499e-02  6.64261479e-02 -5.25360614e-02  1.64211926e-02\n",
      " -3.80983282e-01  1.93853911e-01  5.20574668e-02  9.12693034e-02\n",
      "  1.90429326e-02  2.59388667e-02  9.53200235e-02 -7.17116378e-02\n",
      " -1.90753461e-01  1.71629014e-02  3.97080521e-01 -1.68795378e-01\n",
      " -1.18201592e-01 -1.71804388e-02 -3.87841420e-02 -5.42400268e-02\n",
      " -1.75708526e-01  1.64844516e-01  3.86387166e-02  1.22641796e-01\n",
      " -8.48445041e-02  2.24704405e-01 -3.29339237e-01 -5.46172520e-02\n",
      "  3.20855274e-01 -1.30907925e-01 -1.86897173e-02 -1.35601165e-01\n",
      " -1.60395489e-01  1.41964230e-01 -3.43065226e-02  2.21675516e-01\n",
      "  9.49800769e-02 -1.45127695e-01 -1.98424676e-03  7.46314054e-02\n",
      "  4.93583542e-03 -6.50152771e-02  2.45862946e-01  1.74743333e-01\n",
      " -1.88940289e-03 -1.26757425e-01 -9.68027104e-02  7.95163191e-02\n",
      " -4.66921485e-02  1.75310809e-01 -4.94359277e-02 -2.17231958e-04\n",
      "  1.24608516e-01 -2.68069482e-02  1.09372440e-01 -1.91075011e-01\n",
      "  7.56874211e-03  3.26413720e-02 -2.71899036e-01  9.61177842e-02\n",
      "  1.71531890e-01  1.29868466e-01  1.63433561e-01  4.75619745e-01\n",
      " -1.04921529e-01 -2.66944769e-01  1.14347230e-01  2.00443821e-01\n",
      " -6.65924650e-02  7.99502328e-02  1.68101459e-03 -1.28176683e-01\n",
      "  4.72344054e-02  2.01330763e-01 -1.92708889e-02  1.84282592e-01\n",
      " -3.07455847e-02 -3.50271521e-02 -6.71951591e-02  8.20899219e-02\n",
      " -1.05879417e-01 -1.65306716e-01  4.33447897e-02 -9.78688319e-03\n",
      "  1.20712474e-02 -2.07140247e-01 -2.41524423e-01 -5.05385167e-02\n",
      " -1.35180942e-02 -2.15546810e-01  6.65436162e-02 -2.47347314e-01\n",
      "  2.13135249e-01  4.09462382e-02  2.57418093e-01  1.98391979e-01\n",
      "  6.66994726e-02 -5.23879283e-01 -1.88560859e-01 -5.30538145e-02\n",
      "  2.14078223e-01 -2.57873708e-01 -1.07753062e-01 -2.82148323e-02\n",
      "  2.20703131e-01  1.39765410e-01  1.34118599e-02  1.94693444e-01\n",
      "  2.33761733e-01 -1.46997245e-01  2.40691633e-01 -4.61019066e-01\n",
      "  2.79919431e-01 -3.94425675e-02  3.03382040e-01  7.04793445e-02\n",
      " -2.43126817e-02  2.32427076e-01 -1.17321682e-01  4.87945693e-02\n",
      " -1.25892582e-01  2.91123401e-01  1.19747685e-01 -7.50624034e-02\n",
      " -9.45829294e-02 -1.10641881e-02 -4.94917270e-02 -7.83325062e-02\n",
      "  2.16570730e-01  7.19301597e-02 -1.15309507e-01 -1.30595642e-02\n",
      " -8.58306957e-02  1.36169096e-01 -1.17943944e-01  5.75788896e-02\n",
      "  1.02673632e-03 -2.83121007e-01 -2.65782707e-01  1.84060854e-01\n",
      "  1.96194984e-02  1.60888500e-02  3.19638291e-01 -7.87426960e-02\n",
      " -1.28400968e-01  2.57527414e-01  1.08081109e-01 -3.29474094e-02\n",
      "  2.23078852e-01  2.51938978e-02  4.48078813e-01 -3.79703169e-03\n",
      " -4.53581337e-01  2.73963272e-01  1.65312052e-01  2.34788116e-02\n",
      "  2.56290728e-01 -2.97297480e-03  2.57633962e-02 -1.78981671e-01\n",
      "  6.89694260e-02  3.13677361e-01  2.22459881e-01 -1.38263742e-01\n",
      " -1.80402864e-01 -1.16973891e-01  2.26779224e-02 -3.18450819e-01\n",
      "  1.49398728e-01  3.86977828e-01  1.09481087e-01 -1.60096920e-01\n",
      " -8.07218823e-02 -1.07345874e-01  1.11118659e-02  1.98690734e-01\n",
      " -1.08507477e-01 -2.71153236e-01 -1.12686443e-01 -1.87007738e-01\n",
      "  9.18249877e-02 -1.26171743e-01 -1.62853708e-01 -4.61799521e-02]\n",
      "**************************************************\n",
      "[ 2.00514158e-01 -2.56756695e-01 -8.82365426e-02  9.69039387e-02\n",
      " -1.78823696e-01  2.08315443e-01 -1.62292577e-01 -1.35143832e-01\n",
      " -1.52717776e-01  6.59026349e-02  1.67783438e-01  2.04304781e-01\n",
      " -1.54436612e-01 -7.15556373e-02 -8.15295696e-02  5.01759500e-02\n",
      "  3.61848513e-02  1.00411319e-01  4.07362662e-01 -5.28750169e-02\n",
      "  1.97485745e-01  9.83867022e-02  1.16123076e-01 -4.23130996e-01\n",
      "  2.00249384e-01  3.06374479e-01 -2.68887857e-02  3.34093231e-02\n",
      " -1.28130416e-02  7.94326164e-03  2.65740506e-01  1.75924612e-01\n",
      "  1.29008742e-01  7.10865588e-02  1.92016968e-01 -5.16294925e-02\n",
      "  8.07578374e-02 -3.65318760e-02 -2.83616448e-01 -1.51785375e-01\n",
      "  7.76134083e-02  9.60577317e-02 -2.82285931e-02 -5.95508136e-02\n",
      "  3.19640949e-02 -1.92791430e-01 -1.49688578e-01 -2.96644157e-02\n",
      " -4.31687483e-01 -1.17047347e-01 -5.51138326e-02  1.40807489e-01\n",
      "  4.92589224e-02 -1.25170188e-01 -3.58216549e-01  8.11368533e-02\n",
      "  1.49076701e-01  1.01868046e-01 -1.62770713e-01  1.13256056e-01\n",
      " -9.17117243e-02  7.68329278e-02  1.81429964e-01 -4.49300227e-01\n",
      " -2.04648303e-01  4.27400279e-02  2.41559346e-02 -7.00711407e-01\n",
      " -1.97149282e-01 -1.14233080e-01 -1.34677030e-01  9.37055571e-02\n",
      " -2.47459807e-01  2.40978229e-03 -9.63867401e-02 -4.93039194e-02\n",
      " -1.47505814e-02 -2.21902434e-01  8.37180766e-02 -2.05488814e-01\n",
      "  7.84843550e-02 -7.64083468e-02  3.73369831e-01 -1.76278844e-01\n",
      "  1.67665760e-01 -8.26718608e-03 -1.57792965e-02  3.17756298e-01\n",
      "  3.45910224e-02 -1.40314630e-01 -2.54583613e-03 -1.02137995e-01\n",
      " -6.37851829e-02  7.18329743e-02  3.79466400e-01 -2.41743575e-01\n",
      "  4.44109651e-02 -2.19441132e-01  7.30896224e-02 -8.45516851e-02\n",
      " -2.86821140e-01 -2.74809609e-01  1.51791695e-01  8.37871156e-02\n",
      " -2.80405810e-02 -4.33913300e-02  2.80378555e-02  4.54568231e-02\n",
      " -9.05600820e-02  2.47789820e-01 -1.57478824e-01 -2.54452660e-02\n",
      " -2.09601515e-01  9.15466173e-03 -1.07020105e-02 -2.03452625e-01\n",
      "  3.21540807e-03  1.77268594e-01 -1.18928318e-01  1.01822994e-01\n",
      " -3.09389323e-01  1.71574353e-01  5.59053882e-03  2.07113227e-01\n",
      "  1.43062821e-01 -1.18338119e-02  4.02552865e-02 -7.47811320e-02\n",
      " -2.00142586e-01  2.64654418e-02  3.22930638e-01 -6.52723596e-02\n",
      " -6.46458840e-02 -5.07044862e-02 -8.30545706e-02 -1.24272165e-01\n",
      " -2.16421700e-01  2.86833097e-02  1.07952686e-01  5.85865945e-03\n",
      " -1.02736501e-01  3.02154328e-01 -1.95602023e-01 -5.51380129e-03\n",
      "  2.06002340e-01 -1.46273573e-01 -5.52352193e-02 -5.66274311e-02\n",
      " -1.78719657e-01  5.32425054e-02 -6.26718931e-03  1.54125413e-01\n",
      "  3.84897581e-02 -2.72317658e-01  2.28736452e-03  9.75644139e-02\n",
      " -6.33961062e-04 -1.18459596e-01  1.68296416e-01  1.99587766e-01\n",
      "  2.97562982e-02 -1.39296583e-01 -2.01871464e-02  8.49444778e-03\n",
      " -1.12932448e-01  4.75644470e-02 -1.10922646e-01  9.73427344e-02\n",
      "  8.13048933e-02 -5.22613617e-03  2.48247205e-02 -1.88233420e-01\n",
      "  5.08324560e-02  4.27048113e-02 -2.32403308e-01 -3.21226615e-02\n",
      "  2.77932449e-01  1.16281766e-01  8.02865138e-02  4.08203693e-01\n",
      " -1.98653996e-01 -2.62400559e-01  1.88801688e-01  1.51748794e-01\n",
      " -1.26967936e-01  5.77959170e-02  8.34418500e-02 -9.62159733e-02\n",
      "  1.06568480e-01  2.43773878e-01 -4.27445327e-03  1.39796335e-01\n",
      " -1.14056773e-01  2.00120131e-02 -1.40504158e-01  1.11674915e-01\n",
      " -1.42808421e-01 -1.12614213e-02  2.18487302e-02 -2.35886601e-02\n",
      " -6.31496354e-02 -1.36329246e-01 -2.15096935e-01  1.52398035e-01\n",
      "  1.57626482e-02 -9.25629146e-02 -4.58912249e-02 -2.13971975e-01\n",
      "  2.36444639e-01  1.31130704e-01  1.16891579e-01  2.85224345e-01\n",
      "  1.45141796e-01 -4.53634918e-01 -7.09064474e-02 -1.01127776e-01\n",
      "  1.16756167e-01 -1.81234653e-01 -3.67980619e-02  1.27547118e-01\n",
      "  2.41718750e-01  6.89143809e-02  1.59622452e-02  8.86803956e-02\n",
      "  3.11801788e-01 -8.26671735e-02  2.01680075e-01 -4.32304563e-01\n",
      "  3.65598483e-01 -7.71742387e-02  3.22547622e-01  1.77775129e-01\n",
      " -4.12399247e-02  1.40888405e-01 -1.77145709e-01 -3.13664913e-02\n",
      " -1.22988770e-01  1.95596483e-01 -1.32225922e-02 -2.53759033e-01\n",
      " -8.15482915e-02 -3.74596628e-02 -1.97524865e-01 -1.07735144e-01\n",
      "  2.03760486e-01  1.42373024e-01  1.33796926e-02  9.99694051e-02\n",
      " -1.81138884e-01  9.24197237e-02 -5.36453549e-02  1.36014087e-01\n",
      " -1.06957588e-01 -3.01944483e-01 -2.54547768e-01  9.80013877e-02\n",
      "  8.99605337e-02  1.13499824e-01  2.95773039e-01  4.39385862e-04\n",
      " -1.77370679e-01  2.40816098e-01  6.24787770e-02 -1.22722294e-03\n",
      "  1.04310190e-01  1.90790302e-01  4.68453126e-01 -7.29356849e-02\n",
      " -2.71801549e-01  3.23414877e-01  4.60783577e-02  5.59483298e-02\n",
      "  3.69356032e-01  1.34042095e-01  7.90327304e-03 -1.57410798e-01\n",
      "  1.42876549e-01  2.94403488e-01  2.37825862e-01 -1.27570294e-01\n",
      " -1.09976893e-01 -1.37934921e-01  1.20558217e-01 -2.68172197e-01\n",
      "  1.39189594e-01  2.57004629e-01  1.87080307e-01 -1.61035583e-01\n",
      " -4.22460727e-02 -7.88053332e-03  9.07013079e-02  1.54936691e-01\n",
      "  5.97910012e-02 -2.42787997e-01 -1.25986627e-01 -1.47584953e-01\n",
      "  8.18763575e-02 -1.06206849e-01 -2.16796693e-01 -2.68053701e-02]\n",
      "<class 'pandas.core.frame.DataFrame'> & <class 'pandas.core.frame.DataFrame'>\n",
      "29685 & 12723\n"
     ]
    }
   ],
   "source": [
    "import pandas as pd\n",
    "avgw2v_train = pd.DataFrame(sent_vectors)\n",
    "avgw2v_test  = pd.DataFrame(sent_vectors_test)\n",
    "print(sent_vectors[1])\n",
    "print(\"*\"*50)\n",
    "print(sent_vectors_test[1])\n",
    "print(type(avgw2v_train) ,\"&\", type(avgw2v_test))\n",
    "print(len(avgw2v_train), \"&\", len(avgw2v_test))"
   ]
  },
  {
   "cell_type": "code",
   "execution_count": 38,
   "metadata": {},
   "outputs": [
    {
     "data": {
      "text/html": [
       "<div>\n",
       "<style scoped>\n",
       "    .dataframe tbody tr th:only-of-type {\n",
       "        vertical-align: middle;\n",
       "    }\n",
       "\n",
       "    .dataframe tbody tr th {\n",
       "        vertical-align: top;\n",
       "    }\n",
       "\n",
       "    .dataframe thead th {\n",
       "        text-align: right;\n",
       "    }\n",
       "</style>\n",
       "<table border=\"1\" class=\"dataframe\">\n",
       "  <thead>\n",
       "    <tr style=\"text-align: right;\">\n",
       "      <th></th>\n",
       "      <th>0</th>\n",
       "      <th>1</th>\n",
       "      <th>2</th>\n",
       "      <th>3</th>\n",
       "      <th>4</th>\n",
       "      <th>5</th>\n",
       "      <th>6</th>\n",
       "      <th>7</th>\n",
       "      <th>8</th>\n",
       "      <th>9</th>\n",
       "      <th>10</th>\n",
       "      <th>11</th>\n",
       "      <th>12</th>\n",
       "      <th>13</th>\n",
       "      <th>14</th>\n",
       "      <th>15</th>\n",
       "      <th>16</th>\n",
       "      <th>17</th>\n",
       "      <th>18</th>\n",
       "      <th>19</th>\n",
       "      <th>20</th>\n",
       "      <th>21</th>\n",
       "      <th>22</th>\n",
       "      <th>23</th>\n",
       "      <th>24</th>\n",
       "      <th>25</th>\n",
       "      <th>26</th>\n",
       "      <th>27</th>\n",
       "      <th>28</th>\n",
       "      <th>29</th>\n",
       "      <th>30</th>\n",
       "      <th>31</th>\n",
       "      <th>32</th>\n",
       "      <th>33</th>\n",
       "      <th>34</th>\n",
       "      <th>35</th>\n",
       "      <th>36</th>\n",
       "      <th>37</th>\n",
       "      <th>38</th>\n",
       "      <th>39</th>\n",
       "      <th>...</th>\n",
       "      <th>260</th>\n",
       "      <th>261</th>\n",
       "      <th>262</th>\n",
       "      <th>263</th>\n",
       "      <th>264</th>\n",
       "      <th>265</th>\n",
       "      <th>266</th>\n",
       "      <th>267</th>\n",
       "      <th>268</th>\n",
       "      <th>269</th>\n",
       "      <th>270</th>\n",
       "      <th>271</th>\n",
       "      <th>272</th>\n",
       "      <th>273</th>\n",
       "      <th>274</th>\n",
       "      <th>275</th>\n",
       "      <th>276</th>\n",
       "      <th>277</th>\n",
       "      <th>278</th>\n",
       "      <th>279</th>\n",
       "      <th>280</th>\n",
       "      <th>281</th>\n",
       "      <th>282</th>\n",
       "      <th>283</th>\n",
       "      <th>284</th>\n",
       "      <th>285</th>\n",
       "      <th>286</th>\n",
       "      <th>287</th>\n",
       "      <th>288</th>\n",
       "      <th>289</th>\n",
       "      <th>290</th>\n",
       "      <th>291</th>\n",
       "      <th>292</th>\n",
       "      <th>293</th>\n",
       "      <th>294</th>\n",
       "      <th>295</th>\n",
       "      <th>296</th>\n",
       "      <th>297</th>\n",
       "      <th>298</th>\n",
       "      <th>299</th>\n",
       "    </tr>\n",
       "  </thead>\n",
       "  <tbody>\n",
       "    <tr>\n",
       "      <th>0</th>\n",
       "      <td>0.065883</td>\n",
       "      <td>-0.113225</td>\n",
       "      <td>-0.215068</td>\n",
       "      <td>0.176954</td>\n",
       "      <td>-0.128913</td>\n",
       "      <td>0.158316</td>\n",
       "      <td>-0.047786</td>\n",
       "      <td>-0.013226</td>\n",
       "      <td>-0.239786</td>\n",
       "      <td>-0.038166</td>\n",
       "      <td>0.278404</td>\n",
       "      <td>0.101752</td>\n",
       "      <td>0.002274</td>\n",
       "      <td>-0.123726</td>\n",
       "      <td>0.000558</td>\n",
       "      <td>0.133054</td>\n",
       "      <td>-0.028405</td>\n",
       "      <td>0.151664</td>\n",
       "      <td>0.306114</td>\n",
       "      <td>0.052522</td>\n",
       "      <td>0.177222</td>\n",
       "      <td>0.137239</td>\n",
       "      <td>0.029563</td>\n",
       "      <td>-0.184738</td>\n",
       "      <td>-0.040370</td>\n",
       "      <td>0.268715</td>\n",
       "      <td>0.188200</td>\n",
       "      <td>0.161191</td>\n",
       "      <td>-0.121536</td>\n",
       "      <td>0.075144</td>\n",
       "      <td>0.126077</td>\n",
       "      <td>0.246358</td>\n",
       "      <td>-0.054359</td>\n",
       "      <td>-0.005426</td>\n",
       "      <td>0.149941</td>\n",
       "      <td>-0.063477</td>\n",
       "      <td>0.118780</td>\n",
       "      <td>-0.046145</td>\n",
       "      <td>-0.276033</td>\n",
       "      <td>-0.001757</td>\n",
       "      <td>...</td>\n",
       "      <td>-0.098040</td>\n",
       "      <td>0.225373</td>\n",
       "      <td>0.050551</td>\n",
       "      <td>-0.185109</td>\n",
       "      <td>0.083508</td>\n",
       "      <td>-0.043147</td>\n",
       "      <td>0.367053</td>\n",
       "      <td>-0.021058</td>\n",
       "      <td>-0.215445</td>\n",
       "      <td>0.156286</td>\n",
       "      <td>0.171265</td>\n",
       "      <td>0.141278</td>\n",
       "      <td>0.212093</td>\n",
       "      <td>0.079030</td>\n",
       "      <td>-0.018747</td>\n",
       "      <td>-0.125427</td>\n",
       "      <td>0.076438</td>\n",
       "      <td>0.348554</td>\n",
       "      <td>0.188231</td>\n",
       "      <td>-0.187825</td>\n",
       "      <td>-0.107619</td>\n",
       "      <td>-0.134284</td>\n",
       "      <td>0.017283</td>\n",
       "      <td>-0.169463</td>\n",
       "      <td>0.045452</td>\n",
       "      <td>0.285597</td>\n",
       "      <td>0.093197</td>\n",
       "      <td>0.120726</td>\n",
       "      <td>0.024031</td>\n",
       "      <td>-0.062075</td>\n",
       "      <td>-0.047664</td>\n",
       "      <td>0.186699</td>\n",
       "      <td>-0.091193</td>\n",
       "      <td>-0.123879</td>\n",
       "      <td>-0.142443</td>\n",
       "      <td>-0.165075</td>\n",
       "      <td>0.120868</td>\n",
       "      <td>-0.044362</td>\n",
       "      <td>-0.037821</td>\n",
       "      <td>-0.097109</td>\n",
       "    </tr>\n",
       "    <tr>\n",
       "      <th>1</th>\n",
       "      <td>0.134302</td>\n",
       "      <td>-0.206033</td>\n",
       "      <td>-0.215033</td>\n",
       "      <td>0.069442</td>\n",
       "      <td>-0.190614</td>\n",
       "      <td>0.017517</td>\n",
       "      <td>-0.042493</td>\n",
       "      <td>-0.161666</td>\n",
       "      <td>-0.196203</td>\n",
       "      <td>-0.005772</td>\n",
       "      <td>0.179305</td>\n",
       "      <td>0.204268</td>\n",
       "      <td>-0.019637</td>\n",
       "      <td>-0.133993</td>\n",
       "      <td>-0.026547</td>\n",
       "      <td>0.126715</td>\n",
       "      <td>-0.112903</td>\n",
       "      <td>0.161462</td>\n",
       "      <td>0.503704</td>\n",
       "      <td>0.001901</td>\n",
       "      <td>0.218914</td>\n",
       "      <td>0.134968</td>\n",
       "      <td>0.097381</td>\n",
       "      <td>-0.207620</td>\n",
       "      <td>0.100747</td>\n",
       "      <td>0.300579</td>\n",
       "      <td>-0.090221</td>\n",
       "      <td>0.126151</td>\n",
       "      <td>-0.044110</td>\n",
       "      <td>-0.085247</td>\n",
       "      <td>0.213134</td>\n",
       "      <td>0.205431</td>\n",
       "      <td>0.201178</td>\n",
       "      <td>0.086481</td>\n",
       "      <td>0.218564</td>\n",
       "      <td>-0.120203</td>\n",
       "      <td>0.164587</td>\n",
       "      <td>-0.164855</td>\n",
       "      <td>-0.180197</td>\n",
       "      <td>-0.105626</td>\n",
       "      <td>...</td>\n",
       "      <td>-0.128401</td>\n",
       "      <td>0.257527</td>\n",
       "      <td>0.108081</td>\n",
       "      <td>-0.032947</td>\n",
       "      <td>0.223079</td>\n",
       "      <td>0.025194</td>\n",
       "      <td>0.448079</td>\n",
       "      <td>-0.003797</td>\n",
       "      <td>-0.453581</td>\n",
       "      <td>0.273963</td>\n",
       "      <td>0.165312</td>\n",
       "      <td>0.023479</td>\n",
       "      <td>0.256291</td>\n",
       "      <td>-0.002973</td>\n",
       "      <td>0.025763</td>\n",
       "      <td>-0.178982</td>\n",
       "      <td>0.068969</td>\n",
       "      <td>0.313677</td>\n",
       "      <td>0.222460</td>\n",
       "      <td>-0.138264</td>\n",
       "      <td>-0.180403</td>\n",
       "      <td>-0.116974</td>\n",
       "      <td>0.022678</td>\n",
       "      <td>-0.318451</td>\n",
       "      <td>0.149399</td>\n",
       "      <td>0.386978</td>\n",
       "      <td>0.109481</td>\n",
       "      <td>-0.160097</td>\n",
       "      <td>-0.080722</td>\n",
       "      <td>-0.107346</td>\n",
       "      <td>0.011112</td>\n",
       "      <td>0.198691</td>\n",
       "      <td>-0.108507</td>\n",
       "      <td>-0.271153</td>\n",
       "      <td>-0.112686</td>\n",
       "      <td>-0.187008</td>\n",
       "      <td>0.091825</td>\n",
       "      <td>-0.126172</td>\n",
       "      <td>-0.162854</td>\n",
       "      <td>-0.046180</td>\n",
       "    </tr>\n",
       "    <tr>\n",
       "      <th>2</th>\n",
       "      <td>-0.025858</td>\n",
       "      <td>-0.133126</td>\n",
       "      <td>-0.186381</td>\n",
       "      <td>-0.027590</td>\n",
       "      <td>-0.102931</td>\n",
       "      <td>0.161300</td>\n",
       "      <td>-0.025149</td>\n",
       "      <td>-0.062900</td>\n",
       "      <td>-0.240209</td>\n",
       "      <td>-0.004389</td>\n",
       "      <td>0.399922</td>\n",
       "      <td>0.165410</td>\n",
       "      <td>-0.046044</td>\n",
       "      <td>-0.087859</td>\n",
       "      <td>0.044504</td>\n",
       "      <td>0.043872</td>\n",
       "      <td>0.021596</td>\n",
       "      <td>0.152507</td>\n",
       "      <td>0.296406</td>\n",
       "      <td>0.178504</td>\n",
       "      <td>0.155191</td>\n",
       "      <td>0.133186</td>\n",
       "      <td>0.052799</td>\n",
       "      <td>-0.136094</td>\n",
       "      <td>-0.000912</td>\n",
       "      <td>0.234807</td>\n",
       "      <td>0.202985</td>\n",
       "      <td>0.177290</td>\n",
       "      <td>-0.101887</td>\n",
       "      <td>0.017615</td>\n",
       "      <td>0.103247</td>\n",
       "      <td>0.226141</td>\n",
       "      <td>0.037857</td>\n",
       "      <td>0.082383</td>\n",
       "      <td>0.083988</td>\n",
       "      <td>-0.132349</td>\n",
       "      <td>0.057694</td>\n",
       "      <td>-0.049706</td>\n",
       "      <td>-0.235271</td>\n",
       "      <td>-0.044663</td>\n",
       "      <td>...</td>\n",
       "      <td>0.041608</td>\n",
       "      <td>0.261475</td>\n",
       "      <td>0.014016</td>\n",
       "      <td>-0.152113</td>\n",
       "      <td>0.160111</td>\n",
       "      <td>-0.015761</td>\n",
       "      <td>0.438925</td>\n",
       "      <td>0.023378</td>\n",
       "      <td>-0.317079</td>\n",
       "      <td>0.242601</td>\n",
       "      <td>0.109124</td>\n",
       "      <td>0.035890</td>\n",
       "      <td>0.141358</td>\n",
       "      <td>-0.052160</td>\n",
       "      <td>0.008741</td>\n",
       "      <td>-0.193033</td>\n",
       "      <td>-0.032354</td>\n",
       "      <td>0.295648</td>\n",
       "      <td>0.133852</td>\n",
       "      <td>-0.054711</td>\n",
       "      <td>-0.124722</td>\n",
       "      <td>-0.095330</td>\n",
       "      <td>0.127542</td>\n",
       "      <td>-0.198701</td>\n",
       "      <td>0.085550</td>\n",
       "      <td>0.236179</td>\n",
       "      <td>0.066246</td>\n",
       "      <td>0.044035</td>\n",
       "      <td>0.033503</td>\n",
       "      <td>-0.202256</td>\n",
       "      <td>-0.132569</td>\n",
       "      <td>0.159760</td>\n",
       "      <td>-0.177598</td>\n",
       "      <td>-0.062224</td>\n",
       "      <td>-0.038998</td>\n",
       "      <td>-0.118547</td>\n",
       "      <td>0.063830</td>\n",
       "      <td>-0.082850</td>\n",
       "      <td>-0.061671</td>\n",
       "      <td>-0.044442</td>\n",
       "    </tr>\n",
       "  </tbody>\n",
       "</table>\n",
       "</div>"
      ],
      "text/plain": [
       "        0         1         2      ...          297       298       299\n",
       "0  0.065883 -0.113225 -0.215068    ...    -0.044362 -0.037821 -0.097109\n",
       "1  0.134302 -0.206033 -0.215033    ...    -0.126172 -0.162854 -0.046180\n",
       "2 -0.025858 -0.133126 -0.186381    ...    -0.082850 -0.061671 -0.044442\n",
       "\n",
       "[3 rows x 300 columns]"
      ]
     },
     "execution_count": 38,
     "metadata": {},
     "output_type": "execute_result"
    }
   ],
   "source": [
    "avgw2v_train.head(3)"
   ]
  },
  {
   "cell_type": "code",
   "execution_count": 39,
   "metadata": {},
   "outputs": [
    {
     "name": "stdout",
     "output_type": "stream",
     "text": [
      "Before and after Feature Engineering the Type is -  <class 'numpy.ndarray'> & <class 'pandas.core.frame.DataFrame'>\n",
      "Before and after Feature Engineering the Features Dimension is -  29685 & 29685\n",
      "Before and after Feature Engineering the Features Dimension is -  305 & 29685\n"
     ]
    }
   ],
   "source": [
    "avgw2v_train_with_FE = np.column_stack((avgw2v_train,np.array(x_train['word_count'])))\n",
    "avgw2v_train_with_FE = np.column_stack((avgw2v_train_with_FE,np.array(x_train['char_count'])))\n",
    "avgw2v_train_with_FE = np.column_stack((avgw2v_train_with_FE,np.array(x_train['char_density'])))\n",
    "avgw2v_train_with_FE = np.column_stack((avgw2v_train_with_FE,np.array(x_train['polarity'])))\n",
    "avgw2v_train_with_FE = np.column_stack((avgw2v_train_with_FE,np.array(x_train['subjectivity'])))\n",
    "print(\"Before and after Feature Engineering the Type is - \",type(avgw2v_train_with_FE), \"&\", type(avgw2v_train))\n",
    "print(\"Before and after Feature Engineering the Features Dimension is - \",len(avgw2v_train_with_FE),\"&\",len(avgw2v_train))\n",
    "print(\"Before and after Feature Engineering the Features Dimension is - \",len(avgw2v_train_with_FE[1]),\"&\",len(avgw2v_train[1]))"
   ]
  },
  {
   "cell_type": "code",
   "execution_count": 40,
   "metadata": {},
   "outputs": [
    {
     "name": "stdout",
     "output_type": "stream",
     "text": [
      "Before and after Feature Engineering the Type is -  <class 'numpy.ndarray'> & <class 'pandas.core.frame.DataFrame'>\n",
      "Before and after Feature Engineering the Features Dimension is - 12723 & 12723\n",
      "Before and after Feature Engineering the Features Dimension is - 305 & 12723\n"
     ]
    }
   ],
   "source": [
    "avgw2v_test_with_FE = np.column_stack((avgw2v_test,np.array(x_test['word_count'])))\n",
    "avgw2v_test_with_FE = np.column_stack((avgw2v_test_with_FE,np.array(x_test['char_count'])))\n",
    "avgw2v_test_with_FE = np.column_stack((avgw2v_test_with_FE,np.array(x_test['char_density'])))\n",
    "avgw2v_test_with_FE = np.column_stack((avgw2v_test_with_FE,np.array(x_test['polarity'])))\n",
    "avgw2v_test_with_FE = np.column_stack((avgw2v_test_with_FE,np.array(x_test['subjectivity'])))\n",
    "print(\"Before and after Feature Engineering the Type is - \",type(avgw2v_test_with_FE), \"&\", type(avgw2v_test))\n",
    "print(\"Before and after Feature Engineering the Features Dimension is -\",len(avgw2v_test_with_FE),\"&\",len(avgw2v_test))\n",
    "print(\"Before and after Feature Engineering the Features Dimension is -\",len(avgw2v_test_with_FE[1]),\"&\",len(avgw2v_test[1]))"
   ]
  },
  {
   "cell_type": "markdown",
   "metadata": {},
   "source": [
    "#### [4.4.1.2] TFIDF weighted W2v"
   ]
  },
  {
   "cell_type": "code",
   "execution_count": 41,
   "metadata": {},
   "outputs": [],
   "source": [
    "# S = [\"abc def pqr\", \"def def def abc\", \"pqr pqr def\"]\n",
    "model = TfidfVectorizer()\n",
    "tf_idf_train = model.fit_transform(x_train['CleanedText'].values)\n",
    "tf_idf_test = model.transform(x_test['CleanedText'].values)\n",
    "# we are converting a dictionary with word as a key, and the idf as a value\n",
    "dictionary = dict(zip(model.get_feature_names(), list(model.idf_)))"
   ]
  },
  {
   "cell_type": "code",
   "execution_count": 42,
   "metadata": {},
   "outputs": [
    {
     "name": "stdout",
     "output_type": "stream",
     "text": [
      "(29685, 29700)\n",
      "(12723, 29700)\n"
     ]
    }
   ],
   "source": [
    "print(tf_idf_train.shape)\n",
    "print(tf_idf_test.shape)"
   ]
  },
  {
   "cell_type": "code",
   "execution_count": 43,
   "metadata": {},
   "outputs": [
    {
     "name": "stderr",
     "output_type": "stream",
     "text": [
      "100%|██████████| 29685/29685 [07:43<00:00, 64.07it/s]\n"
     ]
    }
   ],
   "source": [
    "# TF-IDF weighted Word2Vec\n",
    "tfidf_feat = model.get_feature_names() # tfidf words/col-names\n",
    "# final_tf_idf is the sparse matrix with row= sentence, col=word and cell_val = tfidf\n",
    "tfidf_sent_vectors = []; # the tfidf-w2v for each sentence/review is stored in this list\n",
    "row=0;\n",
    "for sent in tqdm(train_corpus): # for each review/sentence \n",
    "    sent_vec = np.zeros(300) # as word vectors are of zero length\n",
    "    weight_sum =0; # num of words with a valid vector in the sentence/review\n",
    "    for word in sent: # for each word in a review/sentence\n",
    "        if word in w2v_words and word in tfidf_feat:\n",
    "            vec = w2v_model.wv[word]\n",
    "#             tf_idf = tf_idf_matrix[row, tfidf_feat.index(word)]\n",
    "            # to reduce the computation we are \n",
    "            # dictionary[word] = idf value of word in whole courpus\n",
    "            # sent.count(word) = tf valeus of word in this review\n",
    "            tf_idf = dictionary[word]*(sent.count(word)/len(sent))\n",
    "            sent_vec += (vec * tf_idf)\n",
    "            weight_sum += tf_idf\n",
    "    if weight_sum != 0:\n",
    "        sent_vec /= weight_sum\n",
    "    tfidf_sent_vectors.append(sent_vec)\n",
    "    row += 1"
   ]
  },
  {
   "cell_type": "code",
   "execution_count": 44,
   "metadata": {},
   "outputs": [
    {
     "name": "stderr",
     "output_type": "stream",
     "text": [
      "100%|██████████| 12723/12723 [03:20<00:00, 63.42it/s]\n"
     ]
    }
   ],
   "source": [
    "# TF-IDF weighted Word2Vec\n",
    "tfidf_feat = model.get_feature_names() # tfidf words/col-names\n",
    "# final_tf_idf is the sparse matrix with row= sentence, col=word and cell_val = tfidf\n",
    "\n",
    "tfidf_sent_vectors_test = []; # the tfidf-w2v for each sentence/review is stored in this list\n",
    "row=0;\n",
    "for sent in tqdm(test_corpus): # for each review/sentence \n",
    "    sent_vec = np.zeros(300) # as word vectors are of zero length\n",
    "    weight_sum =0; # num of words with a valid vector in the sentence/review\n",
    "    for word in sent: # for each word in a review/sentence\n",
    "        if word in w2v_words and word in tfidf_feat:\n",
    "            vec = w2v_model.wv[word]\n",
    "#             tf_idf = tf_idf_matrix[row, tfidf_feat.index(word)]\n",
    "            # to reduce the computation we are \n",
    "            # dictionary[word] = idf value of word in whole courpus\n",
    "            # sent.count(word) = tf valeus of word in this review\n",
    "            tf_idf = dictionary[word]*(sent.count(word)/len(sent))\n",
    "            sent_vec += (vec * tf_idf)\n",
    "            weight_sum += tf_idf\n",
    "    if weight_sum != 0:\n",
    "        sent_vec /= weight_sum\n",
    "    tfidf_sent_vectors_test.append(sent_vec)\n",
    "    row += 1"
   ]
  },
  {
   "cell_type": "code",
   "execution_count": 45,
   "metadata": {},
   "outputs": [
    {
     "name": "stdout",
     "output_type": "stream",
     "text": [
      "[ 1.33202401e-01 -2.02910270e-01 -2.15554611e-01  3.10608921e-02\n",
      " -2.00773244e-01 -1.83195897e-02 -1.78426529e-02 -2.00882403e-01\n",
      " -1.99698921e-01 -5.34875217e-03  1.77982733e-01  2.20225710e-01\n",
      " -4.38255527e-03 -1.31425938e-01 -2.46871542e-02  1.29197586e-01\n",
      " -1.37241615e-01  1.37037891e-01  5.25579433e-01  2.50213798e-02\n",
      "  2.12028067e-01  1.33806583e-01  9.80259294e-02 -1.78660071e-01\n",
      "  1.16378856e-01  2.71293805e-01 -1.23477379e-01  1.33561961e-01\n",
      " -4.43886372e-02 -1.19253542e-01  1.84495340e-01  2.11152012e-01\n",
      "  2.58114497e-01  1.17149088e-01  1.98601528e-01 -1.46021880e-01\n",
      "  1.61726652e-01 -1.86259843e-01 -1.41334826e-01 -1.16442145e-01\n",
      " -6.00740017e-02 -5.05952582e-02  1.45144798e-01 -5.12238739e-02\n",
      "  7.13579682e-02 -1.65477107e-01 -1.36618449e-01  5.86921053e-02\n",
      " -4.39216575e-01 -7.04021298e-02 -1.97862110e-02  1.52654684e-01\n",
      "  1.01132950e-02 -1.38252547e-01 -1.05344304e-01 -4.09547808e-02\n",
      "  1.29702106e-01  1.69184539e-03 -3.34438171e-02  5.22895324e-02\n",
      " -6.09353465e-02  1.05523473e-01  3.06305587e-01 -3.49662305e-01\n",
      " -1.22060089e-01  3.12168893e-05  2.10158089e-01 -5.78610137e-01\n",
      " -2.60543940e-01 -1.18716595e-01 -1.43638993e-01 -2.27967256e-03\n",
      " -1.82173353e-01  7.40131819e-02 -2.43898844e-01 -6.34298617e-02\n",
      " -9.52220259e-02 -2.75092516e-01  9.90022379e-02 -2.72226056e-01\n",
      "  8.38529999e-02 -1.24269034e-01  4.30640861e-01 -1.63411124e-01\n",
      "  1.47139404e-01 -6.77482201e-02 -8.03822579e-02  4.02883924e-01\n",
      "  4.95918306e-02 -1.10894902e-01 -8.51441993e-02 -1.33114815e-02\n",
      " -2.76392944e-02  1.80569079e-01  1.29754868e-01 -4.09456635e-01\n",
      "  6.95034586e-02 -1.11662075e-01  1.86647044e-01 -7.88407775e-02\n",
      " -4.40745400e-01 -2.07864298e-01  1.40056966e-01  3.74907023e-02\n",
      " -9.97716070e-02 -6.69512593e-02 -6.20942091e-02 -5.50516754e-02\n",
      " -1.07179602e-01  2.23070009e-01 -2.95141007e-01 -7.59548953e-02\n",
      " -1.06583480e-01 -5.21966663e-02  1.30594220e-01 -7.54686706e-02\n",
      "  4.41203002e-02  3.55563750e-02 -4.93368944e-02 -1.66562250e-02\n",
      " -3.84901029e-01  1.92478978e-01  5.82459412e-02  8.05384090e-02\n",
      "  3.52341487e-03  6.06611962e-02  9.60015466e-02 -5.77720158e-02\n",
      " -1.76247166e-01  5.27709689e-02  3.76596683e-01 -2.20427184e-01\n",
      " -1.28078764e-01 -3.35473805e-02 -2.56976288e-02 -2.53177057e-02\n",
      " -1.31145739e-01  1.82598868e-01  5.75157605e-02  1.37703451e-01\n",
      " -7.96335656e-02  2.09741653e-01 -3.55591333e-01 -3.18311927e-02\n",
      "  3.49972839e-01 -1.01407252e-01 -1.29348720e-02 -1.32937803e-01\n",
      " -1.31911459e-01  1.26362258e-01 -3.91837015e-02  2.09376997e-01\n",
      "  8.71345720e-02 -1.15792048e-01 -2.45286066e-02  7.89417560e-02\n",
      "  8.89359954e-03 -6.82053861e-02  2.26027270e-01  1.50976379e-01\n",
      " -2.36070106e-02 -1.24422659e-01 -9.40232687e-02  9.98926062e-02\n",
      " -1.73305997e-02  1.90271404e-01 -4.46432247e-02 -1.97105917e-02\n",
      "  1.16538526e-01 -2.00993327e-02  1.09661898e-01 -2.15000552e-01\n",
      "  7.57418985e-03  4.15624367e-02 -2.67392691e-01  1.05316132e-01\n",
      "  1.42619680e-01  1.40914729e-01  1.70110504e-01  4.91978979e-01\n",
      " -1.01988778e-01 -2.77255976e-01  8.53872964e-02  1.95915446e-01\n",
      " -4.63363780e-02  9.85820243e-02 -1.97136500e-02 -1.27018983e-01\n",
      "  4.11686700e-02  1.88728438e-01 -2.39716151e-02  1.62229257e-01\n",
      " -4.75904922e-02 -1.12842147e-02 -6.15409524e-02  9.14980291e-02\n",
      " -9.03798109e-02 -2.11335252e-01  4.61869813e-02  1.82105203e-02\n",
      "  1.21442591e-02 -2.14658980e-01 -2.48997928e-01 -6.14059452e-02\n",
      " -5.31534958e-02 -2.34530248e-01  7.03042220e-02 -2.82517642e-01\n",
      "  2.27162883e-01  3.26867050e-02  2.54694024e-01  1.47653464e-01\n",
      "  6.79418025e-02 -5.27023318e-01 -2.13907924e-01 -4.64603029e-02\n",
      "  2.28050584e-01 -2.47319146e-01 -9.27184259e-02 -4.30244076e-02\n",
      "  2.41749255e-01  1.70878927e-01  2.39031829e-02  2.23157353e-01\n",
      "  2.23729926e-01 -1.22843917e-01  2.70219227e-01 -4.48097938e-01\n",
      "  2.91724940e-01 -3.68279716e-02  3.25006874e-01  3.22626609e-02\n",
      " -1.02891865e-02  2.13063184e-01 -1.25424277e-01  7.06045556e-02\n",
      " -1.45873476e-01  3.26499424e-01  1.69563678e-01 -3.94477937e-02\n",
      " -9.06649596e-02  2.37694374e-03 -4.58240450e-03 -7.71353216e-02\n",
      "  2.13797167e-01  5.82275357e-02 -1.85187699e-01 -3.41397152e-02\n",
      " -4.59476764e-02  1.33014583e-01 -1.18115525e-01  3.70888736e-02\n",
      "  3.69456541e-02 -2.59466750e-01 -2.20318487e-01  2.03590361e-01\n",
      "  1.92457949e-02 -1.20508136e-03  3.28019392e-01 -7.58918851e-02\n",
      " -9.94348202e-02  2.54385435e-01  1.25579559e-01 -2.48028057e-02\n",
      "  2.64290076e-01  3.19850981e-02  4.47094011e-01  6.82072386e-03\n",
      " -4.89684901e-01  2.83832603e-01  1.83486808e-01 -1.29686877e-03\n",
      "  2.29515197e-01 -3.70651192e-02  3.76459833e-02 -1.80930871e-01\n",
      "  5.62464901e-02  3.07414359e-01  2.09343872e-01 -1.12807311e-01\n",
      " -1.85009879e-01 -9.13661581e-02  3.15571174e-02 -3.18088667e-01\n",
      "  1.59660817e-01  3.98565923e-01  9.04781405e-02 -2.10821047e-01\n",
      " -1.08917995e-01 -1.45680929e-01 -7.09963596e-03  1.95819016e-01\n",
      " -1.39263508e-01 -2.67536366e-01 -9.64918136e-02 -1.88087143e-01\n",
      "  6.44178247e-02 -1.43412969e-01 -1.64078010e-01 -3.34644881e-02]\n",
      "================================================================================\n",
      "[ 1.88468676e-01 -2.35856330e-01 -8.28279299e-02  1.01938457e-01\n",
      " -1.39635615e-01  2.11703783e-01 -1.80793641e-01 -9.69449911e-02\n",
      " -9.91116254e-02  7.38252405e-02  1.36075727e-01  1.70920972e-01\n",
      " -1.58407613e-01 -5.98274831e-02 -7.02756104e-02  2.67296769e-02\n",
      "  4.51368134e-02  9.85671832e-02  3.66794882e-01 -5.95451912e-02\n",
      "  1.69120645e-01  7.64850955e-02  1.16539245e-01 -3.94121031e-01\n",
      "  1.89377041e-01  2.56855585e-01 -3.39792368e-02  3.12920116e-02\n",
      " -3.37572865e-03 -3.74399879e-03  2.11615212e-01  1.79167083e-01\n",
      "  1.58239801e-01  4.94394753e-02  1.66016365e-01 -4.80162499e-02\n",
      "  4.12988425e-02 -4.99262719e-02 -2.84838341e-01 -1.31005414e-01\n",
      "  6.94280600e-02  1.16725272e-01 -5.32928276e-02 -5.51267038e-02\n",
      "  1.64466379e-02 -1.76865081e-01 -1.09535228e-01 -4.31887150e-02\n",
      " -3.92833446e-01 -1.22854469e-01 -4.90279960e-02  1.17761487e-01\n",
      "  7.87542836e-02 -7.42452953e-02 -3.52184386e-01  6.78903590e-02\n",
      "  1.32529252e-01  1.52713797e-01 -1.71675930e-01  7.56289118e-02\n",
      " -9.69961505e-02  8.80576015e-02  1.80856859e-01 -4.38969876e-01\n",
      " -2.19133779e-01  5.81793504e-02 -6.56295448e-04 -6.73987023e-01\n",
      " -1.64208135e-01 -1.06907546e-01 -1.22828377e-01  1.21342633e-01\n",
      " -2.20949580e-01 -3.63268533e-03 -8.31717371e-02 -2.83078080e-02\n",
      "  6.90905964e-03 -2.07323272e-01  8.18535415e-02 -1.84425402e-01\n",
      "  6.99633996e-02 -6.16397683e-02  3.53235853e-01 -1.57121635e-01\n",
      "  1.33627443e-01  2.26408032e-02  7.95858209e-03  2.81830200e-01\n",
      "  5.41007574e-02 -1.40406320e-01 -1.57348072e-03 -1.22680662e-01\n",
      " -8.27473711e-02  3.05136148e-02  3.70074213e-01 -2.04458683e-01\n",
      "  5.64612218e-02 -2.10537655e-01  5.28882990e-02 -8.20581441e-02\n",
      " -2.50479068e-01 -2.85774958e-01  1.49406597e-01  8.00634232e-02\n",
      " -3.24509966e-02 -5.15616446e-02  2.31689580e-02  5.86242307e-02\n",
      " -1.16463039e-01  2.16752128e-01 -1.15170953e-01 -4.43355150e-02\n",
      " -2.11027276e-01  3.41947945e-02 -2.53153881e-02 -1.89081363e-01\n",
      " -1.23631439e-02  1.71084071e-01 -1.17626283e-01  9.25071417e-02\n",
      " -3.25608534e-01  1.44766418e-01  7.25602371e-03  1.79372106e-01\n",
      "  1.26516910e-01  1.98460199e-02  4.86549964e-02 -2.29010815e-02\n",
      " -2.40932293e-01  4.21991025e-02  3.25450694e-01 -6.53665368e-02\n",
      " -3.24561853e-02 -3.88204239e-02 -6.99706193e-02 -1.24319660e-01\n",
      " -1.94634072e-01  1.71926240e-02  1.12346505e-01 -4.05382680e-02\n",
      " -1.18674661e-01  2.92085075e-01 -1.73456382e-01  6.80123374e-03\n",
      "  1.67597757e-01 -1.20803934e-01 -5.35850491e-02 -1.95473353e-02\n",
      " -1.89653613e-01  5.46290929e-02 -2.36075473e-02  1.22210851e-01\n",
      "  2.17883565e-02 -2.84726502e-01 -1.32169332e-02  8.60617741e-02\n",
      "  9.88093553e-03 -1.19470490e-01  1.48864970e-01  1.76326429e-01\n",
      "  3.42795365e-02 -1.36828816e-01 -1.79421059e-02  1.73991330e-02\n",
      " -1.39515416e-01  5.46179238e-02 -1.21813853e-01  8.32206993e-02\n",
      "  4.65892861e-02  5.19323273e-03  3.24531324e-02 -1.64367128e-01\n",
      "  5.96087854e-02  2.01874890e-02 -2.07516169e-01 -2.32005110e-02\n",
      "  2.55916701e-01  1.13443916e-01  8.09609254e-02  3.90987445e-01\n",
      " -1.87393554e-01 -2.21796681e-01  1.94649023e-01  1.48282338e-01\n",
      " -1.38907906e-01  5.13631561e-02  1.19170684e-01 -8.70385212e-02\n",
      "  8.72055026e-02  2.27135933e-01 -2.76030509e-02  1.30518441e-01\n",
      " -1.11831012e-01  1.39440298e-02 -1.46867003e-01  1.07556096e-01\n",
      " -1.45691456e-01 -3.06616956e-03  5.86988769e-02  1.83076775e-02\n",
      " -5.93142099e-02 -1.12716434e-01 -1.61924441e-01  1.60459788e-01\n",
      "  1.78855693e-02 -5.65360927e-02 -6.96934115e-02 -1.92132324e-01\n",
      "  2.26630401e-01  1.57708864e-01  8.58877638e-02  2.99937017e-01\n",
      "  1.42188047e-01 -3.73459537e-01 -4.82216696e-02 -7.68694090e-02\n",
      "  1.31017833e-01 -1.59074677e-01  1.01279571e-02  1.39627264e-01\n",
      "  2.31099515e-01  7.85018522e-02  1.21537186e-02  5.64474654e-02\n",
      "  3.11801009e-01 -5.74698039e-02  1.83814123e-01 -3.92806613e-01\n",
      "  3.86157413e-01 -9.02819916e-02  2.93480108e-01  2.00429515e-01\n",
      " -3.26204737e-02  9.69037350e-02 -1.76307853e-01 -4.16349479e-02\n",
      " -9.57304100e-02  1.29467463e-01 -4.23373832e-02 -2.58673300e-01\n",
      " -5.95048832e-02 -1.40056222e-02 -1.94646437e-01 -1.11086790e-01\n",
      "  1.94655633e-01  1.21852602e-01 -2.46441224e-04  7.65258645e-02\n",
      " -1.42596078e-01  1.05427883e-01 -4.46425505e-02  1.32512658e-01\n",
      " -1.22279149e-01 -2.43317666e-01 -2.16737143e-01  7.63107444e-02\n",
      "  1.02228786e-01  1.34032375e-01  3.01708384e-01  1.16668437e-02\n",
      " -1.69436261e-01  2.43658719e-01  2.88285498e-02  7.91160446e-04\n",
      "  9.36691481e-02  2.10828339e-01  4.25427993e-01 -7.07786479e-02\n",
      " -2.27204723e-01  3.13160516e-01  2.38561944e-02  4.41368275e-02\n",
      "  3.61543939e-01  1.41949633e-01  5.02041173e-02 -1.35239390e-01\n",
      "  1.64981095e-01  2.52811668e-01  2.45571265e-01 -1.25267883e-01\n",
      " -9.88748353e-02 -1.19748150e-01  1.12462460e-01 -2.61026579e-01\n",
      "  1.10050110e-01  2.18073497e-01  2.06946200e-01 -1.67745223e-01\n",
      " -2.28439552e-02 -3.66980584e-02  8.81229567e-02  1.33027827e-01\n",
      "  4.49279860e-02 -2.40190278e-01 -9.35246206e-02 -1.01003213e-01\n",
      "  9.73924531e-02 -1.04472169e-01 -2.07567908e-01 -3.61418928e-02]\n"
     ]
    }
   ],
   "source": [
    "tfidf_w2v_train = tfidf_sent_vectors\n",
    "tfidf_w2v_test  = tfidf_sent_vectors_test\n",
    "print(tfidf_w2v_train[1])\n",
    "print(\"=\"*80)\n",
    "print(tfidf_w2v_test[1])"
   ]
  },
  {
   "cell_type": "code",
   "execution_count": 46,
   "metadata": {},
   "outputs": [
    {
     "name": "stdout",
     "output_type": "stream",
     "text": [
      "(29685, 300) (12723, 300)\n"
     ]
    }
   ],
   "source": [
    "tfidf_w2v_train = pd.DataFrame(tfidf_w2v_train)\n",
    "tfidf_w2v_test = pd.DataFrame(tfidf_w2v_test)\n",
    "print(tfidf_w2v_train.shape, tfidf_w2v_test.shape)"
   ]
  },
  {
   "cell_type": "code",
   "execution_count": 47,
   "metadata": {},
   "outputs": [
    {
     "name": "stdout",
     "output_type": "stream",
     "text": [
      "Before and after Feature Engineering the Type is -  <class 'numpy.ndarray'> & <class 'pandas.core.frame.DataFrame'>\n",
      "Before and after Feature Engineering the Features Dimension is -  29685 & 29685\n",
      "Before and after Feature Engineering the Features Dimension is -  305 & 29685\n"
     ]
    }
   ],
   "source": [
    "tfidf_w2v_train_with_FE = np.column_stack((tfidf_w2v_train,np.array(x_train['word_count'])))\n",
    "tfidf_w2v_train_with_FE = np.column_stack((tfidf_w2v_train_with_FE,np.array(x_train['char_count'])))\n",
    "tfidf_w2v_train_with_FE = np.column_stack((tfidf_w2v_train_with_FE,np.array(x_train['char_density'])))\n",
    "tfidf_w2v_train_with_FE = np.column_stack((tfidf_w2v_train_with_FE,np.array(x_train['polarity'])))\n",
    "tfidf_w2v_train_with_FE = np.column_stack((tfidf_w2v_train_with_FE,np.array(x_train['subjectivity'])))\n",
    "print(\"Before and after Feature Engineering the Type is - \",type(tfidf_w2v_train_with_FE), \"&\", type(tfidf_w2v_train))\n",
    "print(\"Before and after Feature Engineering the Features Dimension is - \",len(tfidf_w2v_train_with_FE),\"&\",len(tfidf_w2v_train))\n",
    "print(\"Before and after Feature Engineering the Features Dimension is - \",len(tfidf_w2v_train_with_FE[1]),\"&\",len(tfidf_w2v_train[1]))"
   ]
  },
  {
   "cell_type": "code",
   "execution_count": 48,
   "metadata": {},
   "outputs": [
    {
     "name": "stdout",
     "output_type": "stream",
     "text": [
      "Before and after Feature Engineering the Type is -  <class 'numpy.ndarray'> & <class 'pandas.core.frame.DataFrame'>\n",
      "Before and after Feature Engineering the Features Dimension is - 12723 & 12723\n",
      "Before and after Feature Engineering the Features Dimension is - 305 & 12723\n"
     ]
    }
   ],
   "source": [
    "tfidf_w2v_test_with_FE = np.column_stack((tfidf_w2v_test,np.array(x_test['word_count'])))\n",
    "tfidf_w2v_test_with_FE = np.column_stack((tfidf_w2v_test_with_FE,np.array(x_test['char_count'])))\n",
    "tfidf_w2v_test_with_FE = np.column_stack((tfidf_w2v_test_with_FE,np.array(x_test['char_density'])))\n",
    "tfidf_w2v_test_with_FE = np.column_stack((tfidf_w2v_test_with_FE,np.array(x_test['polarity'])))\n",
    "tfidf_w2v_test_with_FE = np.column_stack((tfidf_w2v_test_with_FE,np.array(x_test['subjectivity'])))\n",
    "print(\"Before and after Feature Engineering the Type is - \",type(tfidf_w2v_test_with_FE), \"&\", type(tfidf_w2v_test))\n",
    "print(\"Before and after Feature Engineering the Features Dimension is -\",len(tfidf_w2v_test_with_FE),\"&\",len(tfidf_w2v_test))\n",
    "print(\"Before and after Feature Engineering the Features Dimension is -\",len(tfidf_w2v_test_with_FE[1]),\"&\",len(tfidf_w2v_test[1]))"
   ]
  },
  {
   "cell_type": "markdown",
   "metadata": {
    "_uuid": "51bc9fe54ce02244e6389585e445f475cc1b7dd9"
   },
   "source": [
    "## GBDT - Model Function"
   ]
  },
  {
   "cell_type": "markdown",
   "metadata": {},
   "source": [
    "** GridSearch **"
   ]
  },
  {
   "cell_type": "code",
   "execution_count": 49,
   "metadata": {},
   "outputs": [],
   "source": [
    "from sklearn.ensemble import GradientBoostingClassifier\n",
    "from sklearn.model_selection import GridSearchCV\n",
    "def Grid_Search_CV(x_data, y_data, Kfold = 5):\n",
    "    cv_scores = []\n",
    "    hyperparam = []\n",
    "    param_grid = {'n_estimators': [5, 10],'max_depth': [1, 5, 10]}\n",
    "    rf = GradientBoostingClassifier()\n",
    "    model = GridSearchCV(rf, param_grid, cv=Kfold, scoring= 'roc_auc')\n",
    "    model.fit(x_data, y_data)\n",
    "    cv_results = model.cv_results_['mean_test_score']\n",
    "    cv_results = pd.DataFrame(model.cv_results_).loc[:, ['mean_test_score', 'params']].sort_values(by='mean_test_score')\n",
    "    param_split = cv_results['params'].apply(pd.Series)\n",
    "    cv_all_scores = pd.concat([cv_results,param_split], axis = 1)\n",
    "    best_parameters = model.best_params_\n",
    "    best_grid_estimator = model.best_estimator_\n",
    "    best_auc_score = model.best_score_\n",
    "    return best_parameters, best_grid_estimator, best_auc_score, cv_all_scores"
   ]
  },
  {
   "cell_type": "code",
   "execution_count": 50,
   "metadata": {},
   "outputs": [],
   "source": [
    "from sklearn.metrics import roc_auc_score\n",
    "def Auc_all_data(x_data, y_data):\n",
    "    #dec_tree = DecisionTreeClassifier()\n",
    "    n_estimators = [5, 10]\n",
    "    max_depth = [1, 5, 10]\n",
    "    cv_scores = []\n",
    "    row = []\n",
    "    all_data_cv_score = pd.DataFrame(columns = ['max_depth','n_estimators','cv_score'])\n",
    "    print(\"================================================================================================\")\n",
    "    print(\"The Auc score for whole X_Trian data for different max_depth & n_estimators is ----------->\")\n",
    "    print(\"================================================================================================\")\n",
    "    for depth in (max_depth):\n",
    "        for samp in (n_estimators): \n",
    "            rf = GradientBoostingClassifier(max_depth = depth, n_estimators = samp)\n",
    "            rf.fit(x_data, y_data)\n",
    "            pred = rf.predict_proba(x_data)\n",
    "            cv = roc_auc_score(y_data, pred[:,1])\n",
    "            cv_scores.append(cv)\n",
    "            all_data_cv_score = all_data_cv_score.append({'max_depth': depth, 'n_estimators': samp, 'cv_score': cv}, ignore_index=True)\n",
    "    print(all_data_cv_score)\n",
    "    return cv_scores, all_data_cv_score"
   ]
  },
  {
   "cell_type": "code",
   "execution_count": 51,
   "metadata": {
    "_uuid": "377b120ee5a321fd707b14a1d8e38520fb696b66"
   },
   "outputs": [],
   "source": [
    "def feature_importance(vector,optimal_NB):    \n",
    "    feature_names =vector.get_feature_names()\n",
    "    prob = optimal_NB.feature_log_prob_\n",
    "    feature_names2 = np.array(feature_names)\n",
    "    feature_pd = pd.DataFrame(prob,columns = feature_names)\n",
    "    print(type(feature_names), type(prob), type(feature_names2), type(feature_pd))\n",
    "    print(\"======================================================================\")\n",
    "    print(len(feature_names), prob.shape, feature_names2.shape, feature_pd.shape)\n",
    "    print(\"======================================================================\")\n",
    "    print(feature_pd[:10])\n",
    "    feature_prob_transpose = feature_pd.T\n",
    "    return feature_prob_transpose"
   ]
  },
  {
   "cell_type": "code",
   "execution_count": 52,
   "metadata": {},
   "outputs": [],
   "source": [
    "def auc_roc(y_train, pred_train, y_test,pred_test):\n",
    "    fpr_train,tpr_train,threshold_train = roc_curve(y_train,pred_train[:,1])\n",
    "    fpr_test,tpr_test,threshold_test = roc_curve(y_test,pred_test[:,1])\n",
    "    auc_score_train = auc(fpr_train,tpr_train)\n",
    "    auc_score_test = auc(fpr_test,tpr_test)\n",
    "    plt.plot([0, 1], [0, 1], linestyle='--')\n",
    "    # plot the roc curve for the model\n",
    "    plt.plot(fpr_train, tpr_train, marker='.', label = \"Train_Data\")\n",
    "    plt.plot(fpr_test, tpr_test, marker='.', label = \"Test_Data\")\n",
    "    # show the plot\n",
    "    plt.legend()\n",
    "    plt.show()\n",
    "    return auc_score_train, auc_score_test"
   ]
  },
  {
   "cell_type": "code",
   "execution_count": 53,
   "metadata": {},
   "outputs": [],
   "source": [
    "def plot(cv_scores_table):    \n",
    "    result = cv_scores_table.pivot(index='max_depth', columns='n_estimators', values='mean_test_score')\n",
    "    ax = plt.axes()\n",
    "    sns.heatmap(result, annot=True, fmt=\"g\", cmap='viridis', ax = ax)\n",
    "    ax.set_title('K-FOLD MODEL')\n",
    "    plt.show()\n",
    "    return\n",
    "\n",
    "def plot2(cv_scores_table):    \n",
    "    result = cv_scores_table.pivot(index='max_depth', columns='n_estimators', values='cv_score')\n",
    "    ax = plt.axes()\n",
    "    sns.heatmap(result, annot=True, fmt=\"g\", cmap='viridis',ax = ax)\n",
    "    ax.set_title('ALL DATA - MODEL')\n",
    "    plt.show()\n",
    "    return"
   ]
  },
  {
   "cell_type": "markdown",
   "metadata": {},
   "source": [
    "Reference - Used below reference for creating the Confusion Matrix\n",
    "\n",
    "https://stackoverflow.com/questions/31421413/how-to-compute-precision-recall-accuracy-and-f1-score-for-the-multiclass-case"
   ]
  },
  {
   "cell_type": "code",
   "execution_count": 54,
   "metadata": {},
   "outputs": [],
   "source": [
    "import matplotlib.pyplot as plt\n",
    "from mlxtend.plotting import plot_confusion_matrix\n",
    "\n",
    "def Confusion_Matrix(y_test, prediction):\n",
    "    pred =  np.where(prediction > 0.5, 1, 0)\n",
    "    confusion_mat = confusion_matrix(y_test, pred[:,1])\n",
    "    fig, ax = plot_confusion_matrix(conf_mat = confusion_mat)\n",
    "    plt.show()\n",
    "    return"
   ]
  },
  {
   "cell_type": "markdown",
   "metadata": {
    "_uuid": "5fbf9e7c065090ae8dbee348b79a62cb147ed0b5"
   },
   "source": [
    "# Applying GBDT"
   ]
  },
  {
   "cell_type": "markdown",
   "metadata": {
    "_uuid": "74751cf22bcdcbc170237c4682edaff54be2c578"
   },
   "source": [
    "## [5.1.1] Applying GBDT on BOW,<font color='red'> SET 1</font>"
   ]
  },
  {
   "cell_type": "markdown",
   "metadata": {},
   "source": [
    "https://stackoverflow.com/questions/38231591/splitting-dictionary-list-inside-a-pandas-column-into-separate-columns"
   ]
  },
  {
   "cell_type": "code",
   "execution_count": 55,
   "metadata": {
    "_uuid": "9758101f1fd07e44e0ebeaf612bcff3482aad3af"
   },
   "outputs": [
    {
     "name": "stdout",
     "output_type": "stream",
     "text": [
      "Best Parameters are ---->   {'max_depth': 10, 'n_estimators': 10}\n",
      "======================================================================\n",
      "Best Auc Score is ---->  0.8818697598721502\n",
      "\n",
      "\n",
      "The CV Score table for different Hyperparameter are --->\n",
      "=========================================================\n",
      "   mean_test_score  max_depth  n_estimators\n",
      "0         0.667214          1             5\n",
      "1         0.707666          1            10\n",
      "2         0.778982          5             5\n",
      "3         0.808631          5            10\n",
      "4         0.854255         10             5\n",
      "5         0.881870         10            10\n"
     ]
    }
   ],
   "source": [
    "bow_best_parameters, bow_best_grid_estimator, bow_best_auc_score, bow_cv_all_scores = Grid_Search_CV(Bow_Vector_Train, y_train)\n",
    "print(\"Best Parameters are ---->  \",bow_best_parameters)\n",
    "print(\"======================================================================\")\n",
    "print(\"Best Auc Score is ----> \",bow_best_auc_score)\n",
    "print(\"\")\n",
    "print(\"\")\n",
    "#Train Data\n",
    "print(\"The CV Score table for different Hyperparameter are --->\")\n",
    "print(\"=========================================================\")\n",
    "score = bow_cv_all_scores.drop('params', axis = 1)\n",
    "print(score)"
   ]
  },
  {
   "cell_type": "code",
   "execution_count": 56,
   "metadata": {},
   "outputs": [
    {
     "name": "stdout",
     "output_type": "stream",
     "text": [
      "================================================================================================\n",
      "The Auc score for whole X_Trian data for different max_depth & n_estimators is ----------->\n",
      "================================================================================================\n",
      "   max_depth  n_estimators  cv_score\n",
      "0        1.0           5.0  0.663935\n",
      "1        1.0          10.0  0.698078\n",
      "2        5.0           5.0  0.786428\n",
      "3        5.0          10.0  0.816851\n",
      "4       10.0           5.0  0.882186\n",
      "5       10.0          10.0  0.907643\n"
     ]
    }
   ],
   "source": [
    "cv_scores_bow_alldata, cv_scores_bow_alldata_table = Auc_all_data(Bow_Vector_Train, y_train)"
   ]
  },
  {
   "cell_type": "code",
   "execution_count": 57,
   "metadata": {},
   "outputs": [
    {
     "data": {
      "text/plain": [
       "GradientBoostingClassifier(criterion='friedman_mse', init=None,\n",
       "              learning_rate=0.1, loss='deviance', max_depth=10,\n",
       "              max_features=None, max_leaf_nodes=None,\n",
       "              min_impurity_decrease=0.0, min_impurity_split=None,\n",
       "              min_samples_leaf=1, min_samples_split=2,\n",
       "              min_weight_fraction_leaf=0.0, n_estimators=10,\n",
       "              n_iter_no_change=None, presort='auto', random_state=None,\n",
       "              subsample=1.0, tol=0.0001, validation_fraction=0.1,\n",
       "              verbose=0, warm_start=False)"
      ]
     },
     "execution_count": 57,
     "metadata": {},
     "output_type": "execute_result"
    }
   ],
   "source": [
    "bow_best_grid_estimator"
   ]
  },
  {
   "cell_type": "code",
   "execution_count": 58,
   "metadata": {
    "_uuid": "c52cd4da7b1756f01e2937a928cc641008517ee5"
   },
   "outputs": [],
   "source": [
    "#Lets build the Actual Model with the Optimized K\n",
    "#optimal_DT = DecisionTreeClassifier(best_parameters)\n",
    "\n",
    "#Fit the Model\n",
    "optimal_DT = bow_best_grid_estimator.fit(Bow_Vector_Train, y_train)\n",
    "\n",
    "#Predict the AUC on Test Data\n",
    "pred_bow_train = bow_best_grid_estimator.predict_proba(Bow_Vector_Train)\n",
    "pred_bow_test = bow_best_grid_estimator.predict_proba(Bow_Vector_Test)"
   ]
  },
  {
   "cell_type": "markdown",
   "metadata": {},
   "source": [
    "## Representation of Results <font color='red'> SET 1</font>"
   ]
  },
  {
   "cell_type": "markdown",
   "metadata": {
    "_uuid": "5b5e26364cce45b03e659f9569cadc68b810a8f5"
   },
   "source": [
    "**Code Reference** - https://stackoverflow.com/questions/22272081/label-python-data-points-on-plot/22272358\n",
    "\n",
    "Above coding document is referring for understanding how to represent the coordinate points on a give Plot."
   ]
  },
  {
   "cell_type": "markdown",
   "metadata": {},
   "source": [
    "### Cross Validation Score - Train & Test Data"
   ]
  },
  {
   "cell_type": "code",
   "execution_count": 59,
   "metadata": {},
   "outputs": [
    {
     "data": {
      "text/html": [
       "<div>\n",
       "<style scoped>\n",
       "    .dataframe tbody tr th:only-of-type {\n",
       "        vertical-align: middle;\n",
       "    }\n",
       "\n",
       "    .dataframe tbody tr th {\n",
       "        vertical-align: top;\n",
       "    }\n",
       "\n",
       "    .dataframe thead th {\n",
       "        text-align: right;\n",
       "    }\n",
       "</style>\n",
       "<table border=\"1\" class=\"dataframe\">\n",
       "  <thead>\n",
       "    <tr style=\"text-align: right;\">\n",
       "      <th></th>\n",
       "      <th>max_depth</th>\n",
       "      <th>n_estimators</th>\n",
       "      <th>cv_score</th>\n",
       "    </tr>\n",
       "  </thead>\n",
       "  <tbody>\n",
       "    <tr>\n",
       "      <th>0</th>\n",
       "      <td>1.0</td>\n",
       "      <td>5.0</td>\n",
       "      <td>0.663935</td>\n",
       "    </tr>\n",
       "    <tr>\n",
       "      <th>1</th>\n",
       "      <td>1.0</td>\n",
       "      <td>10.0</td>\n",
       "      <td>0.698078</td>\n",
       "    </tr>\n",
       "    <tr>\n",
       "      <th>2</th>\n",
       "      <td>5.0</td>\n",
       "      <td>5.0</td>\n",
       "      <td>0.786428</td>\n",
       "    </tr>\n",
       "    <tr>\n",
       "      <th>3</th>\n",
       "      <td>5.0</td>\n",
       "      <td>10.0</td>\n",
       "      <td>0.816851</td>\n",
       "    </tr>\n",
       "    <tr>\n",
       "      <th>4</th>\n",
       "      <td>10.0</td>\n",
       "      <td>5.0</td>\n",
       "      <td>0.882186</td>\n",
       "    </tr>\n",
       "    <tr>\n",
       "      <th>5</th>\n",
       "      <td>10.0</td>\n",
       "      <td>10.0</td>\n",
       "      <td>0.907643</td>\n",
       "    </tr>\n",
       "  </tbody>\n",
       "</table>\n",
       "</div>"
      ],
      "text/plain": [
       "   max_depth  n_estimators  cv_score\n",
       "0        1.0           5.0  0.663935\n",
       "1        1.0          10.0  0.698078\n",
       "2        5.0           5.0  0.786428\n",
       "3        5.0          10.0  0.816851\n",
       "4       10.0           5.0  0.882186\n",
       "5       10.0          10.0  0.907643"
      ]
     },
     "execution_count": 59,
     "metadata": {},
     "output_type": "execute_result"
    }
   ],
   "source": [
    "cv_scores_bow_alldata_table"
   ]
  },
  {
   "cell_type": "code",
   "execution_count": 60,
   "metadata": {},
   "outputs": [
    {
     "data": {
      "image/png": "[encoded data removed]",
      "text/plain": [
       "<Figure size 432x288 with 2 Axes>"
      ]
     },
     "metadata": {},
     "output_type": "display_data"
    },
    {
     "data": {
      "image/png": "[encoded data removed]",
      "text/plain": [
       "<Figure size 432x288 with 2 Axes>"
      ]
     },
     "metadata": {},
     "output_type": "display_data"
    }
   ],
   "source": [
    "plot(bow_cv_all_scores)\n",
    "plot2(cv_scores_bow_alldata_table)"
   ]
  },
  {
   "cell_type": "markdown",
   "metadata": {},
   "source": [
    "### ROC Curve - BoW"
   ]
  },
  {
   "cell_type": "code",
   "execution_count": 61,
   "metadata": {},
   "outputs": [
    {
     "data": {
      "image/png": "[encoded data removed]",
      "text/plain": [
       "<Figure size 432x288 with 1 Axes>"
      ]
     },
     "metadata": {},
     "output_type": "display_data"
    },
    {
     "name": "stdout",
     "output_type": "stream",
     "text": [
      "The AUC Score of Train Data using Bag of Words is --  0.9074542829638645\n",
      "The AUC Score of Test  Data using Bag of Words is --  0.8854695782436641\n"
     ]
    }
   ],
   "source": [
    "auc_bow_train, auc_bow_test  = auc_roc(y_train, pred_bow_train, y_test, pred_bow_test)\n",
    "print(\"The AUC Score of Train Data using Bag of Words is -- \",auc_bow_train)\n",
    "print(\"The AUC Score of Test  Data using Bag of Words is -- \", auc_bow_test)"
   ]
  },
  {
   "cell_type": "markdown",
   "metadata": {},
   "source": [
    "### Confusion Matrix - BoW"
   ]
  },
  {
   "cell_type": "code",
   "execution_count": 62,
   "metadata": {},
   "outputs": [
    {
     "data": {
      "image/png": "[encoded data removed]",
      "text/plain": [
       "<Figure size 432x288 with 1 Axes>"
      ]
     },
     "metadata": {},
     "output_type": "display_data"
    },
    {
     "data": {
      "image/png": "[encoded data removed]",
      "text/plain": [
       "<Figure size 432x288 with 1 Axes>"
      ]
     },
     "metadata": {},
     "output_type": "display_data"
    }
   ],
   "source": [
    "Confusion_Matrix(y_train,pred_bow_train)\n",
    "Confusion_Matrix(y_test,pred_bow_test)"
   ]
  },
  {
   "cell_type": "markdown",
   "metadata": {
    "_uuid": "03a462fd548626b60a1d2178faf4ebe2808c4131"
   },
   "source": [
    "## [5.1.2] Top 20 important features of positive class from<font color='red'> SET 1</font>"
   ]
  },
  {
   "cell_type": "code",
   "execution_count": 63,
   "metadata": {},
   "outputs": [
    {
     "name": "stdout",
     "output_type": "stream",
     "text": [
      "<class 'numpy.ndarray'> <class 'numpy.ndarray'>\n",
      "(3000,) (3000,)\n"
     ]
    }
   ],
   "source": [
    "features = np.asarray(Bow_Vect.get_feature_names())\n",
    "feature_importance = bow_best_grid_estimator.feature_importances_\n",
    "print(type(features), type(feature_importance))\n",
    "print(features.shape, feature_importance.shape)"
   ]
  },
  {
   "cell_type": "code",
   "execution_count": 64,
   "metadata": {
    "_uuid": "2dab323689ea9df9a35a7e32ba47e5ca56d189b9"
   },
   "outputs": [
    {
     "data": {
      "text/html": [
       "<div>\n",
       "<style scoped>\n",
       "    .dataframe tbody tr th:only-of-type {\n",
       "        vertical-align: middle;\n",
       "    }\n",
       "\n",
       "    .dataframe tbody tr th {\n",
       "        vertical-align: top;\n",
       "    }\n",
       "\n",
       "    .dataframe thead th {\n",
       "        text-align: right;\n",
       "    }\n",
       "</style>\n",
       "<table border=\"1\" class=\"dataframe\">\n",
       "  <thead>\n",
       "    <tr style=\"text-align: right;\">\n",
       "      <th></th>\n",
       "      <th>Gain</th>\n",
       "      <th>feature_name</th>\n",
       "    </tr>\n",
       "  </thead>\n",
       "  <tbody>\n",
       "    <tr>\n",
       "      <th>447</th>\n",
       "      <td>9.965024320769804e-05</td>\n",
       "      <td>chew</td>\n",
       "    </tr>\n",
       "    <tr>\n",
       "      <th>2231</th>\n",
       "      <td>9.938409165732929e-09</td>\n",
       "      <td>sadly</td>\n",
       "    </tr>\n",
       "    <tr>\n",
       "      <th>1505</th>\n",
       "      <td>9.898823308442095e-05</td>\n",
       "      <td>live</td>\n",
       "    </tr>\n",
       "    <tr>\n",
       "      <th>2754</th>\n",
       "      <td>9.872287894503569e-08</td>\n",
       "      <td>trash</td>\n",
       "    </tr>\n",
       "    <tr>\n",
       "      <th>1285</th>\n",
       "      <td>9.866506021317206e-05</td>\n",
       "      <td>ice</td>\n",
       "    </tr>\n",
       "    <tr>\n",
       "      <th>1075</th>\n",
       "      <td>9.842894399961235e-05</td>\n",
       "      <td>gas</td>\n",
       "    </tr>\n",
       "    <tr>\n",
       "      <th>2931</th>\n",
       "      <td>9.82193831317191e-07</td>\n",
       "      <td>wilton</td>\n",
       "    </tr>\n",
       "    <tr>\n",
       "      <th>219</th>\n",
       "      <td>9.781414135930947e-05</td>\n",
       "      <td>began</td>\n",
       "    </tr>\n",
       "    <tr>\n",
       "      <th>877</th>\n",
       "      <td>9.764124236871438e-05</td>\n",
       "      <td>except</td>\n",
       "    </tr>\n",
       "    <tr>\n",
       "      <th>2370</th>\n",
       "      <td>9.72820770092796e-08</td>\n",
       "      <td>sign</td>\n",
       "    </tr>\n",
       "    <tr>\n",
       "      <th>2713</th>\n",
       "      <td>9.705342592179491e-05</td>\n",
       "      <td>told</td>\n",
       "    </tr>\n",
       "    <tr>\n",
       "      <th>1550</th>\n",
       "      <td>9.64067552622087e-05</td>\n",
       "      <td>made</td>\n",
       "    </tr>\n",
       "    <tr>\n",
       "      <th>943</th>\n",
       "      <td>9.632398943755873e-05</td>\n",
       "      <td>feeding</td>\n",
       "    </tr>\n",
       "    <tr>\n",
       "      <th>1162</th>\n",
       "      <td>9.607205160357409e-05</td>\n",
       "      <td>guests</td>\n",
       "    </tr>\n",
       "    <tr>\n",
       "      <th>2665</th>\n",
       "      <td>9.583224853394249e-05</td>\n",
       "      <td>texture</td>\n",
       "    </tr>\n",
       "    <tr>\n",
       "      <th>989</th>\n",
       "      <td>9.472561169792323e-05</td>\n",
       "      <td>flavored</td>\n",
       "    </tr>\n",
       "    <tr>\n",
       "      <th>1608</th>\n",
       "      <td>9.469083052141912e-05</td>\n",
       "      <td>meaty</td>\n",
       "    </tr>\n",
       "    <tr>\n",
       "      <th>392</th>\n",
       "      <td>9.40738221886153e-07</td>\n",
       "      <td>careful</td>\n",
       "    </tr>\n",
       "    <tr>\n",
       "      <th>1671</th>\n",
       "      <td>9.36734197161115e-05</td>\n",
       "      <td>mom</td>\n",
       "    </tr>\n",
       "    <tr>\n",
       "      <th>1807</th>\n",
       "      <td>9.334743966312383e-05</td>\n",
       "      <td>order</td>\n",
       "    </tr>\n",
       "  </tbody>\n",
       "</table>\n",
       "</div>"
      ],
      "text/plain": [
       "                       Gain feature_name\n",
       "447   9.965024320769804e-05         chew\n",
       "2231  9.938409165732929e-09        sadly\n",
       "1505  9.898823308442095e-05         live\n",
       "2754  9.872287894503569e-08        trash\n",
       "1285  9.866506021317206e-05          ice\n",
       "1075  9.842894399961235e-05          gas\n",
       "2931   9.82193831317191e-07       wilton\n",
       "219   9.781414135930947e-05        began\n",
       "877   9.764124236871438e-05       except\n",
       "2370   9.72820770092796e-08         sign\n",
       "2713  9.705342592179491e-05         told\n",
       "1550   9.64067552622087e-05         made\n",
       "943   9.632398943755873e-05      feeding\n",
       "1162  9.607205160357409e-05       guests\n",
       "2665  9.583224853394249e-05      texture\n",
       "989   9.472561169792323e-05     flavored\n",
       "1608  9.469083052141912e-05        meaty\n",
       "392    9.40738221886153e-07      careful\n",
       "1671   9.36734197161115e-05          mom\n",
       "1807  9.334743966312383e-05        order"
      ]
     },
     "execution_count": 64,
     "metadata": {},
     "output_type": "execute_result"
    }
   ],
   "source": [
    "#https://stackoverflow.com/questions/26984414/efficiently-sorting-a-numpy-array-in-descending-order\n",
    "importances = pd.DataFrame(data = np.column_stack((feature_importance,features)), columns = [\"Gain\", \"feature_name\"])\n",
    "importances2 = importances.sort_values(by = 'Gain', ascending = False)\n",
    "Top20Features = importances2[0:20]\n",
    "Top20Features"
   ]
  },
  {
   "cell_type": "code",
   "execution_count": 65,
   "metadata": {},
   "outputs": [
    {
     "name": "stdout",
     "output_type": "stream",
     "text": [
      "\n",
      "The following command must be run outside of the IPython shell:\n",
      "\n",
      "    $ pip install wordcloud\n",
      "\n",
      "The Python package manager (pip) can only be used from outside of IPython.\n",
      "Please reissue the `pip` command in a separate terminal or command prompt.\n",
      "\n",
      "See the Python documentation for more information on how to install packages:\n",
      "\n",
      "    https://docs.python.org/3/installing/\n"
     ]
    }
   ],
   "source": [
    "pip install wordcloud"
   ]
  },
  {
   "cell_type": "code",
   "execution_count": 66,
   "metadata": {},
   "outputs": [],
   "source": [
    "from wordcloud import WordCloud, STOPWORDS"
   ]
  },
  {
   "cell_type": "markdown",
   "metadata": {},
   "source": [
    "Used the below link for the Word Cloud Code\n",
    "[https://www.kaggle.com/y983zhan/word-cloud-with-python]"
   ]
  },
  {
   "cell_type": "code",
   "execution_count": 67,
   "metadata": {},
   "outputs": [
    {
     "name": "stdout",
     "output_type": "stream",
     "text": [
      "<wordcloud.wordcloud.WordCloud object at 0x7f1c0fc84588>\n"
     ]
    },
    {
     "data": {
      "image/png": "[encoded data removed]",
      "text/plain": [
       "<Figure size 432x288 with 1 Axes>"
      ]
     },
     "metadata": {},
     "output_type": "display_data"
    }
   ],
   "source": [
    "from wordcloud import WordCloud, STOPWORDS\n",
    "import matplotlib as mpl\n",
    "#mpl.rcParams['figure.figsize']=(8.0,6.0)    #(6.0,4.0)\n",
    "#mpl.rcParams['font.size']=40                #10 \n",
    "#mpl.rcParams['savefig.dpi']=100             #72 \n",
    "#mpl.rcParams['figure.subplot.bottom']=.1 \n",
    "\n",
    "wordcloud = WordCloud(\n",
    "                          background_color='white',\n",
    "                         ).generate(str(Top20Features['feature_name']))\n",
    "\n",
    "print(wordcloud)\n",
    "fig = plt.figure(1)\n",
    "plt.imshow(wordcloud)\n",
    "plt.axis('off')\n",
    "plt.show()\n",
    "#fig.savefig(\"word1.png\", dpi=900)"
   ]
  },
  {
   "cell_type": "markdown",
   "metadata": {},
   "source": [
    "** Adding New Features **"
   ]
  },
  {
   "cell_type": "code",
   "execution_count": 68,
   "metadata": {},
   "outputs": [
    {
     "name": "stdout",
     "output_type": "stream",
     "text": [
      "================================================================================================\n",
      "The Auc score for whole X_Trian data for different max_depth & n_estimators is ----------->\n",
      "================================================================================================\n",
      "   max_depth  n_estimators  cv_score\n",
      "0        1.0           5.0  0.751960\n",
      "1        1.0          10.0  0.783546\n",
      "2        5.0           5.0  0.851473\n",
      "3        5.0          10.0  0.863465\n",
      "4       10.0           5.0  0.923019\n",
      "5       10.0          10.0  0.941303\n",
      "Best Parameters after Feature Engineering are ---->   {'max_depth': 10, 'n_estimators': 10}\n",
      "=====================================================================\n",
      "Best Auc Score after Feature Engineering is ---->  0.9147661409662662\n",
      "\n",
      "\n",
      "The CV Score table after Feature Engineering for different Hyperparameter are --->\n",
      "==================================================================================\n",
      "   mean_test_score  max_depth  n_estimators\n",
      "0         0.752773          1             5\n",
      "1         0.781958          1            10\n",
      "2         0.842732          5             5\n",
      "3         0.853739          5            10\n",
      "4         0.896178         10             5\n",
      "5         0.914766         10            10\n"
     ]
    }
   ],
   "source": [
    "bow_best_parameters_FE, bow_best_grid_estimator_FE, bow_grid_score_FE, bow_cv_all_scores_FE = Grid_Search_CV(Bow_train_withFE, y_train)\n",
    "cv_scores_bow_alldata_FE, cv_scores_bow_alldata_table_FE = Auc_all_data(Bow_train_withFE, y_train)\n",
    "\n",
    "print(\"Best Parameters after Feature Engineering are ---->  \", bow_best_parameters_FE)\n",
    "print(\"=====================================================================\")\n",
    "print(\"Best Auc Score after Feature Engineering is ----> \",bow_grid_score_FE)\n",
    "print(\"\")\n",
    "print(\"\")\n",
    "#Train Data\n",
    "print(\"The CV Score table after Feature Engineering for different Hyperparameter are --->\")\n",
    "print(\"==================================================================================\")\n",
    "score = bow_cv_all_scores_FE.drop('params', axis = 1)\n",
    "print(score)"
   ]
  },
  {
   "cell_type": "code",
   "execution_count": 69,
   "metadata": {},
   "outputs": [
    {
     "data": {
      "text/plain": [
       "GradientBoostingClassifier(criterion='friedman_mse', init=None,\n",
       "              learning_rate=0.1, loss='deviance', max_depth=10,\n",
       "              max_features=None, max_leaf_nodes=None,\n",
       "              min_impurity_decrease=0.0, min_impurity_split=None,\n",
       "              min_samples_leaf=1, min_samples_split=2,\n",
       "              min_weight_fraction_leaf=0.0, n_estimators=10,\n",
       "              n_iter_no_change=None, presort='auto', random_state=None,\n",
       "              subsample=1.0, tol=0.0001, validation_fraction=0.1,\n",
       "              verbose=0, warm_start=False)"
      ]
     },
     "execution_count": 69,
     "metadata": {},
     "output_type": "execute_result"
    }
   ],
   "source": [
    "bow_best_grid_estimator_FE"
   ]
  },
  {
   "cell_type": "code",
   "execution_count": 70,
   "metadata": {},
   "outputs": [],
   "source": [
    "#Lets build the Actual Model with the Optimized K\n",
    "#optimal_DT = DecisionTreeClassifier(best_parameters)\n",
    "\n",
    "#Fit the Model\n",
    "optimal_DT = bow_best_grid_estimator_FE.fit(Bow_train_withFE, y_train)\n",
    "\n",
    "#Predict the AUC on Test Data\n",
    "pred_bow_train_FE = optimal_DT.predict_proba(Bow_train_withFE)\n",
    "pred_bow_test_FE = optimal_DT.predict_proba(Bow_test_withFE)"
   ]
  },
  {
   "cell_type": "markdown",
   "metadata": {
    "_uuid": "94815460138ac0363d3d8e40bf278b6bcfa90bcc"
   },
   "source": [
    "## Representation of Results with FE <font color='red'> SET 1</font>"
   ]
  },
  {
   "cell_type": "markdown",
   "metadata": {},
   "source": [
    "### Cross Validation Score - Train & Test Data (with FE)"
   ]
  },
  {
   "cell_type": "code",
   "execution_count": 71,
   "metadata": {},
   "outputs": [
    {
     "data": {
      "image/png": "[encoded data removed]",
      "text/plain": [
       "<Figure size 432x288 with 2 Axes>"
      ]
     },
     "metadata": {},
     "output_type": "display_data"
    },
    {
     "data": {
      "image/png": "[encoded data removed]",
      "text/plain": [
       "<Figure size 432x288 with 2 Axes>"
      ]
     },
     "metadata": {},
     "output_type": "display_data"
    }
   ],
   "source": [
    "plot(bow_cv_all_scores_FE)\n",
    "plot2(cv_scores_bow_alldata_table_FE)"
   ]
  },
  {
   "cell_type": "markdown",
   "metadata": {},
   "source": [
    "### ROC Curve - BoW with FE"
   ]
  },
  {
   "cell_type": "code",
   "execution_count": 72,
   "metadata": {},
   "outputs": [
    {
     "data": {
      "image/png": "[encoded data removed]",
      "text/plain": [
       "<Figure size 432x288 with 1 Axes>"
      ]
     },
     "metadata": {},
     "output_type": "display_data"
    },
    {
     "name": "stdout",
     "output_type": "stream",
     "text": [
      "The AUC Score of Train Data using Bag of Words is --  0.941854683057384\n",
      "The AUC Score of Test  Data using Bag of Words is --  0.921014158887148\n"
     ]
    }
   ],
   "source": [
    "auc_bow_train_FE, auc_bow_test_FE  = auc_roc(y_train, pred_bow_train_FE, y_test, pred_bow_test_FE)\n",
    "print(\"The AUC Score of Train Data using Bag of Words is -- \",auc_bow_train_FE)\n",
    "print(\"The AUC Score of Test  Data using Bag of Words is -- \", auc_bow_test_FE)"
   ]
  },
  {
   "cell_type": "markdown",
   "metadata": {},
   "source": [
    "### Confusion Matrix - BoW with FE"
   ]
  },
  {
   "cell_type": "code",
   "execution_count": 73,
   "metadata": {},
   "outputs": [
    {
     "data": {
      "image/png": "[encoded data removed]",
      "text/plain": [
       "<Figure size 432x288 with 1 Axes>"
      ]
     },
     "metadata": {},
     "output_type": "display_data"
    },
    {
     "data": {
      "image/png": "[encoded data removed]",
      "text/plain": [
       "<Figure size 432x288 with 1 Axes>"
      ]
     },
     "metadata": {},
     "output_type": "display_data"
    }
   ],
   "source": [
    "Confusion_Matrix(y_train,pred_bow_train_FE)\n",
    "Confusion_Matrix(y_test,pred_bow_test_FE)"
   ]
  },
  {
   "cell_type": "markdown",
   "metadata": {
    "_uuid": "8c864d900395884d437002e2cd28e492bb38f972"
   },
   "source": [
    "## [5.2] Applying GBDT on TFIDF,<font color='red'> SET 2</font>"
   ]
  },
  {
   "cell_type": "code",
   "execution_count": 74,
   "metadata": {
    "_uuid": "8ae64dfcf1e284c81886e8f6fa25642610a96544"
   },
   "outputs": [
    {
     "name": "stdout",
     "output_type": "stream",
     "text": [
      "Best Parameters are ---->   {'max_depth': 10, 'n_estimators': 10}\n",
      "======================================================================\n",
      "Best Auc Score is ---->  0.889752697712611\n",
      "\n",
      "\n",
      "The CV Score table for different Hyperparameter are --->\n",
      "=========================================================\n",
      "   mean_test_score  max_depth  n_estimators\n",
      "0         0.673872          1             5\n",
      "1         0.716433          1            10\n",
      "2         0.782541          5             5\n",
      "3         0.813289          5            10\n",
      "4         0.858570         10             5\n",
      "5         0.889753         10            10\n"
     ]
    }
   ],
   "source": [
    "tfidf_best_parameters, tfidf_best_grid_estimator, tfidf_best_auc_score, tfidf_cv_all_scores = Grid_Search_CV(tfidf_train, y_train)\n",
    "print(\"Best Parameters are ---->  \",tfidf_best_parameters)\n",
    "print(\"======================================================================\")\n",
    "print(\"Best Auc Score is ----> \",tfidf_best_auc_score)\n",
    "print(\"\")\n",
    "print(\"\")\n",
    "#Train Data\n",
    "print(\"The CV Score table for different Hyperparameter are --->\")\n",
    "print(\"=========================================================\")\n",
    "score = tfidf_cv_all_scores.drop('params', axis = 1)\n",
    "print(score)"
   ]
  },
  {
   "cell_type": "code",
   "execution_count": 75,
   "metadata": {},
   "outputs": [
    {
     "name": "stdout",
     "output_type": "stream",
     "text": [
      "================================================================================================\n",
      "The Auc score for whole X_Trian data for different max_depth & n_estimators is ----------->\n",
      "================================================================================================\n",
      "   max_depth  n_estimators  cv_score\n",
      "0        1.0           5.0  0.674597\n",
      "1        1.0          10.0  0.718064\n",
      "2        5.0           5.0  0.797251\n",
      "3        5.0          10.0  0.826694\n",
      "4       10.0           5.0  0.882736\n",
      "5       10.0          10.0  0.915666\n"
     ]
    }
   ],
   "source": [
    "cv_scores_tfidf_alldata, cv_scores_tfidf_alldata_table = Auc_all_data(tfidf_train, y_train)"
   ]
  },
  {
   "cell_type": "code",
   "execution_count": 76,
   "metadata": {},
   "outputs": [
    {
     "data": {
      "text/plain": [
       "GradientBoostingClassifier(criterion='friedman_mse', init=None,\n",
       "              learning_rate=0.1, loss='deviance', max_depth=10,\n",
       "              max_features=None, max_leaf_nodes=None,\n",
       "              min_impurity_decrease=0.0, min_impurity_split=None,\n",
       "              min_samples_leaf=1, min_samples_split=2,\n",
       "              min_weight_fraction_leaf=0.0, n_estimators=10,\n",
       "              n_iter_no_change=None, presort='auto', random_state=None,\n",
       "              subsample=1.0, tol=0.0001, validation_fraction=0.1,\n",
       "              verbose=0, warm_start=False)"
      ]
     },
     "execution_count": 76,
     "metadata": {},
     "output_type": "execute_result"
    }
   ],
   "source": [
    "tfidf_best_grid_estimator"
   ]
  },
  {
   "cell_type": "code",
   "execution_count": 77,
   "metadata": {
    "_uuid": "adf266f2a7fcc7d5f575485c793bc195de347f22"
   },
   "outputs": [],
   "source": [
    "#Lets build the Actual Model with the Optimized K\n",
    "#optimal_DT = DecisionTreeClassifier(best_parameters)\n",
    "\n",
    "#Fit the Model\n",
    "optimal_DT = tfidf_best_grid_estimator.fit(tfidf_train, y_train)\n",
    "\n",
    "#Predict the AUC on Test Data\n",
    "pred_tfidf_train = tfidf_best_grid_estimator.predict_proba(tfidf_train)\n",
    "pred_tfidf_test = tfidf_best_grid_estimator.predict_proba(tfidf_test)"
   ]
  },
  {
   "cell_type": "markdown",
   "metadata": {},
   "source": [
    "## Representation of Results <font color='red'> SET 2</font>"
   ]
  },
  {
   "cell_type": "markdown",
   "metadata": {},
   "source": [
    "### Cross Validation Score - Train & Test Data "
   ]
  },
  {
   "cell_type": "code",
   "execution_count": 78,
   "metadata": {},
   "outputs": [
    {
     "data": {
      "image/png": "[encoded data removed]",
      "text/plain": [
       "<Figure size 432x288 with 2 Axes>"
      ]
     },
     "metadata": {},
     "output_type": "display_data"
    },
    {
     "data": {
      "image/png": "[encoded data removed]",
      "text/plain": [
       "<Figure size 432x288 with 2 Axes>"
      ]
     },
     "metadata": {},
     "output_type": "display_data"
    }
   ],
   "source": [
    "plot(tfidf_cv_all_scores)\n",
    "plot2(cv_scores_tfidf_alldata_table)"
   ]
  },
  {
   "cell_type": "markdown",
   "metadata": {},
   "source": [
    "### ROC Curve - TfIDF"
   ]
  },
  {
   "cell_type": "code",
   "execution_count": 79,
   "metadata": {},
   "outputs": [
    {
     "data": {
      "image/png": "[encoded data removed]",
      "text/plain": [
       "<Figure size 432x288 with 1 Axes>"
      ]
     },
     "metadata": {},
     "output_type": "display_data"
    },
    {
     "name": "stdout",
     "output_type": "stream",
     "text": [
      "The AUC Score of Train Data using TfIDF is --  0.9168167489463644\n",
      "The AUC Score of Test  Data using TfIDF is --  0.894431385075128\n"
     ]
    }
   ],
   "source": [
    "auc_tfidf_train, auc_tfidf_test  = auc_roc(y_train, pred_tfidf_train, y_test, pred_tfidf_test)\n",
    "print(\"The AUC Score of Train Data using TfIDF is -- \",auc_tfidf_train)\n",
    "print(\"The AUC Score of Test  Data using TfIDF is -- \", auc_tfidf_test)"
   ]
  },
  {
   "cell_type": "markdown",
   "metadata": {},
   "source": [
    "### Confusion Matrix - TfIDF"
   ]
  },
  {
   "cell_type": "code",
   "execution_count": 80,
   "metadata": {},
   "outputs": [
    {
     "data": {
      "image/png": "[encoded data removed]",
      "text/plain": [
       "<Figure size 432x288 with 1 Axes>"
      ]
     },
     "metadata": {},
     "output_type": "display_data"
    },
    {
     "data": {
      "image/png": "[encoded data removed]",
      "text/plain": [
       "<Figure size 432x288 with 1 Axes>"
      ]
     },
     "metadata": {},
     "output_type": "display_data"
    }
   ],
   "source": [
    "Confusion_Matrix(y_train,pred_tfidf_train)\n",
    "Confusion_Matrix(y_test,pred_tfidf_test)"
   ]
  },
  {
   "cell_type": "markdown",
   "metadata": {},
   "source": [
    "## [5.2.2] Top 20 important features of positive class from<font color='red'> SET 2</font>"
   ]
  },
  {
   "cell_type": "code",
   "execution_count": 81,
   "metadata": {},
   "outputs": [
    {
     "name": "stdout",
     "output_type": "stream",
     "text": [
      "<class 'numpy.ndarray'> <class 'numpy.ndarray'>\n",
      "(3000,) (3000,)\n"
     ]
    }
   ],
   "source": [
    "features = np.asarray(tf_idf_vect.get_feature_names())\n",
    "feature_importance = tfidf_best_grid_estimator.feature_importances_\n",
    "print(type(features), type(feature_importance))\n",
    "print(features.shape, feature_importance.shape)"
   ]
  },
  {
   "cell_type": "code",
   "execution_count": 82,
   "metadata": {},
   "outputs": [
    {
     "data": {
      "text/html": [
       "<div>\n",
       "<style scoped>\n",
       "    .dataframe tbody tr th:only-of-type {\n",
       "        vertical-align: middle;\n",
       "    }\n",
       "\n",
       "    .dataframe tbody tr th {\n",
       "        vertical-align: top;\n",
       "    }\n",
       "\n",
       "    .dataframe thead th {\n",
       "        text-align: right;\n",
       "    }\n",
       "</style>\n",
       "<table border=\"1\" class=\"dataframe\">\n",
       "  <thead>\n",
       "    <tr style=\"text-align: right;\">\n",
       "      <th></th>\n",
       "      <th>Gain</th>\n",
       "      <th>feature_name</th>\n",
       "    </tr>\n",
       "  </thead>\n",
       "  <tbody>\n",
       "    <tr>\n",
       "      <th>497</th>\n",
       "      <td>9.873102619154825e-05</td>\n",
       "      <td>close</td>\n",
       "    </tr>\n",
       "    <tr>\n",
       "      <th>1665</th>\n",
       "      <td>9.858321232394017e-09</td>\n",
       "      <td>moist</td>\n",
       "    </tr>\n",
       "    <tr>\n",
       "      <th>2067</th>\n",
       "      <td>9.820368882480063e-08</td>\n",
       "      <td>quality</td>\n",
       "    </tr>\n",
       "    <tr>\n",
       "      <th>2762</th>\n",
       "      <td>9.816876434443394e-09</td>\n",
       "      <td>trees</td>\n",
       "    </tr>\n",
       "    <tr>\n",
       "      <th>2303</th>\n",
       "      <td>9.79801507532951e-07</td>\n",
       "      <td>sell</td>\n",
       "    </tr>\n",
       "    <tr>\n",
       "      <th>1088</th>\n",
       "      <td>9.788202023071796e-05</td>\n",
       "      <td>gift</td>\n",
       "    </tr>\n",
       "    <tr>\n",
       "      <th>918</th>\n",
       "      <td>9.756958418310276e-05</td>\n",
       "      <td>fan</td>\n",
       "    </tr>\n",
       "    <tr>\n",
       "      <th>1295</th>\n",
       "      <td>9.626814481006836e-05</td>\n",
       "      <td>imagine</td>\n",
       "    </tr>\n",
       "    <tr>\n",
       "      <th>30</th>\n",
       "      <td>9.58383424652482e-07</td>\n",
       "      <td>adds</td>\n",
       "    </tr>\n",
       "    <tr>\n",
       "      <th>1165</th>\n",
       "      <td>9.5805958682412e-06</td>\n",
       "      <td>gums</td>\n",
       "    </tr>\n",
       "    <tr>\n",
       "      <th>2424</th>\n",
       "      <td>9.523706204917028e-05</td>\n",
       "      <td>soda</td>\n",
       "    </tr>\n",
       "    <tr>\n",
       "      <th>2715</th>\n",
       "      <td>9.44922154985167e-09</td>\n",
       "      <td>tomato</td>\n",
       "    </tr>\n",
       "    <tr>\n",
       "      <th>517</th>\n",
       "      <td>9.441613664152042e-05</td>\n",
       "      <td>cold</td>\n",
       "    </tr>\n",
       "    <tr>\n",
       "      <th>1205</th>\n",
       "      <td>9.377656331755336e-07</td>\n",
       "      <td>heat</td>\n",
       "    </tr>\n",
       "    <tr>\n",
       "      <th>1913</th>\n",
       "      <td>9.29791183720949e-06</td>\n",
       "      <td>pictures</td>\n",
       "    </tr>\n",
       "    <tr>\n",
       "      <th>408</th>\n",
       "      <td>9.25791388320099e-05</td>\n",
       "      <td>catnip</td>\n",
       "    </tr>\n",
       "    <tr>\n",
       "      <th>1674</th>\n",
       "      <td>9.250938692186358e-07</td>\n",
       "      <td>monosodium</td>\n",
       "    </tr>\n",
       "    <tr>\n",
       "      <th>1059</th>\n",
       "      <td>9.21106930217812e-06</td>\n",
       "      <td>full</td>\n",
       "    </tr>\n",
       "    <tr>\n",
       "      <th>1679</th>\n",
       "      <td>9.202238824676885e-07</td>\n",
       "      <td>mostly</td>\n",
       "    </tr>\n",
       "    <tr>\n",
       "      <th>770</th>\n",
       "      <td>9.106101826472322e-05</td>\n",
       "      <td>dressing</td>\n",
       "    </tr>\n",
       "  </tbody>\n",
       "</table>\n",
       "</div>"
      ],
      "text/plain": [
       "                       Gain feature_name\n",
       "497   9.873102619154825e-05        close\n",
       "1665  9.858321232394017e-09        moist\n",
       "2067  9.820368882480063e-08      quality\n",
       "2762  9.816876434443394e-09        trees\n",
       "2303   9.79801507532951e-07         sell\n",
       "1088  9.788202023071796e-05         gift\n",
       "918   9.756958418310276e-05          fan\n",
       "1295  9.626814481006836e-05      imagine\n",
       "30     9.58383424652482e-07         adds\n",
       "1165    9.5805958682412e-06         gums\n",
       "2424  9.523706204917028e-05         soda\n",
       "2715   9.44922154985167e-09       tomato\n",
       "517   9.441613664152042e-05         cold\n",
       "1205  9.377656331755336e-07         heat\n",
       "1913   9.29791183720949e-06     pictures\n",
       "408    9.25791388320099e-05       catnip\n",
       "1674  9.250938692186358e-07   monosodium\n",
       "1059   9.21106930217812e-06         full\n",
       "1679  9.202238824676885e-07       mostly\n",
       "770   9.106101826472322e-05     dressing"
      ]
     },
     "execution_count": 82,
     "metadata": {},
     "output_type": "execute_result"
    }
   ],
   "source": [
    "#https://stackoverflow.com/questions/26984414/efficiently-sorting-a-numpy-array-in-descending-order\n",
    "importances = pd.DataFrame(data = np.column_stack((feature_importance,features)), columns = [\"Gain\", \"feature_name\"])\n",
    "importances2 = importances.sort_values(by = 'Gain', ascending = False)\n",
    "Top20Features = importances2[0:20]\n",
    "Top20Features"
   ]
  },
  {
   "cell_type": "code",
   "execution_count": 83,
   "metadata": {},
   "outputs": [
    {
     "name": "stdout",
     "output_type": "stream",
     "text": [
      "<wordcloud.wordcloud.WordCloud object at 0x7f1c0ee9fb00>\n"
     ]
    },
    {
     "data": {
      "image/png": "[encoded data removed]",
      "text/plain": [
       "<Figure size 432x288 with 1 Axes>"
      ]
     },
     "metadata": {},
     "output_type": "display_data"
    }
   ],
   "source": [
    "from wordcloud import WordCloud, STOPWORDS\n",
    "import matplotlib as mpl\n",
    "#mpl.rcParams['figure.figsize']=(8.0,6.0)    #(6.0,4.0)\n",
    "#mpl.rcParams['font.size']=40                #10 \n",
    "#mpl.rcParams['savefig.dpi']=100             #72 \n",
    "#mpl.rcParams['figure.subplot.bottom']=.1 \n",
    "\n",
    "wordcloud = WordCloud(\n",
    "                          background_color='white',\n",
    "                         ).generate(str(Top20Features['feature_name']))\n",
    "\n",
    "print(wordcloud)\n",
    "fig = plt.figure(1)\n",
    "plt.imshow(wordcloud)\n",
    "plt.axis('off')\n",
    "plt.show()\n",
    "#fig.savefig(\"word1.png\", dpi=900)"
   ]
  },
  {
   "cell_type": "markdown",
   "metadata": {},
   "source": [
    "### Added Features"
   ]
  },
  {
   "cell_type": "code",
   "execution_count": 84,
   "metadata": {},
   "outputs": [
    {
     "name": "stdout",
     "output_type": "stream",
     "text": [
      "================================================================================================\n",
      "The Auc score for whole X_Trian data for different max_depth & n_estimators is ----------->\n",
      "================================================================================================\n",
      "   max_depth  n_estimators  cv_score\n",
      "0        1.0           5.0  0.751960\n",
      "1        1.0          10.0  0.783546\n",
      "2        5.0           5.0  0.855314\n",
      "3        5.0          10.0  0.867470\n",
      "4       10.0           5.0  0.927004\n",
      "5       10.0          10.0  0.944915\n",
      "Best Parameters after Feature Engineering are ---->   {'max_depth': 10, 'n_estimators': 10}\n",
      "=====================================================================\n",
      "Best Auc Score after Feature Engineering is ---->  0.9181120727508643\n",
      "\n",
      "\n",
      "The CV Score table after Feature Engineering for different Hyperparameter are --->\n",
      "==================================================================================\n",
      "   mean_test_score  max_depth  n_estimators\n",
      "0         0.752773          1             5\n",
      "1         0.784791          1            10\n",
      "2         0.846999          5             5\n",
      "3         0.858043          5            10\n",
      "4         0.902496         10             5\n",
      "5         0.918112         10            10\n"
     ]
    }
   ],
   "source": [
    "tfidf_best_parameters_FE, tfidf_best_grid_estimator_FE, tfidf_grid_score_FE, tfidf_cv_all_scores_FE = Grid_Search_CV(tfidf_train_with_FE, y_train)\n",
    "cv_scores_tfidf_alldata_FE, cv_scores_tfidf_alldata_table_FE= Auc_all_data(tfidf_train_with_FE, y_train)\n",
    "\n",
    "print(\"Best Parameters after Feature Engineering are ---->  \", tfidf_best_parameters_FE)\n",
    "print(\"=====================================================================\")\n",
    "print(\"Best Auc Score after Feature Engineering is ----> \",tfidf_grid_score_FE)\n",
    "print(\"\")\n",
    "print(\"\")\n",
    "#Train Data\n",
    "print(\"The CV Score table after Feature Engineering for different Hyperparameter are --->\")\n",
    "print(\"==================================================================================\")\n",
    "score = tfidf_cv_all_scores_FE.drop('params', axis = 1)\n",
    "print(score)"
   ]
  },
  {
   "cell_type": "code",
   "execution_count": 85,
   "metadata": {},
   "outputs": [
    {
     "data": {
      "text/plain": [
       "GradientBoostingClassifier(criterion='friedman_mse', init=None,\n",
       "              learning_rate=0.1, loss='deviance', max_depth=10,\n",
       "              max_features=None, max_leaf_nodes=None,\n",
       "              min_impurity_decrease=0.0, min_impurity_split=None,\n",
       "              min_samples_leaf=1, min_samples_split=2,\n",
       "              min_weight_fraction_leaf=0.0, n_estimators=10,\n",
       "              n_iter_no_change=None, presort='auto', random_state=None,\n",
       "              subsample=1.0, tol=0.0001, validation_fraction=0.1,\n",
       "              verbose=0, warm_start=False)"
      ]
     },
     "execution_count": 85,
     "metadata": {},
     "output_type": "execute_result"
    }
   ],
   "source": [
    "tfidf_best_grid_estimator_FE"
   ]
  },
  {
   "cell_type": "code",
   "execution_count": 86,
   "metadata": {},
   "outputs": [],
   "source": [
    "#Lets build the Actual Model with the Optimized K\n",
    "#optimal_DT = DecisionTreeClassifier(best_parameters)\n",
    "\n",
    "#Fit the Model\n",
    "optimal_DT = tfidf_best_grid_estimator_FE.fit(tfidf_train_with_FE, y_train)\n",
    "\n",
    "#Predict the AUC on Test Data\n",
    "pred_tfidf_train_FE = optimal_DT.predict_proba(tfidf_train_with_FE)\n",
    "pred_tfidf_test_FE = optimal_DT.predict_proba(tfidf_test_with_FE)"
   ]
  },
  {
   "cell_type": "markdown",
   "metadata": {
    "_uuid": "1dfb2613320f2b78999204af7c2cbf436eeb4440"
   },
   "source": [
    "## Representation of Results with FE <font color='red'> SET 2</font>"
   ]
  },
  {
   "cell_type": "markdown",
   "metadata": {},
   "source": [
    "### Cross Validation Score - Train & Test Data (with FE)"
   ]
  },
  {
   "cell_type": "code",
   "execution_count": 87,
   "metadata": {
    "_uuid": "6566e8604220b103de5209f49d081cfa64111ddc"
   },
   "outputs": [
    {
     "data": {
      "image/png": "[encoded data removed]",
      "text/plain": [
       "<Figure size 432x288 with 2 Axes>"
      ]
     },
     "metadata": {},
     "output_type": "display_data"
    },
    {
     "data": {
      "image/png": "[encoded data removed]",
      "text/plain": [
       "<Figure size 432x288 with 2 Axes>"
      ]
     },
     "metadata": {},
     "output_type": "display_data"
    }
   ],
   "source": [
    "plot(tfidf_cv_all_scores_FE)\n",
    "plot2(cv_scores_tfidf_alldata_table_FE)"
   ]
  },
  {
   "cell_type": "markdown",
   "metadata": {},
   "source": [
    "### ROC Curve - TfIDF (with FE)"
   ]
  },
  {
   "cell_type": "code",
   "execution_count": 88,
   "metadata": {
    "_uuid": "67550a72c6370e6e59bd8fcf8cc6f6b3793f6c59"
   },
   "outputs": [
    {
     "data": {
      "image/png": "[encoded data removed]",
      "text/plain": [
       "<Figure size 432x288 with 1 Axes>"
      ]
     },
     "metadata": {},
     "output_type": "display_data"
    },
    {
     "name": "stdout",
     "output_type": "stream",
     "text": [
      "The AUC Score of Train Data using TFIDF is --  0.9446791210718317\n",
      "The AUC Score of Test  Data using TFIDF is --  0.9254421105641202\n"
     ]
    }
   ],
   "source": [
    "auc_tfidf_train_FE, auc_tfidf_test_FE  = auc_roc(y_train, pred_tfidf_train_FE, y_test, pred_tfidf_test_FE)\n",
    "print(\"The AUC Score of Train Data using TFIDF is -- \",auc_tfidf_train_FE)\n",
    "print(\"The AUC Score of Test  Data using TFIDF is -- \", auc_tfidf_test_FE)"
   ]
  },
  {
   "cell_type": "markdown",
   "metadata": {},
   "source": [
    "### Confusion Matrix - TfIDF (with FE)"
   ]
  },
  {
   "cell_type": "code",
   "execution_count": 89,
   "metadata": {},
   "outputs": [
    {
     "data": {
      "image/png": "[encoded data removed]",
      "text/plain": [
       "<Figure size 432x288 with 1 Axes>"
      ]
     },
     "metadata": {},
     "output_type": "display_data"
    },
    {
     "data": {
      "image/png": "[encoded data removed]",
      "text/plain": [
       "<Figure size 432x288 with 1 Axes>"
      ]
     },
     "metadata": {},
     "output_type": "display_data"
    }
   ],
   "source": [
    "Confusion_Matrix(y_train,pred_tfidf_train_FE)\n",
    "Confusion_Matrix(y_test,pred_tfidf_test_FE)"
   ]
  },
  {
   "cell_type": "markdown",
   "metadata": {},
   "source": [
    "## [5.3] Applying GBDT on Average Word2Vec,<font color='red'> SET 3</font>"
   ]
  },
  {
   "cell_type": "code",
   "execution_count": 90,
   "metadata": {},
   "outputs": [
    {
     "name": "stdout",
     "output_type": "stream",
     "text": [
      "Best Parameters are ---->   {'max_depth': 10, 'n_estimators': 10}\n",
      "======================================================================\n",
      "Best Auc Score is ---->  0.9557113003684714\n",
      "\n",
      "\n",
      "The CV Score table for different Hyperparameter are --->\n",
      "=========================================================\n",
      "   mean_test_score  max_depth  n_estimators\n",
      "0         0.755958          1             5\n",
      "1         0.769178          1            10\n",
      "2         0.829562          5             5\n",
      "3         0.844069          5            10\n",
      "4         0.937100         10             5\n",
      "5         0.955711         10            10\n"
     ]
    }
   ],
   "source": [
    "avgw2v_best_parameters, avgw2v_best_grid_estimator, avgw2v_best_auc_score, avgw2v_cv_all_scores = Grid_Search_CV(avgw2v_train, y_train)\n",
    "print(\"Best Parameters are ---->  \",avgw2v_best_parameters)\n",
    "print(\"======================================================================\")\n",
    "print(\"Best Auc Score is ----> \",avgw2v_best_auc_score)\n",
    "print(\"\")\n",
    "print(\"\")\n",
    "#Train Data\n",
    "print(\"The CV Score table for different Hyperparameter are --->\")\n",
    "print(\"=========================================================\")\n",
    "score = avgw2v_cv_all_scores.drop('params', axis = 1)\n",
    "print(score)"
   ]
  },
  {
   "cell_type": "code",
   "execution_count": 91,
   "metadata": {},
   "outputs": [
    {
     "name": "stdout",
     "output_type": "stream",
     "text": [
      "================================================================================================\n",
      "The Auc score for whole X_Trian data for different max_depth & n_estimators is ----------->\n",
      "================================================================================================\n",
      "   max_depth  n_estimators  cv_score\n",
      "0        1.0           5.0  0.755547\n",
      "1        1.0          10.0  0.769845\n",
      "2        5.0           5.0  0.842510\n",
      "3        5.0          10.0  0.859368\n",
      "4       10.0           5.0  0.973278\n",
      "5       10.0          10.0  0.986077\n"
     ]
    }
   ],
   "source": [
    "cv_scores_avgw2v_alldata, cv_scores_avgw2v_alldata_table = Auc_all_data(avgw2v_train, y_train)"
   ]
  },
  {
   "cell_type": "code",
   "execution_count": 92,
   "metadata": {},
   "outputs": [
    {
     "data": {
      "text/plain": [
       "GradientBoostingClassifier(criterion='friedman_mse', init=None,\n",
       "              learning_rate=0.1, loss='deviance', max_depth=10,\n",
       "              max_features=None, max_leaf_nodes=None,\n",
       "              min_impurity_decrease=0.0, min_impurity_split=None,\n",
       "              min_samples_leaf=1, min_samples_split=2,\n",
       "              min_weight_fraction_leaf=0.0, n_estimators=10,\n",
       "              n_iter_no_change=None, presort='auto', random_state=None,\n",
       "              subsample=1.0, tol=0.0001, validation_fraction=0.1,\n",
       "              verbose=0, warm_start=False)"
      ]
     },
     "execution_count": 92,
     "metadata": {},
     "output_type": "execute_result"
    }
   ],
   "source": [
    "avgw2v_best_grid_estimator"
   ]
  },
  {
   "cell_type": "code",
   "execution_count": 93,
   "metadata": {},
   "outputs": [],
   "source": [
    "#Lets build the Actual Model with the Optimized K\n",
    "#optimal_DT = DecisionTreeClassifier(best_parameters)\n",
    "\n",
    "#Fit the Model\n",
    "optimal_DT = avgw2v_best_grid_estimator.fit(avgw2v_train, y_train)\n",
    "\n",
    "#Predict the AUC on Test Data\n",
    "pred_avgw2v_train = avgw2v_best_grid_estimator.predict_proba(avgw2v_train)\n",
    "pred_avgw2v_test = avgw2v_best_grid_estimator.predict_proba(avgw2v_test)"
   ]
  },
  {
   "cell_type": "markdown",
   "metadata": {},
   "source": [
    "## Representation of Results <font color='red'> SET 3</font>"
   ]
  },
  {
   "cell_type": "markdown",
   "metadata": {},
   "source": [
    "### Cross Validation Score - Train & Test Data (AvgW2V)"
   ]
  },
  {
   "cell_type": "code",
   "execution_count": 94,
   "metadata": {},
   "outputs": [
    {
     "data": {
      "image/png": "[encoded data removed]",
      "text/plain": [
       "<Figure size 432x288 with 2 Axes>"
      ]
     },
     "metadata": {},
     "output_type": "display_data"
    },
    {
     "data": {
      "image/png": "[encoded data removed]",
      "text/plain": [
       "<Figure size 432x288 with 2 Axes>"
      ]
     },
     "metadata": {},
     "output_type": "display_data"
    }
   ],
   "source": [
    "plot(avgw2v_cv_all_scores)\n",
    "plot2(cv_scores_avgw2v_alldata_table)"
   ]
  },
  {
   "cell_type": "markdown",
   "metadata": {},
   "source": [
    "### ROC Curve - AvgW2V"
   ]
  },
  {
   "cell_type": "code",
   "execution_count": 95,
   "metadata": {},
   "outputs": [
    {
     "data": {
      "image/png": "[encoded data removed]",
      "text/plain": [
       "<Figure size 432x288 with 1 Axes>"
      ]
     },
     "metadata": {},
     "output_type": "display_data"
    },
    {
     "name": "stdout",
     "output_type": "stream",
     "text": [
      "The AUC Score of Train Data using AvgW2V is --  0.9871344142380593\n",
      "The AUC Score of Test  Data using AvgW2V is --  0.9636959418973732\n"
     ]
    }
   ],
   "source": [
    "auc_avgw2v_train, auc_avgw2v_test  = auc_roc(y_train, pred_avgw2v_train, y_test, pred_avgw2v_test)\n",
    "print(\"The AUC Score of Train Data using AvgW2V is -- \",auc_avgw2v_train)\n",
    "print(\"The AUC Score of Test  Data using AvgW2V is -- \", auc_avgw2v_test)"
   ]
  },
  {
   "cell_type": "markdown",
   "metadata": {},
   "source": [
    "### Confusion Matrix - AvgW2V"
   ]
  },
  {
   "cell_type": "code",
   "execution_count": 96,
   "metadata": {},
   "outputs": [
    {
     "data": {
      "image/png": "[encoded data removed]",
      "text/plain": [
       "<Figure size 432x288 with 1 Axes>"
      ]
     },
     "metadata": {},
     "output_type": "display_data"
    },
    {
     "data": {
      "image/png": "[encoded data removed]",
      "text/plain": [
       "<Figure size 432x288 with 1 Axes>"
      ]
     },
     "metadata": {},
     "output_type": "display_data"
    }
   ],
   "source": [
    "Confusion_Matrix(y_train,pred_avgw2v_train)\n",
    "Confusion_Matrix(y_test,pred_avgw2v_test)"
   ]
  },
  {
   "cell_type": "markdown",
   "metadata": {},
   "source": [
    "### Adding New Features"
   ]
  },
  {
   "cell_type": "code",
   "execution_count": 97,
   "metadata": {},
   "outputs": [
    {
     "name": "stdout",
     "output_type": "stream",
     "text": [
      "================================================================================================\n",
      "The Auc score for whole X_Trian data for different max_depth & n_estimators is ----------->\n",
      "================================================================================================\n",
      "   max_depth  n_estimators  cv_score\n",
      "0        1.0           5.0  0.802983\n",
      "1        1.0          10.0  0.828613\n",
      "2        5.0           5.0  0.881371\n",
      "3        5.0          10.0  0.891520\n",
      "4       10.0           5.0  0.979975\n",
      "5       10.0          10.0  0.988088\n",
      "Best Parameters after Feature Engineering are ---->   {'max_depth': 10, 'n_estimators': 10}\n",
      "=====================================================================\n",
      "Best Auc Score after Feature Engineering is ---->  0.9626596864636575\n",
      "\n",
      "\n",
      "The CV Score table after Feature Engineering for different Hyperparameter are --->\n",
      "==================================================================================\n",
      "   mean_test_score  max_depth  n_estimators\n",
      "0         0.802702          1             5\n",
      "1         0.828750          1            10\n",
      "2         0.871677          5             5\n",
      "3         0.881065          5            10\n",
      "4         0.947732         10             5\n",
      "5         0.962660         10            10\n"
     ]
    }
   ],
   "source": [
    "avgw2v_best_parameters_FE, avgw2v_best_grid_estimator_FE, avgw2v_grid_score_FE, avgw2v_cv_all_scores_FE = Grid_Search_CV(avgw2v_train_with_FE, y_train)\n",
    "cv_scores_avgw2v_alldata_FE, cv_scores_avgw2v_alldata_table_FE= Auc_all_data(avgw2v_train_with_FE, y_train)\n",
    "\n",
    "print(\"Best Parameters after Feature Engineering are ---->  \", avgw2v_best_parameters_FE)\n",
    "print(\"=====================================================================\")\n",
    "print(\"Best Auc Score after Feature Engineering is ----> \",avgw2v_grid_score_FE)\n",
    "print(\"\")\n",
    "print(\"\")\n",
    "#Train Data\n",
    "print(\"The CV Score table after Feature Engineering for different Hyperparameter are --->\")\n",
    "print(\"==================================================================================\")\n",
    "score = avgw2v_cv_all_scores_FE.drop('params', axis = 1)\n",
    "print(score)"
   ]
  },
  {
   "cell_type": "code",
   "execution_count": 98,
   "metadata": {},
   "outputs": [
    {
     "data": {
      "text/plain": [
       "GradientBoostingClassifier(criterion='friedman_mse', init=None,\n",
       "              learning_rate=0.1, loss='deviance', max_depth=10,\n",
       "              max_features=None, max_leaf_nodes=None,\n",
       "              min_impurity_decrease=0.0, min_impurity_split=None,\n",
       "              min_samples_leaf=1, min_samples_split=2,\n",
       "              min_weight_fraction_leaf=0.0, n_estimators=10,\n",
       "              n_iter_no_change=None, presort='auto', random_state=None,\n",
       "              subsample=1.0, tol=0.0001, validation_fraction=0.1,\n",
       "              verbose=0, warm_start=False)"
      ]
     },
     "execution_count": 98,
     "metadata": {},
     "output_type": "execute_result"
    }
   ],
   "source": [
    "avgw2v_best_grid_estimator_FE"
   ]
  },
  {
   "cell_type": "code",
   "execution_count": 99,
   "metadata": {},
   "outputs": [],
   "source": [
    "#Lets build the Actual Model with the Optimized K\n",
    "#optimal_DT = DecisionTreeClassifier(best_parameters)\n",
    "\n",
    "#Fit the Model\n",
    "optimal_DT = avgw2v_best_grid_estimator_FE.fit(avgw2v_train_with_FE, y_train)\n",
    "\n",
    "#Predict the AUC on Test Data\n",
    "pred_avgw2v_train_FE = optimal_DT.predict_proba(avgw2v_train_with_FE)\n",
    "pred_avgw2v_test_FE = optimal_DT.predict_proba(avgw2v_test_with_FE)"
   ]
  },
  {
   "cell_type": "markdown",
   "metadata": {},
   "source": [
    "## Representation of Results with FE <font color='red'> SET 3</font>"
   ]
  },
  {
   "cell_type": "markdown",
   "metadata": {},
   "source": [
    "### Cross Validation Score - Train & Test Data (with FE)"
   ]
  },
  {
   "cell_type": "code",
   "execution_count": 100,
   "metadata": {},
   "outputs": [
    {
     "data": {
      "image/png": "[encoded data removed]",
      "text/plain": [
       "<Figure size 432x288 with 2 Axes>"
      ]
     },
     "metadata": {},
     "output_type": "display_data"
    },
    {
     "data": {
      "image/png": "[encoded data removed]",
      "text/plain": [
       "<Figure size 432x288 with 2 Axes>"
      ]
     },
     "metadata": {},
     "output_type": "display_data"
    }
   ],
   "source": [
    "plot(avgw2v_cv_all_scores_FE)\n",
    "plot2(cv_scores_avgw2v_alldata_table_FE)"
   ]
  },
  {
   "cell_type": "markdown",
   "metadata": {},
   "source": [
    "### ROC Curve - AvgW2V (with FE)"
   ]
  },
  {
   "cell_type": "code",
   "execution_count": 101,
   "metadata": {},
   "outputs": [
    {
     "data": {
      "image/png": "[encoded data removed]",
      "text/plain": [
       "<Figure size 432x288 with 1 Axes>"
      ]
     },
     "metadata": {},
     "output_type": "display_data"
    },
    {
     "name": "stdout",
     "output_type": "stream",
     "text": [
      "The AUC Score of Train Data using AvgW2V is --  0.9887761111027585\n",
      "The AUC Score of Test  Data using AvgW2V is --  0.971165856659532\n"
     ]
    }
   ],
   "source": [
    "auc_avgw2v_train_FE, auc_avgw2v_test_FE  = auc_roc(y_train, pred_avgw2v_train_FE, y_test, pred_avgw2v_test_FE)\n",
    "print(\"The AUC Score of Train Data using AvgW2V is -- \",auc_avgw2v_train_FE)\n",
    "print(\"The AUC Score of Test  Data using AvgW2V is -- \", auc_avgw2v_test_FE)"
   ]
  },
  {
   "cell_type": "markdown",
   "metadata": {},
   "source": [
    "### Confusion Matrix - AvgW2V (with FE)"
   ]
  },
  {
   "cell_type": "code",
   "execution_count": 102,
   "metadata": {},
   "outputs": [
    {
     "data": {
      "image/png": "[encoded data removed]",
      "text/plain": [
       "<Figure size 432x288 with 1 Axes>"
      ]
     },
     "metadata": {},
     "output_type": "display_data"
    },
    {
     "data": {
      "image/png": "[encoded data removed]",
      "text/plain": [
       "<Figure size 432x288 with 1 Axes>"
      ]
     },
     "metadata": {},
     "output_type": "display_data"
    }
   ],
   "source": [
    "Confusion_Matrix(y_train,pred_avgw2v_train_FE)\n",
    "Confusion_Matrix(y_test,pred_avgw2v_test_FE)"
   ]
  },
  {
   "cell_type": "markdown",
   "metadata": {},
   "source": [
    "## [5.4] Applying GBDT on Tfidf-W2V,<font color='red'> SET 4</font>"
   ]
  },
  {
   "cell_type": "code",
   "execution_count": 103,
   "metadata": {},
   "outputs": [
    {
     "name": "stdout",
     "output_type": "stream",
     "text": [
      "Best Parameters are ---->   {'max_depth': 10, 'n_estimators': 10}\n",
      "======================================================================\n",
      "Best Auc Score is ---->  0.9534698199902442\n",
      "\n",
      "\n",
      "The CV Score table for different Hyperparameter are --->\n",
      "=========================================================\n",
      "   mean_test_score  max_depth  n_estimators\n",
      "0         0.722573          1             5\n",
      "1         0.736955          1            10\n",
      "2         0.809784          5             5\n",
      "3         0.824145          5            10\n",
      "4         0.931275         10             5\n",
      "5         0.953470         10            10\n"
     ]
    }
   ],
   "source": [
    "tfidfw2v_best_parameters, tfidfw2v_best_grid_estimator, tfidfw2v_best_auc_score, tfidfw2v_cv_all_scores = Grid_Search_CV(tfidf_w2v_train, y_train)\n",
    "print(\"Best Parameters are ---->  \",tfidfw2v_best_parameters)\n",
    "print(\"======================================================================\")\n",
    "print(\"Best Auc Score is ----> \",tfidfw2v_best_auc_score)\n",
    "print(\"\")\n",
    "print(\"\")\n",
    "#Train Data\n",
    "print(\"The CV Score table for different Hyperparameter are --->\")\n",
    "print(\"=========================================================\")\n",
    "score = tfidfw2v_cv_all_scores.drop('params', axis = 1)\n",
    "print(score)"
   ]
  },
  {
   "cell_type": "code",
   "execution_count": 104,
   "metadata": {},
   "outputs": [
    {
     "name": "stdout",
     "output_type": "stream",
     "text": [
      "================================================================================================\n",
      "The Auc score for whole X_Trian data for different max_depth & n_estimators is ----------->\n",
      "================================================================================================\n",
      "   max_depth  n_estimators  cv_score\n",
      "0        1.0           5.0  0.727413\n",
      "1        1.0          10.0  0.738123\n",
      "2        5.0           5.0  0.823761\n",
      "3        5.0          10.0  0.841923\n",
      "4       10.0           5.0  0.974365\n",
      "5       10.0          10.0  0.987895\n"
     ]
    }
   ],
   "source": [
    "cv_scores_tfidfw2v_alldata, cv_scores_tfidfw2v_alldata_table = Auc_all_data(tfidf_w2v_train, y_train)"
   ]
  },
  {
   "cell_type": "code",
   "execution_count": 105,
   "metadata": {},
   "outputs": [
    {
     "data": {
      "text/plain": [
       "GradientBoostingClassifier(criterion='friedman_mse', init=None,\n",
       "              learning_rate=0.1, loss='deviance', max_depth=10,\n",
       "              max_features=None, max_leaf_nodes=None,\n",
       "              min_impurity_decrease=0.0, min_impurity_split=None,\n",
       "              min_samples_leaf=1, min_samples_split=2,\n",
       "              min_weight_fraction_leaf=0.0, n_estimators=10,\n",
       "              n_iter_no_change=None, presort='auto', random_state=None,\n",
       "              subsample=1.0, tol=0.0001, validation_fraction=0.1,\n",
       "              verbose=0, warm_start=False)"
      ]
     },
     "execution_count": 105,
     "metadata": {},
     "output_type": "execute_result"
    }
   ],
   "source": [
    "tfidfw2v_best_grid_estimator"
   ]
  },
  {
   "cell_type": "code",
   "execution_count": 106,
   "metadata": {},
   "outputs": [],
   "source": [
    "#Lets build the Actual Model with the Optimized K\n",
    "#optimal_DT = DecisionTreeClassifier(best_parameters)\n",
    "\n",
    "#Fit the Model\n",
    "optimal_DT = tfidfw2v_best_grid_estimator.fit(tfidf_w2v_train, y_train)\n",
    "\n",
    "#Predict the AUC on Test Data\n",
    "pred_tfidfw2v_train = tfidfw2v_best_grid_estimator.predict_proba(tfidf_w2v_train)\n",
    "pred_tfidfw2v_test = tfidfw2v_best_grid_estimator.predict_proba(tfidf_w2v_test)"
   ]
  },
  {
   "cell_type": "markdown",
   "metadata": {},
   "source": [
    "## Representation of Results <font color='red'> SET 4</font>"
   ]
  },
  {
   "cell_type": "markdown",
   "metadata": {},
   "source": [
    "### Cross Validation Score - Train & Test Data (TfIDF-AvgW2V)"
   ]
  },
  {
   "cell_type": "code",
   "execution_count": 107,
   "metadata": {},
   "outputs": [
    {
     "data": {
      "image/png": "[encoded data removed]",
      "text/plain": [
       "<Figure size 432x288 with 2 Axes>"
      ]
     },
     "metadata": {},
     "output_type": "display_data"
    },
    {
     "data": {
      "image/png": "[encoded data removed]",
      "text/plain": [
       "<Figure size 432x288 with 2 Axes>"
      ]
     },
     "metadata": {},
     "output_type": "display_data"
    }
   ],
   "source": [
    "plot(tfidfw2v_cv_all_scores)\n",
    "plot2(cv_scores_tfidfw2v_alldata_table)"
   ]
  },
  {
   "cell_type": "markdown",
   "metadata": {},
   "source": [
    "### ROC Curve - TfIDF-AvgW2V"
   ]
  },
  {
   "cell_type": "code",
   "execution_count": 108,
   "metadata": {},
   "outputs": [
    {
     "data": {
      "image/png": "[encoded data removed]",
      "text/plain": [
       "<Figure size 432x288 with 1 Axes>"
      ]
     },
     "metadata": {},
     "output_type": "display_data"
    },
    {
     "name": "stdout",
     "output_type": "stream",
     "text": [
      "The AUC Score of Train Data using TfIDF-AvgW2V is --  0.9890705378362049\n",
      "The AUC Score of Test  Data using TfIDF-AvgW2V is --  0.960742816630143\n"
     ]
    }
   ],
   "source": [
    "auc_tfidfw2v_train, auc_tfidfw2v_test  = auc_roc(y_train, pred_tfidfw2v_train, y_test, pred_tfidfw2v_test)\n",
    "print(\"The AUC Score of Train Data using TfIDF-AvgW2V is -- \",auc_tfidfw2v_train)\n",
    "print(\"The AUC Score of Test  Data using TfIDF-AvgW2V is -- \", auc_tfidfw2v_test)"
   ]
  },
  {
   "cell_type": "markdown",
   "metadata": {},
   "source": [
    "### Confusion Matrix - TfIDF-AvgW2V"
   ]
  },
  {
   "cell_type": "code",
   "execution_count": 109,
   "metadata": {},
   "outputs": [
    {
     "data": {
      "image/png": "[encoded data removed]",
      "text/plain": [
       "<Figure size 432x288 with 1 Axes>"
      ]
     },
     "metadata": {},
     "output_type": "display_data"
    },
    {
     "data": {
      "image/png": "[encoded data removed]",
      "text/plain": [
       "<Figure size 432x288 with 1 Axes>"
      ]
     },
     "metadata": {},
     "output_type": "display_data"
    }
   ],
   "source": [
    "Confusion_Matrix(y_train,pred_tfidfw2v_train)\n",
    "Confusion_Matrix(y_test,pred_tfidfw2v_test)"
   ]
  },
  {
   "cell_type": "markdown",
   "metadata": {},
   "source": [
    "### Adding New Features"
   ]
  },
  {
   "cell_type": "code",
   "execution_count": 110,
   "metadata": {},
   "outputs": [
    {
     "name": "stdout",
     "output_type": "stream",
     "text": [
      "================================================================================================\n",
      "The Auc score for whole X_Trian data for different max_depth & n_estimators is ----------->\n",
      "================================================================================================\n",
      "   max_depth  n_estimators  cv_score\n",
      "0        1.0           5.0  0.751960\n",
      "1        1.0          10.0  0.819065\n",
      "2        5.0           5.0  0.871544\n",
      "3        5.0          10.0  0.882480\n",
      "4       10.0           5.0  0.976761\n",
      "5       10.0          10.0  0.988515\n",
      "Best Parameters after Feature Engineering are ---->   {'max_depth': 10, 'n_estimators': 10}\n",
      "=====================================================================\n",
      "Best Auc Score after Feature Engineering is ---->  0.9603932337171627\n",
      "\n",
      "\n",
      "The CV Score table after Feature Engineering for different Hyperparameter are --->\n",
      "==================================================================================\n",
      "   mean_test_score  max_depth  n_estimators\n",
      "0         0.752773          1             5\n",
      "1         0.815830          1            10\n",
      "2         0.862510          5             5\n",
      "3         0.870989          5            10\n",
      "4         0.944249         10             5\n",
      "5         0.960393         10            10\n"
     ]
    }
   ],
   "source": [
    "tfidfw2v_best_parameters_FE, tfidfw2v_best_grid_estimator_FE, tfidfw2v_grid_score_FE, tfidfw2v_cv_all_scores_FE = Grid_Search_CV(tfidf_w2v_train_with_FE, y_train)\n",
    "cv_scores_tfidfw2v_alldata_FE, cv_scores_tfidfw2v_alldata_table_FE= Auc_all_data(tfidf_w2v_train_with_FE, y_train)\n",
    "\n",
    "print(\"Best Parameters after Feature Engineering are ---->  \", tfidfw2v_best_parameters_FE)\n",
    "print(\"=====================================================================\")\n",
    "print(\"Best Auc Score after Feature Engineering is ----> \",tfidfw2v_grid_score_FE)\n",
    "print(\"\")\n",
    "print(\"\")\n",
    "#Train Data\n",
    "print(\"The CV Score table after Feature Engineering for different Hyperparameter are --->\")\n",
    "print(\"==================================================================================\")\n",
    "score = tfidfw2v_cv_all_scores_FE.drop('params', axis = 1)\n",
    "print(score)"
   ]
  },
  {
   "cell_type": "code",
   "execution_count": 111,
   "metadata": {},
   "outputs": [
    {
     "data": {
      "text/plain": [
       "GradientBoostingClassifier(criterion='friedman_mse', init=None,\n",
       "              learning_rate=0.1, loss='deviance', max_depth=10,\n",
       "              max_features=None, max_leaf_nodes=None,\n",
       "              min_impurity_decrease=0.0, min_impurity_split=None,\n",
       "              min_samples_leaf=1, min_samples_split=2,\n",
       "              min_weight_fraction_leaf=0.0, n_estimators=10,\n",
       "              n_iter_no_change=None, presort='auto', random_state=None,\n",
       "              subsample=1.0, tol=0.0001, validation_fraction=0.1,\n",
       "              verbose=0, warm_start=False)"
      ]
     },
     "execution_count": 111,
     "metadata": {},
     "output_type": "execute_result"
    }
   ],
   "source": [
    "tfidfw2v_best_grid_estimator_FE"
   ]
  },
  {
   "cell_type": "code",
   "execution_count": 112,
   "metadata": {},
   "outputs": [],
   "source": [
    "#Lets build the Actual Model with the Optimized K\n",
    "#optimal_DT = DecisionTreeClassifier(best_parameters)\n",
    "\n",
    "#Fit the Model\n",
    "optimal_DT = tfidfw2v_best_grid_estimator_FE.fit(tfidf_w2v_train_with_FE, y_train)\n",
    "\n",
    "#Predict the AUC on Test Data\n",
    "pred_tfidfw2v_train_FE = optimal_DT.predict_proba(tfidf_w2v_train_with_FE)\n",
    "pred_tfidfw2v_test_FE = optimal_DT.predict_proba(tfidf_w2v_test_with_FE)"
   ]
  },
  {
   "cell_type": "markdown",
   "metadata": {},
   "source": [
    "## Representation of Results with FE <font color='red'> SET 4</font>"
   ]
  },
  {
   "cell_type": "markdown",
   "metadata": {},
   "source": [
    "### Cross Validation Score - Train & Test Data (with FE)"
   ]
  },
  {
   "cell_type": "code",
   "execution_count": 113,
   "metadata": {},
   "outputs": [
    {
     "data": {
      "image/png": "[encoded data removed]",
      "text/plain": [
       "<Figure size 432x288 with 2 Axes>"
      ]
     },
     "metadata": {},
     "output_type": "display_data"
    },
    {
     "data": {
      "image/png": "[encoded data removed]",
      "text/plain": [
       "<Figure size 432x288 with 2 Axes>"
      ]
     },
     "metadata": {},
     "output_type": "display_data"
    }
   ],
   "source": [
    "plot(tfidfw2v_cv_all_scores_FE)\n",
    "plot2(cv_scores_tfidfw2v_alldata_table_FE)"
   ]
  },
  {
   "cell_type": "markdown",
   "metadata": {},
   "source": [
    "### ROC Curve - TfIDF-AvgW2V (with FE)"
   ]
  },
  {
   "cell_type": "code",
   "execution_count": 114,
   "metadata": {},
   "outputs": [
    {
     "data": {
      "image/png": "[encoded data removed]",
      "text/plain": [
       "<Figure size 432x288 with 1 Axes>"
      ]
     },
     "metadata": {},
     "output_type": "display_data"
    },
    {
     "name": "stdout",
     "output_type": "stream",
     "text": [
      "The AUC Score of Train Data using TfIDf-AvgW2V is --  0.9877613647811226\n",
      "The AUC Score of Test  Data using TfIDF-AvgW2V is --  0.9664906691745401\n"
     ]
    }
   ],
   "source": [
    "auc_tfidfw2v_train_FE, auc_tfidfw2v_test_FE  = auc_roc(y_train, pred_tfidfw2v_train_FE, y_test, pred_tfidfw2v_test_FE)\n",
    "print(\"The AUC Score of Train Data using TfIDf-AvgW2V is -- \",auc_tfidfw2v_train_FE)\n",
    "print(\"The AUC Score of Test  Data using TfIDF-AvgW2V is -- \", auc_tfidfw2v_test_FE)"
   ]
  },
  {
   "cell_type": "markdown",
   "metadata": {},
   "source": [
    "### Confusion Matrix - Tfidf-AvgW2V (with FE)"
   ]
  },
  {
   "cell_type": "code",
   "execution_count": 115,
   "metadata": {},
   "outputs": [
    {
     "data": {
      "image/png": "[encoded data removed]",
      "text/plain": [
       "<Figure size 432x288 with 1 Axes>"
      ]
     },
     "metadata": {},
     "output_type": "display_data"
    },
    {
     "data": {
      "image/png": "[encoded data removed]",
      "text/plain": [
       "<Figure size 432x288 with 1 Axes>"
      ]
     },
     "metadata": {},
     "output_type": "display_data"
    }
   ],
   "source": [
    "Confusion_Matrix(y_train,pred_tfidfw2v_train_FE)\n",
    "Confusion_Matrix(y_test,pred_tfidfw2v_test_FE)"
   ]
  },
  {
   "cell_type": "markdown",
   "metadata": {
    "_uuid": "80db1778c8d7cdf71e727d562032c598f6d0b8e5"
   },
   "source": [
    "# [6] Conclusions"
   ]
  },
  {
   "cell_type": "markdown",
   "metadata": {
    "_uuid": "d513401f49c70565f205b174a6b5d65f648dfc8f"
   },
   "source": [
    "Below link is used to understand how to use the PettyTable library. It is pretty interesting to present lot of results in a table format.\n",
    "\n",
    "**Source - **http://zetcode.com/python/prettytable/\n"
   ]
  },
  {
   "cell_type": "code",
   "execution_count": 116,
   "metadata": {},
   "outputs": [],
   "source": [
    "Bow = cv_scores_bow_alldata_table.sort_values(by = 'cv_score', ascending = False)[:1]\n",
    "Bow_FE = cv_scores_bow_alldata_table_FE.sort_values(by = 'cv_score', ascending = False)[:1]\n",
    "Tfidf = cv_scores_tfidf_alldata_table.sort_values(by = 'cv_score', ascending = False)[:1]\n",
    "Tfidf_FE = cv_scores_tfidf_alldata_table_FE.sort_values(by = 'cv_score', ascending = False)[:1]\n",
    "avgw2v = cv_scores_avgw2v_alldata_table.sort_values(by = 'cv_score', ascending = False)[:1]\n",
    "avgw2v_FE = cv_scores_avgw2v_alldata_table_FE.sort_values(by = 'cv_score', ascending = False)[:1]\n",
    "tfidf_w2v = cv_scores_tfidfw2v_alldata_table.sort_values(by = 'cv_score', ascending = False)[:1]\n",
    "tfidf_w2v_FE = cv_scores_tfidfw2v_alldata_table_FE.sort_values(by = 'cv_score', ascending = False)[:1]"
   ]
  },
  {
   "cell_type": "code",
   "execution_count": 117,
   "metadata": {},
   "outputs": [
    {
     "name": "stdout",
     "output_type": "stream",
     "text": [
      "Collecting PTable\r\n",
      "  Downloading https://files.pythonhosted.org/packages/ab/b3/b54301811173ca94119eb474634f120a49cd370f257d1aae5a4abaf12729/PTable-0.9.2.tar.gz\r\n",
      "Building wheels for collected packages: PTable\r\n",
      "  Building wheel for PTable (setup.py) ... \u001b[?25l-\b \bdone\r\n",
      "\u001b[?25h  Stored in directory: /tmp/.cache/pip/wheels/22/cc/2e/55980bfe86393df3e9896146a01f6802978d09d7ebcba5ea56\r\n",
      "Successfully built PTable\r\n",
      "Installing collected packages: PTable\r\n",
      "Successfully installed PTable-0.9.2\r\n",
      "\u001b[33mYou are using pip version 19.0.3, however version 19.1.1 is available.\r\n",
      "You should consider upgrading via the 'pip install --upgrade pip' command.\u001b[0m\r\n"
     ]
    }
   ],
   "source": [
    "!pip3 install PTable"
   ]
  },
  {
   "cell_type": "code",
   "execution_count": 118,
   "metadata": {},
   "outputs": [
    {
     "name": "stdout",
     "output_type": "stream",
     "text": [
      "+-----------------+---------------+--------------+--------------------+--------------------+\n",
      "|      Method     | Maximum_Depth | n_estimators |    Train_Score     |     Test_Score     |\n",
      "+-----------------+---------------+--------------+--------------------+--------------------+\n",
      "|       BoW       |      10.0     |     10.0     | 0.9076426938301156 | 0.8854695782436641 |\n",
      "|      BoW-FE     |      10.0     |     10.0     | 0.9413031867413222 | 0.921014158887148  |\n",
      "|      TfIDF      |      10.0     |     10.0     | 0.9156655408725316 | 0.894431385075128  |\n",
      "|     TfIDF-FE    |      10.0     |     10.0     | 0.9449147033133621 | 0.9254421105641202 |\n",
      "|      AvgW2V     |      10.0     |     10.0     | 0.9860766001761585 | 0.9636959418973732 |\n",
      "|    AvgW2V-FE    |      10.0     |     10.0     | 0.9880884208602365 | 0.971165856659532  |\n",
      "|   Tfidf_AvgW2V  |      10.0     |     10.0     | 0.9878945263755149 | 0.960742816630143  |\n",
      "| Tfidf_AvgW2V-FE |      10.0     |     10.0     | 0.9885149991672889 | 0.9664906691745401 |\n",
      "+-----------------+---------------+--------------+--------------------+--------------------+\n"
     ]
    }
   ],
   "source": [
    "from prettytable import PrettyTable\n",
    "x = PrettyTable()\n",
    "x.field_names = [\"Method\", \"Maximum_Depth\", \"n_estimators\", \"Train_Score\",\"Test_Score\"]\n",
    "\n",
    "x.add_row([\"BoW\", Bow.iloc[0]['max_depth'], Bow.iloc[0]['n_estimators'], Bow.iloc[0]['cv_score'],auc_bow_test])\n",
    "x.add_row([\"BoW-FE\", Bow_FE.iloc[0]['max_depth'], Bow_FE.iloc[0]['n_estimators'], Bow_FE.iloc[0]['cv_score'], auc_bow_test_FE])\n",
    "\n",
    "x.add_row([\"TfIDF\", Tfidf.iloc[0]['max_depth'], Tfidf.iloc[0]['n_estimators'], Tfidf.iloc[0]['cv_score'], auc_tfidf_test])\n",
    "x.add_row([\"TfIDF-FE\", Tfidf_FE.iloc[0]['max_depth'], Tfidf_FE.iloc[0]['n_estimators'], Tfidf_FE.iloc[0]['cv_score'], auc_tfidf_test_FE])\n",
    "\n",
    "x.add_row([\"AvgW2V\", avgw2v.iloc[0]['max_depth'], avgw2v.iloc[0]['n_estimators'], avgw2v.iloc[0]['cv_score'], auc_avgw2v_test])\n",
    "x.add_row([\"AvgW2V-FE\",avgw2v_FE.iloc[0]['max_depth'], avgw2v_FE.iloc[0]['n_estimators'], avgw2v_FE.iloc[0]['cv_score'], auc_avgw2v_test_FE])\n",
    "\n",
    "x.add_row([\"Tfidf_AvgW2V\", tfidf_w2v.iloc[0]['max_depth'], tfidf_w2v.iloc[0]['n_estimators'], tfidf_w2v.iloc[0]['cv_score'], auc_tfidfw2v_test])\n",
    "x.add_row([\"Tfidf_AvgW2V-FE\", tfidf_w2v_FE.iloc[0]['max_depth'], tfidf_w2v_FE.iloc[0]['n_estimators'], tfidf_w2v_FE.iloc[0]['cv_score'], auc_tfidfw2v_test_FE])\n",
    "\n",
    "print(x)"
   ]
  },
  {
   "cell_type": "markdown",
   "metadata": {
    "_uuid": "b1d8f4f98a33d757af7232643b04dc9735468254"
   },
   "source": [
    "## **Observations**"
   ]
  },
  {
   "cell_type": "markdown",
   "metadata": {
    "_uuid": "ddf8155785e17a4e53d977cd46a689e563d5988b"
   },
   "source": [
    "Below are the few observations from the output of the data. We used 25K reviews for the modelling. Below are bullet points of some of the observations we have made in this assignment.\n",
    "\n"
   ]
  }
 ],
 "metadata": {
  "kernelspec": {
   "display_name": "Python 3",
   "language": "python",
   "name": "python3"
  },
  "language_info": {
   "codemirror_mode": {
    "name": "ipython",
    "version": 3
   },
   "file_extension": ".py",
   "mimetype": "text/x-python",
   "name": "python",
   "nbconvert_exporter": "python",
   "pygments_lexer": "ipython3",
   "version": "3.6.6"
  }
 },
 "nbformat": 4,
 "nbformat_minor": 1
}
